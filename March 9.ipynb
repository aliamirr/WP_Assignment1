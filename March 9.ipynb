{
 "cells": [
  {
   "cell_type": "code",
   "execution_count": null,
   "id": "ccb279ee",
   "metadata": {},
   "outputs": [],
   "source": [
    "Q1: What are the Probability Mass Function (PMF) and Probability Density Function (PDF)? Explain with\n",
    "an example."
   ]
  },
  {
   "cell_type": "markdown",
   "id": "27395caf",
   "metadata": {},
   "source": [
    "The Probability Mass Function (PMF) and Probability Density Function (PDF) are two fundamental concepts in probability theory and statistics that describe the probability distribution of a random variable.\n",
    "\n",
    "1) The PMF is used to describe the distribution of a discrete random variable, which takes on a finite or countably infinite number of possible values. The PMF assigns a probability to each possible value of the random variable. In other words, the PMF gives the probability that a random variable takes on a specific value. The PMF is typically denoted by P(X=x), where X is the random variable and x is a specific value.\n",
    "\n",
    "For example, consider the random variable X that represents the number of heads obtained from flipping a fair coin twice. The possible values of X are 0, 1, or 2. The PMF of X is given by:\n",
    "\n",
    "P(X=0) = 1/4\n",
    "P(X=1) = 1/2\n",
    "P(X=2) = 1/4\n",
    "\n",
    "2) The PDF, on the other hand, is used to describe the distribution of a continuous random variable, which can take on any value in a given interval or range. The PDF assigns a probability density to each possible value of the random variable. In other words, the PDF gives the relative likelihood of a random variable taking on a specific value. The PDF is typically denoted by f(X=x), where X is the random variable and x is a specific value.\n",
    "\n",
    "For example, consider the random variable Y that represents the height of adult humans. The possible values of Y are any non-negative real number. The PDF of Y is given by a continuous function, such as the normal distribution:\n",
    "\n",
    "f(Y=y) = (1/σ√(2π))exp(-(y-μ)²/2σ²)\n",
    "\n",
    "where μ and σ are the mean and standard deviation of the distribution, respectively. The PDF describes the relative likelihood of an adult human having a height of y. For example, the PDF tells us that the probability of an adult human having a height of exactly 170 cm is zero, since the height can take on any non-negative real value. However, the PDF does tell us the relative likelihood of an adult human having a height between 160 cm and 180 cm, which can be computed by integrating the PDF over this range."
   ]
  },
  {
   "cell_type": "code",
   "execution_count": null,
   "id": "462d3bd8",
   "metadata": {},
   "outputs": [],
   "source": [
    "Q2: What is Cumulative Density Function (CDF)? Explain with an example. Why CDF is used?"
   ]
  },
  {
   "cell_type": "markdown",
   "id": "6625445b",
   "metadata": {},
   "source": [
    "The Cumulative Density Function (CDF) is a function that gives the probability that a random variable X is less than or equal to a certain value x. In other words, the CDF gives the cumulative probability of a random variable X up to a certain point x. The CDF is denoted by F(x) and is defined as:\n",
    "\n",
    "F(x) = P(X ≤ x)\n",
    "\n",
    "The CDF can be used to calculate probabilities of events involving the random variable X. For example, the probability that X falls within a certain range can be calculated by subtracting the CDF values at the lower and upper bounds of the range. The CDF can also be used to calculate percentiles of the distribution, which are values that divide the distribution into equal parts. For example, the 50th percentile, also known as the median, is the value of x such that F(x) = 0.5.\n",
    "\n",
    "Let's consider an example to better understand the CDF. Suppose we have a fair six-sided die and we roll it once. The possible outcomes are 1, 2, 3, 4, 5, and 6, each with probability 1/6. We can define the random variable X to be the outcome of the roll. The CDF of X is:\n",
    "\n",
    "F(x) = P(X ≤ x) = (number of outcomes ≤ x) / (total number of outcomes)\n",
    "\n",
    "For example, the CDF of X at x=3 is:\n",
    "\n",
    "F(3) = P(X ≤ 3) = (number of outcomes ≤ 3) / (total number of outcomes) = 3/6 = 0.5\n",
    "\n",
    "This tells us that the probability of getting a result less than or equal to 3 on a single roll of a fair six-sided die is 0.5. Similarly, we can compute the CDF at any other value of x.\n",
    "\n",
    "The CDF is used because it provides a complete description of the distribution of a random variable. By knowing the CDF, we can calculate any probability of interest or obtain information about the distribution's percentiles. Additionally, the CDF can be used to compare different distributions and to test hypotheses about them."
   ]
  },
  {
   "cell_type": "code",
   "execution_count": null,
   "id": "91cca7fb",
   "metadata": {},
   "outputs": [],
   "source": [
    "Q3: What are some examples of situations where the normal distribution might be used as a model?\n",
    "Explain how the parameters of the normal distribution relate to the shape of the distribution."
   ]
  },
  {
   "cell_type": "markdown",
   "id": "36ec0f67",
   "metadata": {},
   "source": [
    "The normal distribution is a very common probability distribution used in many fields of science and engineering to model continuous random variables. Some examples of situations where the normal distribution might be used as a model are:\n",
    "\n",
    "1) Heights of adult humans: The normal distribution can be used to model the heights of adult humans. The mean and standard deviation of the distribution would depend on the population being studied.\n",
    "\n",
    "2) IQ scores: The normal distribution can be used to model IQ scores. The mean and standard deviation of the distribution would depend on the population being studied.\n",
    "\n",
    "3) Errors in measurements: The normal distribution can be used to model the errors in measurements in many scientific experiments. The mean of the distribution would be zero and the standard deviation would depend on the precision of the measurement equipment.\n",
    "\n",
    "The parameters of the normal distribution are the mean (μ) and the standard deviation (σ). These parameters determine the shape of the distribution. Specifically:\n",
    "\n",
    "The mean (μ) determines the center of the distribution. It is the point around which the data is symmetrically distributed.\n",
    "The standard deviation (σ) determines the spread of the distribution. A larger value of σ indicates that the data is more spread out, while a smaller value of σ indicates that the data is more tightly clustered around the mean.\n",
    "\n",
    "If μ = 0 and σ = 1, then the normal distribution is known as the standard normal distribution. The shape of the standard normal distribution is bell-shaped and symmetric around the mean. \n",
    "\n",
    "The percentage of the total area under the curve between the mean and one standard deviation away from the mean is approximately 68%, between the mean and two standard deviations away from the mean is approximately 95%, and between the mean and three standard deviations away from the mean is approximately 99.7%."
   ]
  },
  {
   "cell_type": "code",
   "execution_count": null,
   "id": "b2fe890a",
   "metadata": {},
   "outputs": [],
   "source": [
    "Q4: Explain the importance of Normal Distribution. Give a few real-life examples of Normal\n",
    "Distribution."
   ]
  },
  {
   "cell_type": "markdown",
   "id": "3f8360cb",
   "metadata": {},
   "source": [
    "The normal distribution is one of the most important probability distributions in statistics and probability theory. It is a continuous probability distribution that is symmetric, bell-shaped, and unimodal. The importance of the normal distribution stems from the fact that it is used to model many natural phenomena and human-made systems. Some reasons why the normal distribution is important are:\n",
    "\n",
    "1) Many statistical methods assume normality: Many statistical methods, such as hypothesis testing and confidence intervals, assume that the data is normally distributed. Therefore, it is important to check for normality before applying these methods.\n",
    "\n",
    "2) Central Limit Theorem: The normal distribution plays a key role in the Central Limit Theorem, which states that the sum or average of a large number of independent and identically distributed random variables tends to follow a normal distribution, even if the individual variables themselves are not normally distributed.\n",
    "\n",
    "3) Prediction and forecasting: The normal distribution is used to make predictions and forecasts in many fields, such as finance, engineering, and economics. For example, stock prices are often modeled as a normal distribution to predict future stock prices.\n",
    "\n",
    "\n",
    "Some real-life examples of normal distribution are:\n",
    "\n",
    "1) Heights of adult humans: The heights of adult humans follow a normal distribution, with a mean of approximately 5'7\" (170 cm) and a standard deviation of approximately 3 inches (7.62 cm).\n",
    "\n",
    "2) IQ scores: IQ scores follow a normal distribution, with a mean of 100 and a standard deviation of 15.\n",
    "\n",
    "3) Blood pressure: Blood pressure measurements follow a normal distribution, with a mean of 120/80 mmHg and a standard deviation of approximately 10/5 mmHg.\n",
    "\n",
    "4) Test scores: Test scores in a large population of students often follow a normal distribution, with a mean and standard deviation depending on the difficulty of the test and the performance of the students.\n",
    "\n",
    "5) Weight of products: The weight of products produced in a manufacturing process often follows a normal distribution, with a mean and standard deviation depending on the production process and the quality control measures in place."
   ]
  },
  {
   "cell_type": "code",
   "execution_count": null,
   "id": "a9a3076f",
   "metadata": {},
   "outputs": [],
   "source": [
    "Q5: What is Bernaulli Distribution? Give an Example. What is the difference between Bernoulli\n",
    "Distribution and Binomial Distribution?"
   ]
  },
  {
   "cell_type": "markdown",
   "id": "d91c039a",
   "metadata": {},
   "source": [
    "The Bernoulli distribution is a probability distribution that models the outcome of a single trial of a binary event, where the event can either result in success (usually denoted by 1) or failure (usually denoted by 0). The Bernoulli distribution is named after Swiss mathematician Jacob Bernoulli, who first introduced it in 1713.\n",
    "\n",
    "An example of the Bernoulli distribution is flipping a coin, where the event is the coin landing heads or tails. If we define heads as a success (1) and tails as a failure (0), then the outcome of each coin flip can be modeled by a Bernoulli distribution.\n",
    "\n",
    "The Bernoulli distribution is different from the binomial distribution in that the binomial distribution models the number of successes in a fixed number of independent Bernoulli trials. In other words, the binomial distribution is the sum of a fixed number of independent and identically distributed Bernoulli random variables.\n",
    "\n",
    "To illustrate the difference between the Bernoulli distribution and the binomial distribution, consider the example of flipping a coin 10 times. Each individual coin flip can be modeled by a Bernoulli distribution, but the number of heads in 10 coin flips can be modeled by a binomial distribution. The probability mass function (PMF) of the Bernoulli distribution for a single coin flip is:\n",
    "\n",
    "P(X = 1) = p (for success, heads)\n",
    "P(X = 0) = 1-p (for failure, tails)\n",
    "\n",
    "where p is the probability of success (in this case, the probability of the coin landing heads). The PMF of the binomial distribution for the number of heads in 10 coin flips is:\n",
    "\n",
    "P(X = k) = (10 choose k) * p^k * (1-p)^(10-k)\n",
    "\n",
    "where k is the number of heads, and (10 choose k) is the binomial coefficient (the number of ways to choose k items from a set of 10 items).\n",
    "\n",
    "In summary, the Bernoulli distribution models the outcome of a single trial of a binary event, while the binomial distribution models the number of successes in a fixed number of independent and identically distributed Bernoulli trials."
   ]
  },
  {
   "cell_type": "code",
   "execution_count": null,
   "id": "64bf53c4",
   "metadata": {},
   "outputs": [],
   "source": [
    "Q6. Consider a dataset with a mean of 50 and a standard deviation of 10. If we assume that the dataset\n",
    "is normally distributed, what is the probability that a randomly selected observation will be greater\n",
    "than 60? Use the appropriate formula and show your calculations."
   ]
  },
  {
   "cell_type": "markdown",
   "id": "d47546e7",
   "metadata": {},
   "source": [
    "To calculate the probability that a randomly selected observation from a normally distributed dataset with a mean of 50 and a standard deviation of 10 will be greater than 60, we need to use the standard normal distribution and find the area under the curve to the right of the value x = 60.\n",
    "\n",
    "First, we need to calculate the z-score:\n",
    "\n",
    "z = (60 - 50) / 10 = 1\n",
    "\n",
    "Next, we use a standard normal distribution table or calculator to find the area under the curve to the right of z = 1. This is equivalent to finding the area to the left of z = -1, which is 0.1587.\n",
    "\n",
    "Therefore, the probability that a randomly selected observation will be greater than 60 is 1 - 0.1587 = 0.8413 or approximately 84.13%."
   ]
  },
  {
   "cell_type": "code",
   "execution_count": null,
   "id": "e77701c5",
   "metadata": {},
   "outputs": [],
   "source": [
    "Q7: Explain uniform Distribution with an example."
   ]
  },
  {
   "cell_type": "markdown",
   "id": "4e6dcaad",
   "metadata": {},
   "source": [
    "Uniform distribution is a continuous probability distribution where all values within a given interval have an equal probability of occurring. In other words, the distribution is \"uniform\" because each possible outcome has the same likelihood of occurring.\n",
    "\n",
    "For example, consider the distribution of possible outcomes when rolling a fair six-sided die. The value of the roll could be 1, 2, 3, 4, 5, or 6, and each outcome has an equal probability of occurring. Thus, the distribution of possible outcomes for rolling a fair six-sided die follows a uniform distribution.\n",
    "\n",
    "The probability density function (PDF) of a uniform distribution can be represented as:\n",
    "\n",
    "f(x) = 1 / (b - a)\n",
    "\n",
    "where a and b are the lower and upper bounds of the interval.\n",
    "\n",
    "For instance, if we consider a random variable X that follows a uniform distribution between the values of 0 and 10, the PDF of this distribution can be expressed as:\n",
    "\n",
    "f(x) = 1 / (10 - 0) = 0.1\n",
    "\n",
    "for all values of x within the interval [0,10]. This means that any value within this interval has an equal probability of occurring.\n",
    "\n",
    "In summary, a uniform distribution can be thought of as a distribution where all values within a given interval are equally likely to occur."
   ]
  },
  {
   "cell_type": "code",
   "execution_count": null,
   "id": "0e228f5d",
   "metadata": {},
   "outputs": [],
   "source": [
    "Q8: What is the z score? State the importance of the z score."
   ]
  },
  {
   "cell_type": "markdown",
   "id": "d3dab23a",
   "metadata": {},
   "source": [
    "The z-score, also known as the standard score, is a statistical measure that indicates how many standard deviations an observation or data point is from the mean of a normal distribution. It is used to standardize data and make meaningful comparisons between different datasets.\n",
    "\n",
    "The formula for calculating the z-score of an observation is:\n",
    "\n",
    "z = (x - μ) / σ\n",
    "\n",
    "where x is the observation, μ is the mean of the dataset, and σ is the standard deviation of the dataset.\n",
    "\n",
    "The importance of the z-score lies in its ability to standardize data, making it easier to compare different datasets that may have different scales or units of measurement. A z-score of 0 indicates that an observation is exactly at the mean of the dataset, while a z-score of 1 indicates that an observation is 1 standard deviation above the mean, and a z-score of -1 indicates that an observation is 1 standard deviation below the mean. A positive z-score indicates that the observation is above the mean, while a negative z-score indicates that the observation is below the mean.\n",
    "\n",
    "In addition to making comparisons between datasets, z-scores are also used in hypothesis testing and statistical inference to determine the likelihood of observing a particular value or set of values given a normal distribution. By using z-scores, researchers can determine the probability of observing a particular outcome and make informed decisions based on this information."
   ]
  },
  {
   "cell_type": "code",
   "execution_count": null,
   "id": "61225d17",
   "metadata": {},
   "outputs": [],
   "source": [
    "Q9: What is Central Limit Theorem? State the significance of the Central Limit Theorem."
   ]
  },
  {
   "cell_type": "markdown",
   "id": "7d430bcc",
   "metadata": {},
   "source": [
    "The Central Limit Theorem (CLT) is a fundamental theorem in statistics that describes the behavior of the sample means of a population as the sample size increases. It states that as the sample size increases, the distribution of the sample means approaches a normal distribution, regardless of the underlying distribution of the population, as long as the sample size is sufficiently large.\n",
    "\n",
    "In simpler terms, the Central Limit Theorem states that even if the individual observations in a sample are not normally distributed, the mean of a large enough sample will follow a normal distribution. This is important because it allows us to make inferences about a population using a sample, even if the population is not normally distributed.\n",
    "\n",
    "The significance of the Central Limit Theorem is that it provides a powerful tool for statistical inference. By using the CLT, we can make inferences about the population mean and variance based on a sample, even if the population distribution is unknown or not normal. This is critical in many fields, including finance, economics, and social sciences, where researchers often need to draw conclusions about a large population based on a small sample.\n",
    "\n",
    "Moreover, the Central Limit Theorem is used in hypothesis testing, confidence intervals, and other statistical procedures. By assuming that the sample mean follows a normal distribution, we can calculate probabilities and make informed decisions based on statistical inference."
   ]
  },
  {
   "cell_type": "code",
   "execution_count": null,
   "id": "901f5624",
   "metadata": {},
   "outputs": [],
   "source": [
    "Q10: State the assumptions of the Central Limit Theorem."
   ]
  },
  {
   "cell_type": "markdown",
   "id": "0f052c16",
   "metadata": {},
   "source": [
    "The assumptions of the Central Limit Theorem are:\n",
    "\n",
    "1) The random variables being summed or averaged are independent and identically distributed (iid).\n",
    "\n",
    "2) The population from which the random variables are drawn has a finite mean (μ) and a finite variance (σ^2).\n",
    "\n",
    "3) The sample size is large enough. The CLT works well for sample sizes greater than or equal to 30. For smaller sample sizes, the sample distribution may not be normal, and other techniques may be required."
   ]
  }
 ],
 "metadata": {
  "kernelspec": {
   "display_name": "Python 3 (ipykernel)",
   "language": "python",
   "name": "python3"
  },
  "language_info": {
   "codemirror_mode": {
    "name": "ipython",
    "version": 3
   },
   "file_extension": ".py",
   "mimetype": "text/x-python",
   "name": "python",
   "nbconvert_exporter": "python",
   "pygments_lexer": "ipython3",
   "version": "3.10.6"
  }
 },
 "nbformat": 4,
 "nbformat_minor": 5
}
