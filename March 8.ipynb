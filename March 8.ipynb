{
 "cells": [
  {
   "cell_type": "code",
   "execution_count": null,
   "id": "16f4063a",
   "metadata": {},
   "outputs": [],
   "source": [
    "Q1. What is the Probability density function?"
   ]
  },
  {
   "cell_type": "markdown",
   "id": "86842b5f",
   "metadata": {},
   "source": [
    "The Probability Density Function (PDF) is a function that describes the relative likelihood of observing a continuous random variable within a specific range of values. In other words, the PDF gives the probability that a continuous random variable falls within a certain range of values, rather than taking on a specific value. The area under the PDF over a specific interval of values represents the probability of observing a value in that interval.\n",
    "\n",
    "The PDF is defined as the derivative of the Cumulative Distribution Function (CDF), which gives the probability that a continuous random variable is less than or equal to a specific value. The PDF is a non-negative function, and its total area under the curve is equal to one, since the probability of observing the random variable within the entire range of possible values is equal to one.\n",
    "\n",
    "The PDF is a fundamental concept in probability theory and statistics, and is used to describe and model many types of continuous random variables, such as the normal distribution, the uniform distribution, and the exponential distribution, among others. The PDF is an essential tool for calculating probabilities, estimating parameters, and making statistical inferences based on data."
   ]
  },
  {
   "cell_type": "code",
   "execution_count": null,
   "id": "ac7c9e92",
   "metadata": {},
   "outputs": [],
   "source": [
    "Q2. What are the types of Probability distribution?"
   ]
  },
  {
   "cell_type": "markdown",
   "id": "ab776771",
   "metadata": {},
   "source": [
    "There are many types of probability distributions, but some of the most commonly used ones include:\n",
    "\n",
    "1) Binomial distribution: models the probability of observing a certain number of successes in a fixed number of independent trials.\n",
    "\n",
    "2) Poisson distribution: models the probability of observing a certain number of rare events in a fixed interval of time or space.\n",
    "\n",
    "3) Normal distribution: models continuous random variables that are symmetric and bell-shaped, such as measurements of height, weight, and IQ.\n",
    "\n",
    "4) Exponential distribution: models continuous random variables that represent the time between events occurring at a constant rate, such as the time between arrivals of customers at a store.\n",
    "\n",
    "5) Uniform distribution: models continuous random variables that are equally likely to take on any value within a certain range, such as rolling a fair die.\n",
    "\n",
    "These are just a few examples of the many types of probability distributions that are used in probability theory and statistics to model different types of random variables and phenomena."
   ]
  },
  {
   "cell_type": "code",
   "execution_count": null,
   "id": "7e7db40c",
   "metadata": {},
   "outputs": [],
   "source": [
    "Q3. Write a Python function to calculate the probability density function of a normal distribution \n",
    "with given mean and standard deviation at a given point."
   ]
  },
  {
   "cell_type": "code",
   "execution_count": null,
   "id": "04201936",
   "metadata": {},
   "outputs": [],
   "source": [
    "\"\"\"\n",
    "    Args:\n",
    "        1) x (float): The point at which to evaluate the PDF.\n",
    "        2) mu (float): The mean of the normal distribution.\n",
    "        3) sigma (float): The standard deviation of the normal distribution.\n",
    "\n",
    "    Returns:\n",
    "        float: The PDF of the normal distribution at the given point.\n",
    "    \"\"\""
   ]
  },
  {
   "cell_type": "code",
   "execution_count": 1,
   "id": "1443ca35",
   "metadata": {},
   "outputs": [
    {
     "name": "stdout",
     "output_type": "stream",
     "text": [
      "0.24197072451914337\n"
     ]
    }
   ],
   "source": [
    "import math\n",
    "\n",
    "def normal_pdf(x, mu, sigma):\n",
    "    return (1 / (sigma * math.sqrt(2 * math.pi))) * math.exp(-0.5 * ((x - mu) / sigma)**2)\n",
    "\n",
    "pdf = normal_pdf(1, 0, 1)\n",
    "print(pdf)  "
   ]
  },
  {
   "cell_type": "code",
   "execution_count": null,
   "id": "affe14e4",
   "metadata": {},
   "outputs": [],
   "source": [
    "Q4. What are the properties of Binomial distribution? Give two examples of events where binomial\n",
    "distribution can be applied."
   ]
  },
  {
   "cell_type": "markdown",
   "id": "383a9627",
   "metadata": {},
   "source": [
    "The binomial distribution has the following properties:\n",
    "\n",
    "1) The distribution models the probability of observing a certain number of successes in a fixed number of independent trials.\n",
    "\n",
    "2) Each trial has only two possible outcomes: success or failure.\n",
    "\n",
    "3) The trials are independent, meaning that the outcome of one trial does not affect the outcome of any other trial.\n",
    "\n",
    "4) The probability of success is constant for each trial.\n",
    "\n",
    "The distribution is discrete, meaning that it takes on only integer values.\n",
    "Two examples of events where the binomial distribution can be applied are:\n",
    "\n",
    "1) Flipping a coin: When flipping a fair coin, each trial has two possible outcomes (heads or tails), the probability of success (getting heads) is 0.5, and the trials are independent. The binomial distribution can be used to model the probability of getting a certain number of heads in a fixed number of coin flips.\n",
    "\n",
    "2) Drug trials: When testing the effectiveness of a drug, each trial (patient) either responds to the drug or does not respond, the probability of success (responding to the drug) is constant, and the trials are independent. The binomial distribution can be used to model the probability of a certain number of patients responding to the drug in a fixed number of trials."
   ]
  },
  {
   "cell_type": "code",
   "execution_count": null,
   "id": "2d8127c5",
   "metadata": {},
   "outputs": [],
   "source": [
    "Q5. Generate a random sample of size 1000 from a binomial distribution with probability of success 0.4\n",
    "and plot a histogram of the results using matplotlib."
   ]
  },
  {
   "cell_type": "code",
   "execution_count": 6,
   "id": "2bf4ab18",
   "metadata": {},
   "outputs": [
    {
     "data": {
      "image/png": "[encoded data removed]",
      "text/plain": [
       "<Figure size 640x480 with 1 Axes>"
      ]
     },
     "metadata": {},
     "output_type": "display_data"
    }
   ],
   "source": [
    "import numpy as np\n",
    "import matplotlib.pyplot as plt\n",
    "\n",
    "# Set the probability of success and sample size\n",
    "p = 0.48\n",
    "n = 1000\n",
    "\n",
    "# Generate a random sample from the binomial distribution\n",
    "sample = np.random.binomial(n, p, size=1000)\n",
    "\n",
    "# Plot a histogram of the sample using matplotlib\n",
    "plt.hist(sample, bins=30, edgecolor='black')\n",
    "plt.xlabel('Number of successes')\n",
    "plt.ylabel('Frequency')\n",
    "plt.title('Histogram of Binomial Distribution')\n",
    "plt.show()"
   ]
  },
  {
   "cell_type": "code",
   "execution_count": null,
   "id": "fbbf6eee",
   "metadata": {},
   "outputs": [],
   "source": [
    "Q6. Write a Python function to calculate the cumulative distribution function of a Poisson distribution\n",
    "with given mean at a given point."
   ]
  },
  {
   "cell_type": "code",
   "execution_count": null,
   "id": "bd3fdb48",
   "metadata": {},
   "outputs": [],
   "source": [
    "\"\"\"\n",
    "    Parameters:\n",
    "    1) mean (float): The mean of the Poisson distribution.\n",
    "    2) k (int): The point at which to evaluate the CDF.\n",
    "    \n",
    "    Returns:\n",
    "    float: The CDF of the Poisson distribution at the given point.\n",
    "    \"\"\""
   ]
  },
  {
   "cell_type": "code",
   "execution_count": 7,
   "id": "fa3e0bff",
   "metadata": {},
   "outputs": [
    {
     "name": "stdout",
     "output_type": "stream",
     "text": [
      "0.42319008112684353\n"
     ]
    }
   ],
   "source": [
    "import math\n",
    "\n",
    "def poisson_cdf(mean, k):\n",
    "    \n",
    "    cdf = 0.0\n",
    "    for i in range(k+1):\n",
    "        cdf += (mean**i) * math.exp(-mean) / math.factorial(i)\n",
    "    return cdf\n",
    "\n",
    "cdf = poisson_cdf(3, 2)\n",
    "print(cdf)"
   ]
  },
  {
   "cell_type": "code",
   "execution_count": null,
   "id": "15a603be",
   "metadata": {},
   "outputs": [],
   "source": [
    "Q7. How Binomial distribution different from Poisson distribution?"
   ]
  },
  {
   "cell_type": "markdown",
   "id": "b0ae9864",
   "metadata": {},
   "source": [
    "Binomial and Poisson distributions are both discrete probability distributions, but they are used to model different types of events.\n",
    "\n",
    "Binomial distribution is used to model the number of successes in a fixed number of independent trials, where each trial can have only two possible outcomes (success or failure), and the probability of success is constant across all trials. Examples of events that can be modeled using a binomial distribution include the number of heads obtained when flipping a coin a fixed number of times, or the number of defective products in a sample of a fixed size.\n",
    "\n",
    "Poisson distribution, on the other hand, is used to model the number of events occurring in a fixed interval of time or space, where the events occur randomly and independently of each other, and the average rate of occurrence is known. Examples of events that can be modeled using a Poisson distribution include the number of calls received by a call center during a fixed period of time, or the number of cars passing through a busy intersection in a fixed amount of time.\n",
    "\n",
    "While both distributions are discrete, they have different properties. Binomial distribution has a fixed number of trials and a finite range of possible values, while Poisson distribution has an infinite range of possible values. Binomial distribution has two parameters (the number of trials and the probability of success), while Poisson distribution has only one parameter (the mean rate of occurrence). Additionally, as the number of trials in a binomial distribution increases, it approaches a normal distribution, while a Poisson distribution does not.\n",
    "\n",
    "In summary, while both binomial and Poisson distributions are used to model discrete events, they have different characteristics and are used to model different types of events."
   ]
  },
  {
   "cell_type": "code",
   "execution_count": null,
   "id": "36958346",
   "metadata": {},
   "outputs": [],
   "source": [
    "Q8. Generate a random sample of size 1000 from a Poisson distribution with mean 5 and calculate the\n",
    "sample mean and variance."
   ]
  },
  {
   "cell_type": "code",
   "execution_count": 8,
   "id": "2ec1ffd0",
   "metadata": {},
   "outputs": [
    {
     "name": "stdout",
     "output_type": "stream",
     "text": [
      "Sample mean: 4.919\n",
      "Sample variance: 5.035474474474475\n"
     ]
    }
   ],
   "source": [
    "import numpy as np\n",
    "\n",
    "# Set the random seed for reproducibility\n",
    "np.random.seed(123)\n",
    "\n",
    "# Generate a random sample of size 1000 from a Poisson distribution with mean 5\n",
    "sample = np.random.poisson(5, size=1000)\n",
    "\n",
    "# Calculate the sample mean and variance\n",
    "sample_mean = np.mean(sample)\n",
    "sample_var = np.var(sample, ddof=1)\n",
    "\n",
    "# Print the results\n",
    "print(\"Sample mean:\", sample_mean)\n",
    "print(\"Sample variance:\", sample_var)"
   ]
  },
  {
   "cell_type": "code",
   "execution_count": null,
   "id": "4ed39f36",
   "metadata": {},
   "outputs": [],
   "source": [
    "'''\n",
    "Here the sample mean is close to the true mean of the Poisson distribution (which is also 5)\n",
    ", and the sample variance is slightly larger than the true variance (which is also 5). This\n",
    "is expected because the sample variance is an unbiased estimator of the population variance,\n",
    "but it has some variability itself due to sampling.\n",
    "'''"
   ]
  },
  {
   "cell_type": "code",
   "execution_count": null,
   "id": "9f856eb1",
   "metadata": {},
   "outputs": [],
   "source": [
    "Q9. How mean and variance are related in Binomial distribution and Poisson distribution?"
   ]
  },
  {
   "cell_type": "markdown",
   "id": "78ae4c0b",
   "metadata": {},
   "source": [
    "In a binomial distribution, the mean (μ) is equal to the product of the number of trials (n) and the probability of success (p), i.e., μ = np. The variance (σ²) is equal to the product of the number of trials, the probability of success, and the probability of failure (q = 1 - p), i.e., σ² = npq.\n",
    "\n",
    "In a Poisson distribution, the mean (μ) is equal to the parameter λ, which is the average rate of occurrence of events in the fixed interval of time or space. The variance (σ²) is also equal to λ.\n",
    "\n",
    "Therefore, in both binomial and Poisson distributions, the variance is proportional to the mean. Specifically, in a binomial distribution, the variance is equal to npq, which is equal to μ(1 - p), and thus the variance decreases as the probability of success increases. In a Poisson distribution, the variance is equal to the mean, and thus the variance is equal to the square of the standard deviation. In both cases, as the mean increases, so does the variance.\n",
    "\n",
    "It is also worth noting that as the number of trials in a binomial distribution becomes very large and the probability of success becomes very small, the binomial distribution approaches the Poisson distribution. This means that in this limit, the mean and variance of the binomial distribution are equal to the mean and variance of the Poisson distribution, which is λ."
   ]
  },
  {
   "cell_type": "code",
   "execution_count": null,
   "id": "27fffca1",
   "metadata": {},
   "outputs": [],
   "source": [
    "Q10. In normal distribution with respect to mean position, where does the least frequent data appear?"
   ]
  },
  {
   "cell_type": "markdown",
   "id": "aecab9f4",
   "metadata": {},
   "source": [
    "In a normal distribution, the least frequent data appears in the tails of the distribution, which are the regions farthest from the mean. The normal distribution is a symmetric distribution, so half of the data lies to the left of the mean and half lies to the right. The tails of the distribution extend to infinity in both directions, but the probability of observing data in the tails decreases rapidly as you move away from the mean.\n",
    "\n",
    "Specifically, about 68% of the data in a normal distribution lies within one standard deviation of the mean, 95% lies within two standard deviations of the mean, and 99.7% lies within three standard deviations of the mean. Therefore, the least frequent data (i.e., the data that lies outside of three standard deviations from the mean) appears in the tails of the distribution."
   ]
  }
 ],
 "metadata": {
  "kernelspec": {
   "display_name": "Python 3 (ipykernel)",
   "language": "python",
   "name": "python3"
  },
  "language_info": {
   "codemirror_mode": {
    "name": "ipython",
    "version": 3
   },
   "file_extension": ".py",
   "mimetype": "text/x-python",
   "name": "python",
   "nbconvert_exporter": "python",
   "pygments_lexer": "ipython3",
   "version": "3.10.6"
  }
 },
 "nbformat": 4,
 "nbformat_minor": 5
}
