{
 "cells": [
  {
   "cell_type": "code",
   "execution_count": null,
   "id": "dc09a18e",
   "metadata": {},
   "outputs": [],
   "source": [
    "Q1. Write a Python function that takes in two arrays of data and calculates the F-value for a variance ratio\n",
    "test. The function should return the F-value and the corresponding p-value for the test."
   ]
  },
  {
   "cell_type": "code",
   "execution_count": 3,
   "id": "c5b08793",
   "metadata": {},
   "outputs": [
    {
     "name": "stdout",
     "output_type": "stream",
     "text": [
      "F-value: 1.00\n",
      "P-value: 0.5000\n"
     ]
    }
   ],
   "source": [
    "import numpy as np\n",
    "from scipy.stats import f\n",
    "\n",
    "def var_ratio_test(arr1, arr2):\n",
    "    #calculate the variances of each array\n",
    "    var1 = np.var(arr1, ddof=1)\n",
    "    var2 = np.var(arr2, ddof=1)\n",
    "\n",
    "    #calculate the F-value\n",
    "    f_value = var1 / var2\n",
    "\n",
    "    #calculate the degrees of freedom\n",
    "    df1 = len(arr1) - 1\n",
    "    df2 = len(arr2) - 1\n",
    "\n",
    "    #calculate the p-value\n",
    "    p_value = f.cdf(f_value, df1, df2)\n",
    "\n",
    "    return f_value, p_value\n",
    "\n",
    "arr1 = [1, 2, 3, 4, 5]\n",
    "arr2 = [6, 7, 8, 9, 10]\n",
    "\n",
    "f_value, p_value = var_ratio_test(arr1, arr2)\n",
    "\n",
    "print(f\"F-value: {f_value:.2f}\")\n",
    "print(f\"P-value: {p_value:.4f}\")"
   ]
  },
  {
   "cell_type": "code",
   "execution_count": null,
   "id": "6d5afd2f",
   "metadata": {},
   "outputs": [],
   "source": [
    "Q2. Given a significance level of 0.05 and the degrees of freedom for the numerator and denominator of an\n",
    "F-distribution, write a Python function that returns the critical F-value for a two-tailed test."
   ]
  },
  {
   "cell_type": "code",
   "execution_count": 4,
   "id": "cb412d2b",
   "metadata": {},
   "outputs": [
    {
     "name": "stdout",
     "output_type": "stream",
     "text": [
      "Critical F-value: 4.0768\n"
     ]
    }
   ],
   "source": [
    "from scipy.stats import f\n",
    "\n",
    "def critical_f_value(dfn,dfd, alpha=0.05):\n",
    "    f_crit = f.ppf(1-alpha/2, dfn, dfd)\n",
    "\n",
    "    return f_crit\n",
    "\n",
    "dfn = 3\n",
    "dfd = 16\n",
    "alpha = 0.05\n",
    "\n",
    "f_crit = critical_f_value(dfn, dfd, alpha)\n",
    "\n",
    "print(f\"Critical F-value: {f_crit:.4f}\")"
   ]
  },
  {
   "cell_type": "code",
   "execution_count": null,
   "id": "b2228cd8",
   "metadata": {},
   "outputs": [],
   "source": [
    "Q3. Write a Python program that generates random samples from two normal distributions with known\n",
    "\n",
    "variances and uses an F-test to determine if the variances are equal. The program should output the F-\n",
    "value, degrees of freedom, and p-value for the test."
   ]
  },
  {
   "cell_type": "code",
   "execution_count": 5,
   "id": "72c93768",
   "metadata": {},
   "outputs": [
    {
     "name": "stdout",
     "output_type": "stream",
     "text": [
      "The null hypothesis that the variances are equal is not rejected.\n",
      "F-value: 1.7070\n",
      "Degrees of freedom (numerator): 19\n",
      "Degrees of freedom (denominator): 19\n",
      "P-value: 0.1264\n"
     ]
    }
   ],
   "source": [
    "import numpy as np\n",
    "from scipy.stats import f\n",
    "\n",
    "def f_test(sample1, sample2, var1, var2, alpha=0.05):\n",
    "    s1_var = np.var(sample1, ddof=1)\n",
    "    s2_var = np.var(sample2, ddof=1)\n",
    "\n",
    "    f_value = s1_var / s2_var if s1_var > s2_var else s2_var / s1_var\n",
    "\n",
    "    dfn = len(sample1) - 1 if s1_var > s2_var else len(sample2) - 1\n",
    "    dfd = len(sample2) - 1 if s1_var > s2_var else len(sample1) - 1\n",
    "\n",
    "    p_value = f.sf(f_value, dfn, dfd)\n",
    "\n",
    "    if p_value < alpha:\n",
    "        print(\"The null hypothesis that the variances are equal is rejected.\")\n",
    "    else:\n",
    "        print(\"The null hypothesis that the variances are equal is not rejected.\")\n",
    "\n",
    "    return f_value, dfn, dfd, p_value\n",
    "\n",
    "\n",
    "np.random.seed(123)\n",
    "\n",
    "#generate two random samples from normal distributions with known variances\n",
    "sample1 = np.random.normal(10, 2, size=20)\n",
    "sample2 = np.random.normal(10, 3, size=20)\n",
    "\n",
    "#perform an F-test to determine if the variances are equal\n",
    "f_value, dfn, dfd, p_value = f_test(sample1, sample2, var1=2**2, var2=3**2)\n",
    "\n",
    "print(f\"F-value: {f_value:.4f}\")\n",
    "print(f\"Degrees of freedom (numerator): {dfn}\")\n",
    "print(f\"Degrees of freedom (denominator): {dfd}\")\n",
    "print(f\"P-value: {p_value:.4f}\")"
   ]
  },
  {
   "cell_type": "code",
   "execution_count": null,
   "id": "0448415e",
   "metadata": {},
   "outputs": [],
   "source": [
    "Q4.The variances of two populations are known to be 10 and 15. A sample of 12 observations is taken from\n",
    "each population. Conduct an F-test at the 5% significance level to determine if the variances are\n",
    "significantly different."
   ]
  },
  {
   "cell_type": "markdown",
   "id": "800f9e41",
   "metadata": {},
   "source": [
    "The null hypothesis is that the variances are equal, and the alternative hypothesis is that they are different.\n",
    "\n",
    "Here are the steps to conduct the F-test:\n",
    "\n",
    "Step 1: Calculate the sample variances for each population.\n",
    "\n",
    "s1^2 = 10\n",
    "s2^2 = 15\n",
    "\n",
    "Step 2: Calculate the F-statistic using the formula:\n",
    "\n",
    "F = s1^2 / s2^2\n",
    "\n",
    "F = 10 / 15\n",
    "\n",
    "F = 0.67\n",
    "\n",
    "Step 3: Calculate the critical value from the F-distribution table.\n",
    "\n",
    "We have 11 degrees of freedom for each sample (n-1 = 12-1 = 11).\n",
    "\n",
    "Using a significance level of 0.05 and degrees of freedom 11 and 11, we find the critical value to be 2.818.\n",
    "\n",
    "Step 4: Compare the F-statistic with the critical value.\n",
    "\n",
    "Since 0.67 < 2.818, we fail to reject the null hypothesis.\n",
    "\n",
    "Conclusion:\n",
    "\n",
    "There is not enough evidence to suggest that the variances of the two populations are significantly different at the 5% significance level."
   ]
  },
  {
   "cell_type": "code",
   "execution_count": null,
   "id": "25746500",
   "metadata": {},
   "outputs": [],
   "source": [
    "Q5. A manufacturer claims that the variance of the diameter of a certain product is 0.005. A sample of 25\n",
    "products is taken, and the sample variance is found to be 0.006. Conduct an F-test at the 1% significance\n",
    "level to determine if the claim is justified."
   ]
  },
  {
   "cell_type": "markdown",
   "id": "f207d128",
   "metadata": {},
   "source": [
    "Null hypothesis: The variance of the diameter of the product is equal to 0.005.\n",
    "\n",
    "Alternative hypothesis: The variance of the diameter of the product is greater than 0.005.\n",
    "\n",
    "Level of significance, α = 0.01\n",
    "\n",
    "Sample size, n = 25\n",
    "\n",
    "Sample variance, s^2 = 0.006\n",
    "\n",
    "Degrees of freedom for the numerator = n - 1 = 25 - 1 = 24\n",
    "\n",
    "Degrees of freedom for the denominator = n - 1 = 25 - 1 = 24\n",
    "\n",
    "The F-statistic can be calculated as:\n",
    "\n",
    "F = (s^2) / (population variance) = 0.006 / 0.005 = 1.2\n",
    "\n",
    "Using an F-table with degrees of freedom for the numerator = 24 and degrees of freedom for the denominator = 24 and a level of significance of 0.01, the critical value for the F-test is found to be 2.659.\n",
    "\n",
    "Since the calculated F-value of 1.2 is less than the critical value of 2.659, we fail to reject the null hypothesis. Therefore, there is not enough evidence to conclude that the variance of the diameter of the product is significantly different from 0.005 at the 1% significance level."
   ]
  },
  {
   "cell_type": "code",
   "execution_count": null,
   "id": "e9771fcf",
   "metadata": {},
   "outputs": [],
   "source": [
    "Q6. Write a Python function that takes in the degrees of freedom for the numerator and denominator of an\n",
    "F-distribution and calculates the mean and variance of the distribution. The function should return the\n",
    "mean and variance as a tuple."
   ]
  },
  {
   "cell_type": "code",
   "execution_count": 6,
   "id": "e80c5a7a",
   "metadata": {},
   "outputs": [
    {
     "name": "stdout",
     "output_type": "stream",
     "text": [
      "Mean:  1.25\n",
      "Variance:  1.3541666666666667\n"
     ]
    }
   ],
   "source": [
    "import numpy as np\n",
    "from scipy.stats import f\n",
    "\n",
    "def f_distribution_mean_var(dfn, dfd):\n",
    "    mean = dfd / (dfd - 2)\n",
    "    variance = (2 * dfd**2 * (dfn + dfd - 2)) / (dfn * (dfd - 2)**2 * (dfd - 4))\n",
    "    return (mean, variance)\n",
    "\n",
    "mean, variance = f_distribution_mean_var(5, 10)\n",
    "print(\"Mean: \", mean)\n",
    "print(\"Variance: \", variance)"
   ]
  },
  {
   "cell_type": "code",
   "execution_count": null,
   "id": "cd447ae7",
   "metadata": {},
   "outputs": [],
   "source": [
    "Q7. A random sample of 10 measurements is taken from a normal population with unknown variance. The\n",
    "sample variance is found to be 25. Another random sample of 15 measurements is taken from another\n",
    "normal population with unknown variance, and the sample variance is found to be 20. Conduct an F-test\n",
    "at the 10% significance level to determine if the variances are significantly different."
   ]
  },
  {
   "cell_type": "markdown",
   "id": "e7ab39ae",
   "metadata": {},
   "source": [
    "To conduct an F-test to determine if the variances of two populations are significantly different, we need to set up the following hypotheses:\n",
    "\n",
    "Null hypothesis: The variances of the two populations are equal.\n",
    "Alternative hypothesis: The variances of the two populations are not equal.\n",
    "We can use the F-test statistic and compare it with the critical value from the F-distribution to make a decision. The F-test statistic is calculated as the ratio of the sample variances, where the larger variance is in the numerator.\n",
    "\n",
    "In this case, we have:\n",
    "\n",
    "Sample 1: n1 = 10, s1^2 = 25\n",
    "Sample 2: n2 = 15, s2^2 = 20\n",
    "So, the F-test statistic is:\n",
    "\n",
    "F = s1^2 / s2^2 = 25 / 20 = 1.25\n",
    "\n",
    "To find the critical value from the F-distribution with 9 and 14 degrees of freedom (10 - 1 and 15 - 1), at the 10% significance level, we can use a calculator or a statistical table. From a statistical table, we find that the critical value is approximately 2.122.\n",
    "\n",
    "Since our calculated F-test statistic (1.25) is less than the critical value (2.122), we fail to reject the null hypothesis. Therefore, we do not have sufficient evidence to conclude that the variances of the two populations are significantly different at the 10% significance level."
   ]
  },
  {
   "cell_type": "code",
   "execution_count": 9,
   "id": "af1c14dd",
   "metadata": {},
   "outputs": [
    {
     "name": "stdout",
     "output_type": "stream",
     "text": [
      "Critical value from F table: 5.05\n"
     ]
    }
   ],
   "source": [
    "import scipy.stats as stats\n",
    "\n",
    "df1 = 5\n",
    "df2 = 5\n",
    "alpha = 0.05\n",
    "\n",
    "# Find the critical value from the F table\n",
    "critical_value = stats.f.ppf(1 - alpha, df1, df2)\n",
    "\n",
    "print(\"Critical value from F table:\", round(critical_value, 3))"
   ]
  },
  {
   "cell_type": "code",
   "execution_count": null,
   "id": "ece5fe44",
   "metadata": {},
   "outputs": [],
   "source": [
    "Q8. The following data represent the waiting times in minutes at two different restaurants on a Saturday\n",
    "night: Restaurant A: 24, 25, 28, 23, 22, 20, 27; Restaurant B: 31, 33, 35, 30, 32, 36. Conduct an F-test at the 5%\n",
    "significance level to determine if the variances are significantly different."
   ]
  },
  {
   "cell_type": "markdown",
   "id": "02b47a84",
   "metadata": {},
   "source": [
    "<img src=\"Question8.png\">"
   ]
  },
  {
   "cell_type": "markdown",
   "id": "e49f4a19",
   "metadata": {},
   "source": [
    "<img src=\"Question82nd.png\">"
   ]
  },
  {
   "cell_type": "code",
   "execution_count": null,
   "id": "459519b9",
   "metadata": {},
   "outputs": [],
   "source": [
    "Q9. The following data represent the test scores of two groups of students: Group A: 80, 85, 90, 92, 87, 83;\n",
    "Group B: 75, 78, 82, 79, 81, 84. Conduct an F-test at the 1% significance level to determine if the variances\n",
    "are significantly different."
   ]
  },
  {
   "cell_type": "markdown",
   "id": "30255a89",
   "metadata": {},
   "source": [
    "<img src=\"Question9.jpg\">"
   ]
  },
  {
   "cell_type": "markdown",
   "id": "bb024e4e",
   "metadata": {},
   "source": [
    "<img src=\"Question92nd.jpg\">"
   ]
  },
  {
   "cell_type": "code",
   "execution_count": null,
   "id": "dfc6ead2",
   "metadata": {},
   "outputs": [],
   "source": []
  }
 ],
 "metadata": {
  "kernelspec": {
   "display_name": "Python 3 (ipykernel)",
   "language": "python",
   "name": "python3"
  },
  "language_info": {
   "codemirror_mode": {
    "name": "ipython",
    "version": 3
   },
   "file_extension": ".py",
   "mimetype": "text/x-python",
   "name": "python",
   "nbconvert_exporter": "python",
   "pygments_lexer": "ipython3",
   "version": "3.10.6"
  }
 },
 "nbformat": 4,
 "nbformat_minor": 5
}
