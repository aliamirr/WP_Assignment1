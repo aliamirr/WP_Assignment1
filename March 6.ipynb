{
 "cells": [
  {
   "cell_type": "code",
   "execution_count": null,
   "id": "6fd94610",
   "metadata": {},
   "outputs": [],
   "source": [
    "Q1. What is Statistics?"
   ]
  },
  {
   "cell_type": "markdown",
   "id": "0a83daf2",
   "metadata": {},
   "source": [
    "Statistics is a branch of mathematics that involves the collection, analysis, interpretation, presentation, and organization of numerical data. It deals with methods for collecting, summarizing, and analyzing data to draw conclusions or make decisions based on the information gathered. \n",
    "\n",
    "Statistical techniques can be used to make predictions, test hypotheses, and understand relationships between variables. It is used in various fields such as business, economics, healthcare, social sciences, and engineering to make informed decisions and solve problems."
   ]
  },
  {
   "cell_type": "code",
   "execution_count": null,
   "id": "e13dbcab",
   "metadata": {},
   "outputs": [],
   "source": [
    "Q2. Define the different types of statistics and give an example of when each type might be used."
   ]
  },
  {
   "cell_type": "markdown",
   "id": "5819cfc9",
   "metadata": {},
   "source": [
    "There are two main types of statistics: descriptive statistics and inferential statistics.\n",
    "\n",
    "1) Descriptive Statistics: Descriptive statistics is the branch of statistics that deals with the collection, organization, and summarization of data. It describes the basic features of data in a concise manner, such as measures of central tendency (mean, median, mode) and measures of variability (range, standard deviation).\n",
    "\n",
    "Example: A survey of a company's employees to determine the average age of the workforce. Descriptive statistics would be used to calculate the mean age of the employees, the range of ages, and the most common age group.\n",
    "\n",
    "2) Inferential Statistics: Inferential statistics is the branch of statistics that deals with drawing conclusions and making inferences about a population based on a sample. It involves using sample data to make predictions or generalizations about the larger population from which the sample was drawn.\n",
    "\n",
    "Example: A political pollster takes a random sample of voters and uses inferential statistics to determine what percentage of the population would vote for a particular candidate in an upcoming election. The pollster would use inferential statistics to determine the margin of error and the confidence interval for the poll results."
   ]
  },
  {
   "cell_type": "code",
   "execution_count": null,
   "id": "ea18fba2",
   "metadata": {},
   "outputs": [],
   "source": [
    "Q3. What are the different types of data and how do they differ from each other? Provide an example of\n",
    "each type of data."
   ]
  },
  {
   "cell_type": "markdown",
   "id": "a923933e",
   "metadata": {},
   "source": [
    "There are four main types of data: nominal, ordinal, interval, and ratio.\n",
    "\n",
    "1) Nominal Data: Nominal data consists of categorical variables with no inherent order or numerical value. Nominal data can be binary (having only two categories) or have multiple categories.\n",
    "\n",
    "Example: The color of a car (e.g. red, blue, green) or the type of fruit (e.g. apple, banana, orange)\n",
    "\n",
    "2) Ordinal Data: Ordinal data consists of categorical variables with an inherent order, but no fixed numerical distance between values.\n",
    "\n",
    "Example: The level of education completed (e.g. high school, some college, bachelor's degree, master's degree, PhD) or the rank of a runner in a race (e.g. 1st, 2nd, 3rd)\n",
    "\n",
    "3) Interval Data: Interval data is numeric data with a fixed numerical distance between values, but no true zero point.\n",
    "\n",
    "Example: Temperature in Celsius or Fahrenheit, where zero does not represent an absence of temperature but rather a specific point on the scale.\n",
    "\n",
    "4) Ratio Data: Ratio data is numeric data with a fixed numerical distance between values and a true zero point, meaning that zero represents an absence of the variable being measured.\n",
    "\n",
    "Example: Height, weight, or income, where a value of zero indicates a complete absence of the variable being measured."
   ]
  },
  {
   "cell_type": "code",
   "execution_count": null,
   "id": "2b4d9c30",
   "metadata": {},
   "outputs": [],
   "source": [
    "Q4. Categorise the following datasets with respect to quantitative and qualitative data types:\n",
    "(i) Grading in exam: A+, A, B+, B, C+, C, D, E\n",
    "(ii) Colour of mangoes: yellow, green, orange, red\n",
    "(iii) Height data of a class: [178.9, 179, 179.5, 176, 177.2, 178.3, 175.8,...]\n",
    "(iv) Number of mangoes exported by a farm: [500, 600, 478, 672, ...]"
   ]
  },
  {
   "cell_type": "code",
   "execution_count": null,
   "id": "438b6ce5",
   "metadata": {},
   "outputs": [],
   "source": [
    "(i)   qualitative data type\n",
    "(ii)  qualitative data type\n",
    "(iii) quantitative data type\n",
    "(iv)  quantitative data type"
   ]
  },
  {
   "cell_type": "code",
   "execution_count": null,
   "id": "422e351c",
   "metadata": {},
   "outputs": [],
   "source": [
    "Q5. Explain the concept of levels of measurement and give an example of a variable for each level."
   ]
  },
  {
   "cell_type": "markdown",
   "id": "ef19b4b6",
   "metadata": {},
   "source": [
    "There are four commonly recognized levels of measurement: nominal, ordinal, interval, and ratio.\n",
    "\n",
    "1) Nominal: This level of measurement is used for variables that are categorical in nature, with no inherent order or numerical value. Examples of variables at the nominal level include gender, eye color, and type of car.\n",
    "\n",
    "2) Ordinal: This level of measurement is used for variables that have an inherent order or ranking, but no fixed numerical distance between values. Examples of variables at the ordinal level include education level, economic status, and level of agreement (e.g. strongly agree, agree, neutral, disagree, strongly disagree).\n",
    "\n",
    "3) Interval: This level of measurement is used for variables that have a fixed numerical distance between values, but no true zero point. Examples of variables at the interval level include temperature in Celsius or Fahrenheit, where zero does not represent an absence of temperature but rather a specific point on the scale.\n",
    "\n",
    "4) Ratio: This level of measurement is used for variables that have a fixed numerical distance between values and a true zero point, meaning that zero represents an absence of the variable being measured. Examples of variables at the ratio level include height, weight, and income."
   ]
  },
  {
   "cell_type": "code",
   "execution_count": null,
   "id": "7319eea7",
   "metadata": {},
   "outputs": [],
   "source": [
    "Q6. Why is it important to understand the level of measurement when analyzing data? Provide an\n",
    "example to illustrate your answer."
   ]
  },
  {
   "cell_type": "markdown",
   "id": "7a21f250",
   "metadata": {},
   "source": [
    "Understanding the level of measurement of a variable is important because it determines the type of statistical analysis that can be used. Each level of measurement has its own set of appropriate statistical methods and tests, and using the wrong methods can lead to inaccurate or misleading results.\n",
    "\n",
    "For example, if a researcher is analyzing data on customer satisfaction levels using a Likert scale (e.g. strongly agree, agree, neutral, disagree, strongly disagree), the variable would be considered ordinal. In this case, using a mean or average to summarize the data may not be appropriate, as the numerical values assigned to each response category do not have equal intervals. Instead, a researcher might use a mode or median to summarize the data or use nonparametric statistical tests like the Kruskal-Wallis test to compare satisfaction levels across different groups.\n",
    "\n",
    "On the other hand, if the researcher was analyzing data on the income levels of customers, the variable would be considered ratio. In this case, using a mean or average would be appropriate, as the numerical values have equal intervals and a true zero point. The researcher could also use parametric statistical tests like t-tests or ANOVA to compare income levels across different groups.\n",
    "\n",
    "In summary, understanding the level of measurement is important to choose appropriate statistical methods and to accurately interpret and communicate results."
   ]
  },
  {
   "cell_type": "code",
   "execution_count": null,
   "id": "ea0713fb",
   "metadata": {},
   "outputs": [],
   "source": [
    "Q7. How nominal data type is different from ordinal data type."
   ]
  },
  {
   "cell_type": "markdown",
   "id": "b964564b",
   "metadata": {},
   "source": [
    "Nominal data is a categorical variable with no inherent order or ranking. Examples of nominal data include gender (male or female), color (red, green, blue), and marital status (single, married, divorced). The categories in nominal data are mutually exclusive, meaning that each observation can only belong to one category.\n",
    "\n",
    "Ordinal data, on the other hand, is a categorical variable that has an inherent order or ranking. Examples of ordinal data include education level (elementary, high school, bachelor's degree, master's degree), socioeconomic status (low, middle, high), and level of satisfaction (very satisfied, somewhat satisfied, neutral, somewhat dissatisfied, very dissatisfied). The categories in ordinal data are ordered or ranked, meaning that each observation can be compared to other observations based on the order or ranking.\n",
    "\n",
    "The key difference between nominal and ordinal data is the presence or absence of order or ranking. While nominal data is used to classify data into categories, ordinal data is used to classify data into categories with a specific order or ranking. Therefore, ordinal data can be thought of as a type of categorical data, but with additional information about the relative positions of the categories."
   ]
  },
  {
   "cell_type": "code",
   "execution_count": null,
   "id": "89bad7e5",
   "metadata": {},
   "outputs": [],
   "source": [
    "Q8. Which type of plot can be used to display data in terms of range?"
   ]
  },
  {
   "cell_type": "markdown",
   "id": "ee182971",
   "metadata": {},
   "source": [
    "A box plot (also known as a box-and-whisker plot) can be used to display data in terms of range. A box plot displays the distribution of a dataset by showing the median, quartiles, and range of the data.\n",
    "\n",
    "The box in a box plot represents the middle 50% of the data, with the bottom of the box representing the first quartile (25th percentile) and the top of the box representing the third quartile (75th percentile). The line inside the box represents the median (50th percentile). The whiskers of the plot extend from the box to the minimum and maximum values of the data or to a specified range of values. Points outside the whiskers are considered outliers.\n",
    "\n",
    "By using a box plot, one can easily see the range of the data and how spread out it is, including the outliers. This plot can be useful when comparing ranges across different groups or when looking for differences in the distribution of a dataset."
   ]
  },
  {
   "cell_type": "code",
   "execution_count": null,
   "id": "8c481ff0",
   "metadata": {},
   "outputs": [],
   "source": [
    "Q9. Describe the difference between descriptive and inferential statistics. Give an example of each\n",
    "type of statistics and explain how they are used."
   ]
  },
  {
   "cell_type": "markdown",
   "id": "be1f3e67",
   "metadata": {},
   "source": [
    "1) Descriptive statistics refers to the methods used to summarize and describe the main features of a dataset. It involves calculating measures of central tendency (such as the mean, median, and mode) and measures of variability (such as the range, standard deviation, and variance). \n",
    "Descriptive statistics can be used to provide a quantitative summary of the data, identify patterns or trends, and summarize the main characteristics of a dataset.\n",
    "\n",
    "For example, suppose a researcher wants to describe the height of a group of people. The researcher can calculate the mean, median, and mode height of the group and the range, standard deviation, and variance of the height. These measures can provide a summary of the central tendency and variability of the height of the group, which can help the researcher understand the characteristics of the data.\n",
    "\n",
    "2) Inferential statistics, on the other hand, involves making inferences and conclusions about a population based on a sample of data. It involves using probability theory and statistical techniques to estimate population parameters and test hypotheses. \n",
    "Inferential statistics can be used to make predictions about a population based on sample data and to test whether observed differences between groups are statistically significant.\n",
    "\n",
    "For example, suppose a researcher wants to know if there is a significant difference in height between men and women. The researcher can take a sample of men and women and use inferential statistics to test whether the difference in height between the groups is statistically significant. This involves calculating a test statistic (such as a t-test) and determining the probability of observing such a result by chance. If the probability is low (below a predetermined level of significance), the researcher can conclude that there is a significant difference in height between men and women in the population.\n",
    "\n",
    "In summary, descriptive statistics is used to summarize and describe the main features of a dataset, while inferential statistics is used to make inferences and conclusions about a population based on a sample of data."
   ]
  },
  {
   "cell_type": "code",
   "execution_count": null,
   "id": "a83b845d",
   "metadata": {},
   "outputs": [],
   "source": [
    "Q10. What are some common measures of central tendency and variability used in statistics? Explain\n",
    "how each measure can be used to describe a dataset."
   ]
  },
  {
   "cell_type": "markdown",
   "id": "569079fc",
   "metadata": {},
   "source": [
    "There are several common measures of central tendency and variability used in statistics:\n",
    "\n",
    "1) Mean: The mean is the sum of all the data points divided by the total number of data points. It represents the \"average\" value of the data. The mean is sensitive to outliers, so extreme values can affect the value of the mean. The mean can be used to describe the \"typical\" value of the data.\n",
    "\n",
    "2) Median: The median is the middle value in a dataset when the data is arranged in order. It is not affected by outliers, so it is a better measure of central tendency than the mean in datasets with extreme values. The median can be used to describe the \"middle\" value of the data.\n",
    "\n",
    "3) Mode: The mode is the most common value in a dataset. It is used to describe the most frequent value or category in the data.\n",
    "\n",
    "4) Range: The range is the difference between the largest and smallest values in a dataset. It gives an idea of how spread out the data is.\n",
    "\n",
    "5) Variance: Variance is a measure of how spread out the data is around the mean. It is calculated by subtracting each data point from the mean, squaring the differences, adding them up, and dividing by the total number of data points. Variance can be used to describe how much the data deviates from the mean.\n",
    "\n",
    "5) Standard deviation: Standard deviation is the square root of the variance. It is a measure of how much the data deviates from the mean. A small standard deviation means the data is clustered around the mean, while a large standard deviation means the data is more spread out. Standard deviation can be used to describe how much the data deviates from the mean."
   ]
  }
 ],
 "metadata": {
  "kernelspec": {
   "display_name": "Python 3 (ipykernel)",
   "language": "python",
   "name": "python3"
  },
  "language_info": {
   "codemirror_mode": {
    "name": "ipython",
    "version": 3
   },
   "file_extension": ".py",
   "mimetype": "text/x-python",
   "name": "python",
   "nbconvert_exporter": "python",
   "pygments_lexer": "ipython3",
   "version": "3.10.6"
  }
 },
 "nbformat": 4,
 "nbformat_minor": 5
}
