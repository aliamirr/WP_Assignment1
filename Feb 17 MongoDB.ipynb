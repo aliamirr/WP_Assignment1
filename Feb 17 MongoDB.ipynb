{
 "cells": [
  {
   "cell_type": "code",
   "execution_count": null,
   "id": "6b936a9e",
   "metadata": {},
   "outputs": [],
   "source": [
    "Q1. What is MongoDB? Explain non-relational databases in short. In which scenarios it is \n",
    "preferred to use MongoDB over SQL databases?"
   ]
  },
  {
   "cell_type": "markdown",
   "id": "8e40fd80",
   "metadata": {},
   "source": [
    "MongoDB is a document-oriented NoSQL database that stores data in flexible, JSON-like documents, which can have nested data structures. It is a non-relational database that is designed to scale horizontally across multiple servers, making it highly scalable and reliable.\n",
    "\n",
    "Non-relational databases, or NoSQL databases, are databases that do not use the traditional relational database model of tables and columns. Instead, they use a variety of data models, such as key-value stores, document stores, graph databases, and others, which allow for more flexibility and scalability in handling large volumes of unstructured or semi-structured data.\n",
    "\n",
    "MongoDB is preferred over SQL databases in scenarios where the data is unstructured or semi-structured, such as in social media feeds, sensor data, or e-commerce transactions. It is also useful in scenarios where scalability is a key requirement, as it can easily scale horizontally by adding more nodes to a cluster. Additionally, MongoDB is well-suited for applications that require real-time analytics or real-time updates, as it supports various features like indexing and aggregation."
   ]
  },
  {
   "cell_type": "code",
   "execution_count": null,
   "id": "06cd801e",
   "metadata": {},
   "outputs": [],
   "source": [
    "Q2. State and Explain the features of MongoDB."
   ]
  },
  {
   "cell_type": "markdown",
   "id": "1f6e6332",
   "metadata": {},
   "source": [
    "MongoDB is a popular document-oriented NoSQL database that offers a range of features that make it useful for modern, high-performance applications. Some of the key features of MongoDB include:\n",
    "\n",
    "1) Document-Oriented: MongoDB stores data in flexible, JSON-like documents, which can have nested data structures, making it well-suited for storing and querying semi-structured data.\n",
    "\n",
    "2) Schema-less: MongoDB does not require a predefined schema, which means that the structure of the documents can change over time without requiring changes to the database schema.\n",
    "\n",
    "3) High Scalability: MongoDB is designed to scale horizontally across multiple servers, making it highly scalable and reliable.\n",
    "\n",
    "4) High Performance: MongoDB's native support for indexing, sharding, and other performance optimization features make it highly performant for both read and write operations.\n",
    "\n",
    "5) Rich Query Language: MongoDB supports a rich query language that includes support for ad-hoc queries, indexing, aggregation, and geospatial queries.\n",
    "\n",
    "6) Secondary Indexing: MongoDB supports secondary indexing, which allows for fast and efficient querying of data.\n",
    "\n",
    "7) Replication: MongoDB supports replication, which allows for the creation of multiple copies of the data for redundancy and high availability.\n",
    "\n",
    "8) Automatic Sharding: MongoDB supports automatic sharding, which allows for the distribution of data across multiple servers in a cluster, providing horizontal scaling.\n",
    "\n",
    "9) Flexible Data Model: MongoDB's flexible data model allows for the storage of a variety of data types, including text, numbers, dates, and binary data.\n",
    "\n",
    "10) Easy Integration: MongoDB provides drivers and connectors for a variety of programming languages and platforms, making it easy to integrate with existing applications and tools.\n",
    "\n",
    "Overall, MongoDB's features make it a highly flexible and scalable database solution that is well-suited for modern, high-performance applications."
   ]
  },
  {
   "cell_type": "code",
   "execution_count": null,
   "id": "a7ee85de",
   "metadata": {},
   "outputs": [],
   "source": [
    "Q3. Write a code to connect MongoDB to Python. Also, create a database and a collection in \n",
    "MongoDB."
   ]
  },
  {
   "cell_type": "code",
   "execution_count": null,
   "id": "589259ac",
   "metadata": {},
   "outputs": [],
   "source": [
    "# import pymongo library\n",
    "import pymongo\n",
    "\n",
    "# set up a client to connect to the MongoDB instance running locally\n",
    "client = pymongo.MongoClient(\"mongodb://localhost:27017/\")\n",
    "\n",
    "# create a new database called \"mydatabase\"\n",
    "mydb = client[\"mydatabase\"]\n",
    "\n",
    "# create a new collection called \"customers\" within the \"mydatabase\" database\n",
    "mycol = mydb[\"customers\"]"
   ]
  },
  {
   "cell_type": "markdown",
   "id": "1c767b5c",
   "metadata": {},
   "source": [
    "In this example, we first import the pymongo library, which provides a Python interface to MongoDB. We then set up a client to connect to the MongoDB instance running locally on the default port (27017).\n",
    "\n",
    "Next, we create a new database called \"mydatabase\" using the client object. We then create a new collection called \"customers\" within the \"mydatabase\" database using the mydb object.\n",
    "\n",
    "Once this code is executed, we can start inserting data into the \"customers\" collection and performing other operations on the data using the pymongo library."
   ]
  },
  {
   "cell_type": "code",
   "execution_count": null,
   "id": "dc7039c2",
   "metadata": {},
   "outputs": [],
   "source": [
    "Q4. Using the database and the collection created in question number 3, write a code to \n",
    "insert one record, and insert many records. Use the find() and find_one() methods to print \n",
    "the inserted record."
   ]
  },
  {
   "cell_type": "code",
   "execution_count": null,
   "id": "43234d8d",
   "metadata": {},
   "outputs": [],
   "source": [
    "Sure, here's an example code to insert one record and multiple records into the \"customers\"\n",
    "collection created in the previous example and then use the find() and find_one() methods \n",
    "to retrieve the inserted records:"
   ]
  },
  {
   "cell_type": "code",
   "execution_count": null,
   "id": "fac7a3cb",
   "metadata": {},
   "outputs": [],
   "source": [
    "# import pymongo library\n",
    "import pymongo\n",
    "\n",
    "# set up a client to connect to the MongoDB instance running locally\n",
    "client = pymongo.MongoClient(\"mongodb://localhost:27017/\")\n",
    "\n",
    "# create a new database called \"mydatabase\"\n",
    "mydb = client[\"mydatabase\"]\n",
    "\n",
    "# create a new collection called \"customers\" within the \"mydatabase\" database\n",
    "mycol = mydb[\"customers\"]\n",
    "\n",
    "# insert one record \n",
    "mydict = { \"name\": \"John\", \"address\": \"Highway 37\" }\n",
    "mycol.insert_one(mydict)\n",
    "\n",
    "# insert multiple records \n",
    "mylist = [\n",
    "  { \"name\": \"Amy\", \"address\": \"Apple st 652\"},\n",
    "  { \"name\": \"Hannah\", \"address\": \"Mountain 21\"},\n",
    "  { \"name\": \"Michael\", \"address\": \"Valley 345\"},\n",
    "  { \"name\": \"Sandy\", \"address\": \"Ocean blvd 2\"},\n",
    "  { \"name\": \"Betty\", \"address\": \"Green Grass 1\"}\n",
    "]\n",
    "mycol.insert_many(mylist)\n",
    "\n",
    "\n",
    "for x in mycol.find():\n",
    "    print(x)\n",
    "\n",
    "\n",
    "print(mycol.find_one({\"name\": \"John\"}))"
   ]
  },
  {
   "cell_type": "code",
   "execution_count": null,
   "id": "0640f9b9",
   "metadata": {},
   "outputs": [],
   "source": [
    "Q5. Explain how you can use the find() method to query the MongoDB database. Write a simple \n",
    "code to demonstrate this."
   ]
  },
  {
   "cell_type": "markdown",
   "id": "f42cb76d",
   "metadata": {},
   "source": [
    "The find() method in MongoDB is used to retrieve documents from a collection. It returns a cursor to the documents that match the query criteria, which can then be iterated over to retrieve the documents one by one.\n",
    "\n",
    "The find() method can accept several optional parameters, such as filter, projection, sort, limit, and skip, to refine the query and control the results returned.\n",
    "\n",
    "Here's an example code to demonstrate the usage of the find() method to query a MongoDB collection:"
   ]
  },
  {
   "cell_type": "code",
   "execution_count": null,
   "id": "a36cea36",
   "metadata": {},
   "outputs": [],
   "source": [
    "import pymongo\n",
    "\n",
    "client = pymongo.MongoClient(\"mongodb://localhost:27017/\")\n",
    "\n",
    "mydb = client[\"mydatabase\"]\n",
    "\n",
    "mycol = mydb[\"customers\"]\n",
    "\n",
    "# query the \"customers\" collection using the find() method\n",
    "myquery = { \"address\": \"Park Lane 38\" }\n",
    "myresults = mycol.find(myquery)\n",
    "\n",
    "# print the documents returned by the query\n",
    "for x in myresults:\n",
    "    print(x)"
   ]
  },
  {
   "cell_type": "code",
   "execution_count": null,
   "id": "b3bc8161",
   "metadata": {},
   "outputs": [],
   "source": [
    "Q6. Explain the sort() method. Give an example to demonstrate sorting in MongoDB."
   ]
  },
  {
   "cell_type": "code",
   "execution_count": null,
   "id": "41e019e3",
   "metadata": {},
   "outputs": [],
   "source": [
    "The sort() method in MongoDB is used to sort the results of a query in ascending or \n",
    "descending order. It can be used to sort the documents based on one or more fields.\n",
    "\n",
    "The sort() method takes one parameter, which is a dictionary that specifies the fields to \n",
    "sort on and the direction of the sort. The keys of the dictionary are the field names, and \n",
    "the values are either 1 or -1, where 1 indicates ascending order and -1 indicates descending\n",
    "order.\n",
    "\n",
    "Here's an example code to demonstrate the usage of the sort() method to sort the results of \n",
    "a query in MongoDB:"
   ]
  },
  {
   "cell_type": "code",
   "execution_count": null,
   "id": "473edae3",
   "metadata": {},
   "outputs": [],
   "source": [
    "import pymongo\n",
    "\n",
    "client = pymongo.MongoClient(\"mongodb://localhost:27017/\")\n",
    "\n",
    "mydb = client[\"mydatabase\"]\n",
    "\n",
    "mycol = mydb[\"customers\"]\n",
    "\n",
    "# sort the documents in the \"customers\" collection based on the \"name\" field in ascending order\n",
    "myquery = { \"address\": { \"$regex\": \"^S\" } }\n",
    "myresults = mycol.find(myquery).sort(\"name\")\n",
    "\n",
    "for x in myresults:\n",
    "    print(x)"
   ]
  },
  {
   "cell_type": "code",
   "execution_count": null,
   "id": "a7444c32",
   "metadata": {},
   "outputs": [],
   "source": [
    "Q7. Explain why delete_one(), delete_many(), and drop() is used."
   ]
  },
  {
   "cell_type": "markdown",
   "id": "dc9b1eb7",
   "metadata": {},
   "source": [
    "In MongoDB, delete_one(), delete_many(), and drop() methods are used to remove documents or entire collections from the database.\n",
    "\n",
    "delete_one() method is used to remove a single document that matches the given filter criteria. If multiple documents match the filter, it removes the first one that it finds. The syntax for the delete_one() method is as follows:"
   ]
  },
  {
   "cell_type": "code",
   "execution_count": null,
   "id": "837303a3",
   "metadata": {},
   "outputs": [],
   "source": [
    "mycol.delete_one(<filter>)\n",
    "\n",
    "\n",
    "'''\n",
    "where <filter> is a dictionary that specifies the criteria for the document to be removed.\n",
    "\n",
    "delete_many() method is used to remove multiple documents that match the given filter criteria.\n",
    "The syntax for the delete_many() method is as follows:'''\n",
    "\n",
    "mycol.delete_many(<filter>)\n",
    "\n",
    "'''\n",
    "drop() method is used to remove an entire collection from the database. The syntax for the\n",
    "drop() method is as follows:'''\n",
    "    \n",
    "mycol.drop()\n",
    "\n",
    "'''where mycol is the collection that we want to remove.'''"
   ]
  }
 ],
 "metadata": {
  "kernelspec": {
   "display_name": "Python 3 (ipykernel)",
   "language": "python",
   "name": "python3"
  },
  "language_info": {
   "codemirror_mode": {
    "name": "ipython",
    "version": 3
   },
   "file_extension": ".py",
   "mimetype": "text/x-python",
   "name": "python",
   "nbconvert_exporter": "python",
   "pygments_lexer": "ipython3",
   "version": "3.10.6"
  }
 },
 "nbformat": 4,
 "nbformat_minor": 5
}
