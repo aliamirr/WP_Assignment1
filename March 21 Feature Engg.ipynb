{
 "cells": [
  {
   "cell_type": "code",
   "execution_count": null,
   "id": "c81c548b",
   "metadata": {},
   "outputs": [],
   "source": [
    "Q1. What is the difference between Ordinal Encoding and Label Encoding? Provide an example of when you might choose one over the other."
   ]
  },
  {
   "cell_type": "markdown",
   "id": "9d87d5f1",
   "metadata": {},
   "source": [
    "Ordinal encoding and label encoding are both techniques used to transform categorical data into numerical data. However, there is a difference between the two.\n",
    "\n",
    "Ordinal encoding is used when the categorical data has an inherent order or hierarchy to it. In this technique, each unique category is assigned a numerical value based on its position in the order. For example, if we have a dataset of T-shirt sizes with categories \"Small,\" \"Medium,\" and \"Large,\" we could assign \"Small\" a value of 1, \"Medium\" a value of 2, and \"Large\" a value of 3.\n",
    "\n",
    "Label encoding, on the other hand, is used when the categorical data has no inherent order. In this technique, each unique category is assigned a unique numerical value. For example, if we have a dataset of fruit types with categories \"Apple,\" \"Banana,\" and \"Orange,\" we could assign \"Apple\" a value of 1, \"Banana\" a value of 2, and \"Orange\" a value of 3.\n",
    "\n",
    "In general, ordinal encoding is preferred when there is an inherent order or hierarchy to the categorical data, while label encoding is preferred when there is no such order. However, the choice between the two depends on the specific problem and the characteristics of the data.\n",
    "\n",
    "For example, suppose we have a dataset of movie ratings with categories \"Excellent,\" \"Good,\" \"Fair,\" and \"Poor.\" Since there is an inherent order to the ratings, we could use ordinal encoding. However, if we were working with a dataset of movie genres with categories such as \"Action,\" \"Comedy,\" \"Drama,\" and \"Horror,\" we would likely use label encoding since there is no inherent order to the genres."
   ]
  },
  {
   "cell_type": "code",
   "execution_count": null,
   "id": "80718835",
   "metadata": {},
   "outputs": [],
   "source": [
    "Q2. Explain how Target Guided Ordinal Encoding works and provide an example of when you might use it in a machine learning project."
   ]
  },
  {
   "cell_type": "markdown",
   "id": "31aaea78",
   "metadata": {},
   "source": [
    "Target Guided Ordinal Encoding is a technique used to encode categorical variables based on their relationship with the target variable. In this technique, categories are ranked in order of their effect on the target variable.\n",
    "\n",
    "Here are the steps involved in Target Guided Ordinal Encoding:-\n",
    "\n",
    "1) Calculate the mean of the target variable for each category of the categorical variable.\n",
    "\n",
    "2) Rank the categories based on the mean value of the target variable.\n",
    "\n",
    "3) Replace the categories with their respective rank.\n",
    "\n",
    "Let's take an example to understand this technique better. Suppose we have a dataset with two columns: \"city\" and \"sales,\" and we want to predict the sales for a particular city. The \"city\" column has five categories: New York, Boston, Chicago, Miami, and San Francisco.\n",
    "\n",
    "We can use Target Guided Ordinal Encoding to encode the \"city\" column as follows:\n",
    "\n",
    "Calculate the mean sales for each city:-\n",
    "\n",
    "- New York: 500\n",
    "- Boston: 550\n",
    "- Chicago: 450\n",
    "- Miami: 400\n",
    "- San Francisco: 600\n",
    "\n",
    "Rank the cities based on their mean sales:-\n",
    "\n",
    "- San Francisco: 1\n",
    "- Boston: 2\n",
    "- New York: 3\n",
    "- Chicago: 4\n",
    "- Miami: 5\n",
    "\n",
    "Replace the city names with their respective ranks in the \"city\" column.\n",
    "\n",
    "We can choose Target Guided Ordinal Encoding when we have a categorical variable with a significant number of categories, and we want to encode the variable based on its impact on the target variable. \n",
    "\n",
    "This technique is particularly useful when dealing with high cardinality categorical variables, which are challenging to encode using one-hot encoding or label encoding. Additionally, Target Guided Ordinal Encoding can help to reduce the dimensionality of the dataset, which is desirable in some cases."
   ]
  },
  {
   "cell_type": "code",
   "execution_count": null,
   "id": "6fa08ef8",
   "metadata": {},
   "outputs": [],
   "source": [
    "Q3. Define covariance and explain why it is important in statistical analysis. How is covariance calculated?"
   ]
  },
  {
   "cell_type": "markdown",
   "id": "3bfb62e8",
   "metadata": {},
   "source": [
    "Covariance is a measure of how two variables change or vary together. It is a statistical metric that indicates the degree of linear association between two random variables. If the covariance is positive, it implies that the two variables move in the same direction, whereas if it is negative, it suggests that they move in opposite directions. If the covariance is zero, it implies that there is no linear relationship between the two variables.\n",
    "\n",
    "Covariance is important in statistical analysis because it provides valuable information about the relationship between two variables. By analyzing covariance, we can determine whether two variables are positively or negatively related, and to what extent. This information is useful in a wide range of applications, including finance, economics, biology, and engineering.\n",
    "\n",
    "Covariance is calculated using the following formula:\n",
    "\n",
    "**cov(X,Y) = Σ[(Xi - X_mean) * (Yi - Y_mean)] / (n-1)**\n",
    "\n",
    "where,\n",
    "\n",
    "Xi and Yi are the individual observations for X and Y respectively\n",
    "X_mean and Y_mean are the sample means of X and Y respectively\n",
    "n is the sample size\n",
    "\n",
    "The formula calculates the covariance between two variables by taking the sum of the product of the difference between each observation and the mean of the corresponding variable. It is then divided by the number of observations minus one to get the sample covariance."
   ]
  },
  {
   "cell_type": "markdown",
   "id": "7d91a383",
   "metadata": {},
   "source": [
    "Q4. For a dataset with the following categorical variables: Color (red, green, blue), Size (small, medium, large), and Material (wood, metal, plastic), perform label encoding using Python's scikit-learn library. Show your code and explain the output."
   ]
  },
  {
   "cell_type": "code",
   "execution_count": 2,
   "id": "913ca854",
   "metadata": {},
   "outputs": [
    {
     "name": "stdout",
     "output_type": "stream",
     "text": [
      "   Color  Size  Material\n",
      "0      2     2         2\n",
      "1      1     1         0\n",
      "2      0     1         0\n",
      "3      0     0         1\n",
      "4      2     0         2\n",
      "5      2     2         1\n"
     ]
    }
   ],
   "source": [
    "from sklearn.preprocessing import LabelEncoder\n",
    "import pandas as pd\n",
    "\n",
    "data = {'Color': ['red', 'green', 'blue', 'blue', 'red', 'red'],\n",
    "        'Size': ['small', 'medium', 'medium', 'large', 'large', 'small'],\n",
    "        'Material': ['wood', 'metal', 'metal', 'plastic', 'wood', 'plastic']}\n",
    "\n",
    "df = pd.DataFrame(data)\n",
    "\n",
    "encoder = LabelEncoder()\n",
    "df_encoded = df.apply(encoder.fit_transform)\n",
    "\n",
    "print(df_encoded)"
   ]
  },
  {
   "cell_type": "markdown",
   "id": "d85c01de",
   "metadata": {},
   "source": [
    "The output shows the encoded values for each category in the three columns. For example, 'red' in the 'Color' column is assigned the value 2, 'green' is assigned 1, and 'blue' is assigned 0. Similarly, 'small' in the 'Size' column is assigned 2, 'medium' is assigned 0, and 'large' is assigned 1. Finally, 'wood' in the 'Material' column is assigned 2, 'metal' is assigned 0, and 'plastic' is assigned 1.\n",
    "\n",
    "Note that label encoding is not a recommended technique for encoding categorical variables with multiple categories, as it assumes an order among categories that may not exist. In this case, one-hot encoding or other more advanced encoding techniques may be more appropriate."
   ]
  },
  {
   "cell_type": "code",
   "execution_count": null,
   "id": "7a77583b",
   "metadata": {},
   "outputs": [],
   "source": [
    "Q5. Calculate the covariance matrix for the following variables in a dataset: Age, Income, and Education level. Interpret the results."
   ]
  },
  {
   "cell_type": "code",
   "execution_count": 3,
   "id": "d41a834a",
   "metadata": {},
   "outputs": [
    {
     "name": "stdout",
     "output_type": "stream",
     "text": [
      "Covariance Matrix:\n",
      "[[7.36428571e+01 2.06785714e+05 3.07142857e+01]\n",
      " [2.06785714e+05 7.19642857e+08 9.50000000e+04]\n",
      " [3.07142857e+01 9.50000000e+04 1.62857143e+01]]\n"
     ]
    }
   ],
   "source": [
    "import numpy as np\n",
    "\n",
    "# create a small dataset\n",
    "age = np.array([25, 30, 35, 40, 45, 27, 18, 30])\n",
    "income = np.array([50000, 60000, 70000, 80000, 90000, 20000, 15000, 65000])\n",
    "education = np.array([12, 14, 16, 18, 20, 13, 8, 19])\n",
    "\n",
    "# calculate covariance matrix\n",
    "cov_matrix = np.cov([age, income, education])\n",
    "\n",
    "print(\"Covariance Matrix:\")\n",
    "print(cov_matrix)\n"
   ]
  },
  {
   "cell_type": "markdown",
   "id": "8a45701e",
   "metadata": {},
   "source": [
    "In this case, the covariance matrix is a 3x3 matrix, where the diagonal elements represent the variances of the variables (age, income, education level), and the off-diagonal elements represent the covariances between different pairs of variables.\n",
    "\n",
    "For example, the covariance between **age and income is 2.06785714e+05,** which indicates a positive linear relationship between the two variables. This means that as age increases, so does income, and vice versa. \n",
    "\n",
    "Similarly, the covariance between **income and education level is 9.50000000e+04,** which suggests a positive relationship between the two variables. \n",
    "\n",
    "Finally, the covariance between **age and education level is 3.07142857e+01,** which is relatively small and indicates a weak linear relationship between the two variables.\n",
    "\n",
    "In general, the covariance matrix can help identify the relationships between different variables in a dataset, and it can be used to inform decisions about which variables to include in a model or analysis. However, it is important to keep in mind that the covariance matrix only measures linear relationships between variables, and it may not capture more complex or nonlinear relationships."
   ]
  },
  {
   "cell_type": "markdown",
   "id": "2bc97586",
   "metadata": {},
   "source": [
    "Q6. You are working on a machine learning project with a dataset containing several categorical variables, including \"Gender\" (Male/Female), \"Education Level\" (High School/Bachelor's/Master's/PhD), and \"Employment Status\" (Unemployed/Part-Time/Full-Time). Which encoding method would you use for each variable, and why?"
   ]
  },
  {
   "cell_type": "markdown",
   "id": "2c56a1eb",
   "metadata": {},
   "source": [
    "- For the \"Gender\" variable, I would use binary encoding or label encoding because there are only two unique values (Male/Female) and they don't have any order or hierarchy.\n",
    "\n",
    "- For the \"Education Level\" variable, I would use ordinal encoding because there is a clear hierarchy or order among the categories, with higher levels of education indicating more education than lower levels.\n",
    "\n",
    "- For the \"Employment Status\" variable, I would use one-hot encoding because there is no clear order or hierarchy among the categories, and each category is equally important. One-hot encoding would create a binary column for each category, indicating its presence or absence in the data."
   ]
  },
  {
   "cell_type": "markdown",
   "id": "938ce55f",
   "metadata": {},
   "source": [
    "Q7. You are analyzing a dataset with two \n",
    "\n",
    "continuous variables, \"Temperature\" and \"Humidity\", and two \n",
    "categorical variables, \"Weather Condition\" (Sunny/Cloudy/Rainy) and \"Wind Direction\" (North/South/ East/West). \n",
    "\n",
    "Calculate the covariance between each pair of variables and interpret the results."
   ]
  },
  {
   "cell_type": "markdown",
   "id": "7ebc393f",
   "metadata": {},
   "source": [
    "To calculate the covariance between each pair of variables, we need to have a dataset with values for all four variables. Assuming that we have such a dataset, we can use the following steps to calculate the covariance matrix:"
   ]
  },
  {
   "cell_type": "code",
   "execution_count": null,
   "id": "efb3affc",
   "metadata": {},
   "outputs": [],
   "source": [
    "# 1) Calculate the means for each variable:\n",
    "\n",
    "mean_temperature = np.mean(temperature)\n",
    "mean_humidity = np.mean(humidity)"
   ]
  },
  {
   "cell_type": "code",
   "execution_count": null,
   "id": "7edef102",
   "metadata": {},
   "outputs": [],
   "source": [
    "# 2) Create a matrix X with the centered values of the variables:\n",
    "\n",
    "X = np.column_stack((temperature-mean_temperature, humidity-mean_humidity))"
   ]
  },
  {
   "cell_type": "code",
   "execution_count": null,
   "id": "b5ee9168",
   "metadata": {},
   "outputs": [],
   "source": [
    "# 3) Calculate the covariance matrix:\n",
    "\n",
    "cov_matrix = np.cov(X, rowvar=False)"
   ]
  },
  {
   "cell_type": "code",
   "execution_count": null,
   "id": "46b9cc69",
   "metadata": {},
   "outputs": [],
   "source": [
    "# 4) Extract the elements of interest from the covariance matrix:\n",
    "\n",
    "cov_temperature_humidity = cov_matrix[0,1]\n",
    "cov_temperature_weather = cov_matrix[0,2:5]\n",
    "cov_humidity_weather = cov_matrix[1,2:5]\n",
    "cov_weather_direction = cov_matrix[2:5,2:5]"
   ]
  },
  {
   "cell_type": "markdown",
   "id": "4abd339d",
   "metadata": {},
   "source": [
    "Interpreting the results:\n",
    "\n",
    "1) Covariance between Temperature and Humidity (cov_temperature_humidity): This value indicates the degree to which the two variables vary together. A positive covariance indicates that higher temperatures are associated with higher humidities, while a negative covariance indicates that higher temperatures are associated with lower humidities.\n",
    "\n",
    "2) Covariance between Temperature and Weather Condition (cov_temperature_weather): This value is a vector that indicates the degree to which the temperature variable is related to each level of the weather condition variable. Each element of the vector represents the covariance between temperature and a specific weather condition. A positive value indicates that higher temperatures are associated with that weather condition, while a negative value indicates the opposite.\n",
    "\n",
    "3) Covariance between Humidity and Weather Condition (cov_humidity_weather): This value is a vector that indicates the degree to which the humidity variable is related to each level of the weather condition variable. Each element of the vector represents the covariance between humidity and a specific weather condition. A positive value indicates that higher humidities are associated with that weather condition, while a negative value indicates the opposite.\n",
    "\n",
    "4) Covariance between Weather Condition and Wind Direction (cov_weather_direction): This is a matrix that indicates the degree to which the weather condition variable is related to each level of the wind direction variable. Each element of the matrix represents the covariance between a specific weather condition and a specific wind direction. A positive value indicates that the two variables are positively related, while a negative value indicates the opposite. The diagonal elements of the matrix represent the variance of each weather condition variable."
   ]
  }
 ],
 "metadata": {
  "kernelspec": {
   "display_name": "Python 3 (ipykernel)",
   "language": "python",
   "name": "python3"
  },
  "language_info": {
   "codemirror_mode": {
    "name": "ipython",
    "version": 3
   },
   "file_extension": ".py",
   "mimetype": "text/x-python",
   "name": "python",
   "nbconvert_exporter": "python",
   "pygments_lexer": "ipython3",
   "version": "3.10.6"
  }
 },
 "nbformat": 4,
 "nbformat_minor": 5
}
