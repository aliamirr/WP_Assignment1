{
  "nbformat": 4,
  "nbformat_minor": 0,
  "metadata": {
    "colab": {
      "provenance": []
    },
    "kernelspec": {
      "name": "python3",
      "display_name": "Python 3"
    },
    "language_info": {
      "name": "python"
    }
  },
  "cells": [
    {
      "cell_type": "markdown",
      "source": [
        "Q1. How can you create a Bokeh plot using Python code?"
      ],
      "metadata": {
        "id": "r80nrLf-CzoJ"
      }
    },
    {
      "cell_type": "code",
      "source": [
        "from bokeh.plotting import figure, output_file, show\n",
        "\n",
        "# Let x and y.\n",
        "x = [1, 2, 3, 4, 5]\n",
        "y = [6, 7, 2, 4, 5]\n",
        "\n",
        "# Specify the output file\n",
        "output_file(\"line.html\")\n",
        "\n",
        "# Create a figure object\n",
        "p = figure(title=\"Line plot\", x_axis_label='X', y_axis_label='Y')\n",
        "\n",
        "# Add a line renderer\n",
        "p.line(x, y, legend_label=\"Line 1\", line_width=2)\n",
        "show(p)"
      ],
      "metadata": {
        "id": "HGoXEufbFQAD"
      },
      "execution_count": 1,
      "outputs": []
    },
    {
      "cell_type": "markdown",
      "source": [
        "Q2. What are glyphs in Bokeh, and how can you add them to a Bokeh plot? Explain with an example."
      ],
      "metadata": {
        "id": "v18cAhbKF3vU"
      }
    },
    {
      "cell_type": "markdown",
      "source": [
        "In Bokeh, glyphs are visual shapes or markers that can be added to a plot to display data points or to represent a range of data. Some examples of glyphs are circles, squares, triangles, lines, and patches. Glyphs in Bokeh are represented as instances of the Glyph class."
      ],
      "metadata": {
        "id": "-rkJe6rZGAN5"
      }
    },
    {
      "cell_type": "code",
      "source": [
        "from bokeh.plotting import figure, output_file, show\n",
        "from bokeh.models import ColumnDataSource\n",
        "\n",
        "x = [1, 2, 3, 4, 5]\n",
        "y = [6, 7, 2, 4, 5]\n",
        "colors = ['#FF0000', '#00FF00', '#0000FF', '#FF00FF', '#00FFFF']\n",
        "\n",
        "source = ColumnDataSource(data=dict(x=x, y=y, colors=colors))\n",
        "\n",
        "output_file(\"rect_glyph.html\")\n",
        "\n",
        "p = figure(title=\"Rect Glyph Example\", x_axis_label='X', y_axis_label='Y')\n",
        "\n",
        "# Add a rect glyph\n",
        "p.rect(x='x', y='y', width=0.9, height=0.9, fill_color='colors', line_color=None, source=source)\n",
        "show(p)"
      ],
      "metadata": {
        "id": "5qTV664JGBY3"
      },
      "execution_count": 7,
      "outputs": []
    },
    {
      "cell_type": "markdown",
      "source": [
        "Q3. How can you customize the appearance of a Bokeh plot, including the axes, title, and legend?"
      ],
      "metadata": {
        "id": "bz7318Q-H9QL"
      }
    },
    {
      "cell_type": "markdown",
      "source": [
        "You can customize the appearance of a Bokeh plot using a variety of methods and properties provided by the figure object and other Bokeh objects. Here are some common ways to customize the appearance of a Bokeh plot:\n",
        "\n",
        "1) Change the title and axis labels: You can set the title and axis labels using the title, x_axis_label, and y_axis_label properties of the figure object. For example:"
      ],
      "metadata": {
        "id": "JnZYkIngIru6"
      }
    },
    {
      "cell_type": "code",
      "source": [
        "from bokeh.plotting import figure, output_file, show\n",
        "\n",
        "# Create a figure\n",
        "p = figure(title=\"My Plot\", x_axis_label='X-axis', y_axis_label='Y-axis')\n",
        "\n",
        "# ... add glyphs to the plot ...\n",
        "show(p)"
      ],
      "metadata": {
        "id": "RxxIedgvIs77"
      },
      "execution_count": null,
      "outputs": []
    },
    {
      "cell_type": "markdown",
      "source": [
        "2) Customize the axes: You can customize the appearance of the x and y axes using the xaxis and yaxis properties of the figure object. For example, you can set the axis label text color, font size, and other attributes using properties such as axis_label_text_color, axis_label_text_font_size, and major_label_text_font_style. You can also customize tick marks and grid lines using properties such as major_tick_line_color, major_tick_line_width, minor_tick_line_color, and minor_tick_line_width.\n"
      ],
      "metadata": {
        "id": "MPXgDsHWIzZU"
      }
    },
    {
      "cell_type": "code",
      "source": [
        "from bokeh.plotting import figure, output_file, show\n",
        "\n",
        "# Create a figure\n",
        "p = figure(title=\"My Plot\", x_axis_label='X-axis', y_axis_label='Y-axis')\n",
        "\n",
        "# Customize the x-axis\n",
        "p.xaxis.axis_label_text_color = 'red'\n",
        "p.xaxis.axis_label_text_font_size = '16pt'\n",
        "p.xaxis.major_tick_line_color = 'green'\n",
        "p.xaxis.major_tick_line_width = 2\n",
        "\n",
        "# Customize the y-axis\n",
        "p.yaxis.axis_label_text_color = 'blue'\n",
        "p.yaxis.axis_label_text_font_size = '16pt'\n",
        "p.yaxis.major_tick_line_color = 'orange'\n",
        "p.yaxis.major_tick_line_width = 2\n",
        "\n",
        "# ... add glyphs to the plot ...\n",
        "show(p)"
      ],
      "metadata": {
        "id": "qUQUM8QUI6o-"
      },
      "execution_count": null,
      "outputs": []
    },
    {
      "cell_type": "markdown",
      "source": [
        "3) Customize the legend: You can customize the appearance of the legend using the legend property of the figure object. For example, you can set the legend location and orientation using the location and orientation properties, respectively. You can also customize the font size and style of the legend text using properties such as label_text_font_size and label_text_font_style."
      ],
      "metadata": {
        "id": "8RedLVgzJCXr"
      }
    },
    {
      "cell_type": "code",
      "source": [
        "from bokeh.plotting import figure, output_file, show\n",
        "\n",
        "# Create a figure\n",
        "p = figure(title=\"My Plot\", x_axis_label='X-axis', y_axis_label='Y-axis')\n",
        "\n",
        "# ... add glyphs to the plot ...\n",
        "\n",
        "# Customize the legend\n",
        "p.legend.location = 'top_left'\n",
        "p.legend.orientation = 'vertical'\n",
        "p.legend.label_text_font_size = '14pt'\n",
        "p.legend.label_text_font_style = 'italic'\n",
        "\n",
        "show(p)"
      ],
      "metadata": {
        "id": "3iBGX_CcJD_8"
      },
      "execution_count": null,
      "outputs": []
    },
    {
      "cell_type": "markdown",
      "source": [
        "Q4. What is a Bokeh server, and how can you use it to create interactive plots that can be updated in\n",
        "real time?"
      ],
      "metadata": {
        "id": "MVLmooSkJISQ"
      }
    },
    {
      "cell_type": "markdown",
      "source": [
        "A Bokeh server is a Python process that allows you to create and serve Bokeh plots as interactive web applications. With the Bokeh server, you can create custom user interfaces and widgets that can interact with your plot in real time.\n",
        "\n",
        "To use the Bokeh server, you need to create a Python script that defines the layout of your plot and any widgets you want to use. "
      ],
      "metadata": {
        "id": "iCLU3-baJXgR"
      }
    },
    {
      "cell_type": "code",
      "source": [
        "from bokeh.plotting import figure\n",
        "from bokeh.models import ColumnDataSource\n",
        "from bokeh.layouts import column\n",
        "from bokeh.server.server import Server\n",
        "from bokeh.application import Application\n",
        "from bokeh.application.handlers.function import FunctionHandler\n",
        "\n",
        "# Define the plot and data source\n",
        "source = ColumnDataSource(data=dict(x=[1, 2, 3], y=[4, 5, 6]))\n",
        "plot = figure(title=\"My Plot\", x_axis_label='X-axis', y_axis_label='Y-axis')\n",
        "plot.line('x', 'y', source=source)\n",
        "\n",
        "# Define the layout of the plot and any widgets\n",
        "layout = column(plot)\n",
        "\n",
        "# Define a function to create the application\n",
        "def create_app():\n",
        "    handler = FunctionHandler(lambda doc: layout)\n",
        "    return Application(handler)\n",
        "\n",
        "# Start the Bokeh server\n",
        "server = Server({'/': create_app})\n",
        "server.start()\n",
        "\n",
        "# Open the plot in a browser window\n",
        "server.show('/')\n"
      ],
      "metadata": {
        "id": "y3d5zcxYKBk8"
      },
      "execution_count": null,
      "outputs": []
    },
    {
      "cell_type": "markdown",
      "source": [
        "In this example, we define a simple plot with a line glyph and a ColumnDataSource containing x and y data. We then define the layout of the plot as a column of widgets, in this case just the plot itself. Finally, we define a function that creates the application using the layout, and start the Bokeh server with this application.\n",
        "\n",
        "When we run this script and open the plot in a web browser, we should see a simple plot with a line. However, the real power of the Bokeh server comes from its ability to update the plot in real time based on user input. For example, we could add a widget such as a slider or dropdown menu that allows the user to select different data to plot or adjust a parameter that affects the plot.\n",
        "\n",
        "To do this, we would define the widget and any associated callback functions in our Bokeh server script, and use the Bokeh server's ability to update the plot based on changes to the data source or widget values. The exact details of how to do this depend on the specific use case."
      ],
      "metadata": {
        "id": "d_aJiBhVKGK7"
      }
    },
    {
      "cell_type": "markdown",
      "source": [
        "Q5. How can you embed a Bokeh plot into a web page or dashboard using Flask or Django?"
      ],
      "metadata": {
        "id": "cUO9d_pgKO2v"
      }
    },
    {
      "cell_type": "markdown",
      "source": [
        "To embed a Bokeh plot into a web page or dashboard using Flask or Django, you can use the Bokeh server's ability to generate standalone HTML documents that can be embedded in a web page using an iframe.\n",
        "\n",
        "Flask\n",
        "1) First, we have to create a Bokeh server application that defines our plot and any widgets or interactions. This can be similar to the example in Q4.\n",
        "2) In our Flask app, we define a route that will serve the HTML template containing the iframe. For example:"
      ],
      "metadata": {
        "id": "FUx449kXKS6U"
      }
    },
    {
      "cell_type": "code",
      "source": [
        "from flask import Flask, render_template\n",
        "\n",
        "app = Flask(__name__)\n",
        "\n",
        "@app.route('/')\n",
        "def index():\n",
        "    return render_template('index.html')"
      ],
      "metadata": {
        "id": "aSyk5n0iK7bg"
      },
      "execution_count": null,
      "outputs": []
    },
    {
      "cell_type": "markdown",
      "source": [
        "3) In our HTML template (index.html), we add an iframe element that points to the Bokeh server URL. For example:"
      ],
      "metadata": {
        "id": "-74K93h4K-9W"
      }
    },
    {
      "cell_type": "code",
      "source": [
        "<iframe src=\"http://localhost:5000/bokeh_plot\" frameborder=\"0\" width=\"100%\" height=\"500\"></iframe>\n"
      ],
      "metadata": {
        "id": "EqzqfNVHLMsi"
      },
      "execution_count": null,
      "outputs": []
    },
    {
      "cell_type": "markdown",
      "source": [
        "This assumes that our Bokeh server is running on the default port (5000) and that the name of our Bokeh server application is bokeh_plot.\n",
        "\n",
        "4) Run the Flask app and start the Bokeh server. The Bokeh plot should now be embedded in the HTML page served by the Flask app."
      ],
      "metadata": {
        "id": "wWCIWV22LQ4g"
      }
    },
    {
      "cell_type": "markdown",
      "source": [
        "Django\n",
        "1) First, create a Bokeh server application that defines our plot and any widgets or interactions. This can be similar to the example in Q4.\n",
        "\n",
        "2) In our Django app, define a view that will render the HTML template containing the iframe. For example:"
      ],
      "metadata": {
        "id": "yCVrxrjpLY7p"
      }
    },
    {
      "cell_type": "code",
      "source": [
        "from django.shortcuts import render\n",
        "\n",
        "def index(request):\n",
        "    return render(request, 'index.html')\n"
      ],
      "metadata": {
        "id": "Yt67x2zvLfId"
      },
      "execution_count": null,
      "outputs": []
    },
    {
      "cell_type": "markdown",
      "source": [
        "3) In your HTML template (index.html), add an iframe element that points to the Bokeh server URL. For example:"
      ],
      "metadata": {
        "id": "IDyqBkzZLher"
      }
    },
    {
      "cell_type": "code",
      "source": [
        "<iframe src=\"http://localhost:5006/bokeh_plot\" frameborder=\"0\" width=\"100%\" height=\"500\"></iframe>\n"
      ],
      "metadata": {
        "id": "JIGMkTdCLmk7"
      },
      "execution_count": null,
      "outputs": []
    },
    {
      "cell_type": "markdown",
      "source": [
        "This assumes that our Bokeh server is running on the default port (5000) and that the name of our Bokeh server application is bokeh_plot.\n",
        "\n",
        "4) Run the Django app and start the Bokeh server. The Bokeh plot should now be embedded in the HTML page rendered by the Django app."
      ],
      "metadata": {
        "id": "fatdF3WBL10Y"
      }
    }
  ]
}