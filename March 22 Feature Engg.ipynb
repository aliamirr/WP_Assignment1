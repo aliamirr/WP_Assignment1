{
 "cells": [
  {
   "cell_type": "markdown",
   "id": "743cd206",
   "metadata": {},
   "source": [
    "Q1. Pearson correlation coefficient is a measure of the linear relationship between two variables. Suppose you have collected data on the amount of time students spend studying for an exam and their final exam scores. Calculate the Pearson correlation coefficient between these two variables and interpret the result."
   ]
  },
  {
   "cell_type": "markdown",
   "id": "eff4c03b",
   "metadata": {},
   "source": [
    "The formula for the Pearson correlation coefficient is:\n",
    "\n",
    "r = cov(x, y) / (s_x * s_y)\n",
    "\n",
    "where cov(x, y) is the sample covariance between x and y, s_x is the sample standard deviation of x, and s_y is the sample standard deviation of y.\n",
    "\n",
    "\n",
    "If r = 1, there is a perfect positive linear relationship between the variables (i.e., as x increases, y increases).\n",
    "If r = -1, there is a perfect negative linear relationship between the variables (i.e., as x increases, y decreases).\n",
    "If r = 0, there is no linear relationship between the variables."
   ]
  },
  {
   "cell_type": "code",
   "execution_count": 1,
   "id": "cfbfe174",
   "metadata": {},
   "outputs": [
    {
     "name": "stdout",
     "output_type": "stream",
     "text": [
      "Pearson correlation coefficient: 0.9999999999999998\n"
     ]
    }
   ],
   "source": [
    "import numpy as np\n",
    "\n",
    "# Define the data arrays\n",
    "studying_time = np.array([10, 20, 30, 40, 50, 60])\n",
    "exam_scores = np.array([50, 60, 70, 80, 90, 100])\n",
    "\n",
    "# Calculate the Pearson correlation coefficient\n",
    "corr_coef = np.corrcoef(studying_time, exam_scores)[0, 1]\n",
    "\n",
    "print(\"Pearson correlation coefficient:\", corr_coef)"
   ]
  },
  {
   "cell_type": "markdown",
   "id": "ba2588a7",
   "metadata": {},
   "source": [
    "The correlation coefficient is very close to 1, which indicates a strong positive linear relationship between studying time and exam scores."
   ]
  },
  {
   "cell_type": "markdown",
   "id": "649143f9",
   "metadata": {},
   "source": [
    "Q2. Spearman's rank correlation is a measure of the monotonic relationship between two variables. Suppose you have collected data on the amount of sleep individuals get each night and their overall job satisfaction level on a scale of 1 to 10. Calculate the Spearman's rank correlation between these two variables and interpret the result."
   ]
  },
  {
   "cell_type": "markdown",
   "id": "db8755ef",
   "metadata": {},
   "source": [
    "To calculate the Spearman's rank correlation coefficient between two variables, we first need to rank each variable from lowest to highest, assigning each observation a rank based on its position in the sorted list. Then, we calculate the differences between the ranks for each observation and use these values to calculate the correlation coefficient."
   ]
  },
  {
   "cell_type": "code",
   "execution_count": 2,
   "id": "58fa38f7",
   "metadata": {},
   "outputs": [
    {
     "name": "stdout",
     "output_type": "stream",
     "text": [
      "Spearman's rank correlation coefficient: 0.8281897048483232\n",
      "p-value: 0.003081108216563514\n"
     ]
    }
   ],
   "source": [
    "import numpy as np\n",
    "from scipy.stats import spearmanr\n",
    "\n",
    "# sample data\n",
    "sleep = np.array([7, 5, 6, 8, 9, 7, 6, 5, 8, 7])\n",
    "job_satisfaction = np.array([9, 5, 7, 8, 10, 6, 4, 5, 8, 7])\n",
    "\n",
    "# calculate Spearman's rank correlation coefficient\n",
    "corr, p_value = spearmanr(sleep, job_satisfaction)\n",
    "\n",
    "print(\"Spearman's rank correlation coefficient:\", corr)\n",
    "print(\"p-value:\", p_value)"
   ]
  },
  {
   "cell_type": "markdown",
   "id": "a8735c37",
   "metadata": {},
   "source": [
    "Interpretation: The Spearman's rank correlation coefficient between the amount of sleep individuals get each night and their overall job satisfaction level is 0.828. This indicates a strong positive monotonic relationship between the two variables, meaning that as the amount of sleep increases, the job satisfaction level tends to increase as well. The p-value of 0.003 suggests that the correlation is statistically significant at the 0.05 level, indicating that the observed correlation is unlikely to have occurred by chance."
   ]
  },
  {
   "cell_type": "markdown",
   "id": "8aeca56a",
   "metadata": {},
   "source": [
    "Q3. Suppose you are conducting a study to examine the relationship between the number of hours of exercise per week and body mass index (BMI) in a sample of adults. You collected data on both variables for 50 participants. Calculate the Pearson correlation coefficient and the Spearman's rank correlation between these two variables and compare the results."
   ]
  },
  {
   "cell_type": "code",
   "execution_count": 3,
   "id": "84024528",
   "metadata": {},
   "outputs": [],
   "source": [
    "hours_exercise = [2, 4, 3, 5, 6, 1, 3, 4, 5, 7, 2, 3, 4, 5, 6, 1, 2, 4, 6, 7, 3, 2, 4, 5, 6, 3, 4, 5, 1, 2, 3, 4, 5, 6, 7, 2, 3, 5, 6, 1, 2, 3, 4, 5, 6, 1, 2, 3, 4, 5, 6]\n",
    "bmi = [23, 25, 24, 26, 28, 22, 24, 25, 27, 29, 21, 23, 25, 27, 29, 20, 22, 24, 27, 29, 23, 21, 24, 26, 28, 23, 25, 27, 20, 22, 24, 26, 28, 30, 32, 21, 23, 25, 27, 20, 22, 24, 26, 28, 30, 19, 21, 23, 25, 27, 29]"
   ]
  },
  {
   "cell_type": "code",
   "execution_count": 4,
   "id": "df159c7c",
   "metadata": {},
   "outputs": [
    {
     "name": "stdout",
     "output_type": "stream",
     "text": [
      "Pearson correlation coefficient: 0.9575925012082787\n",
      "p-value: 3.9103826600192323e-28\n"
     ]
    }
   ],
   "source": [
    "# To calculate the Pearson correlation coefficient, you can use the pearsonr function \n",
    "# from the scipy.stats module:\n",
    "\n",
    "from scipy.stats import pearsonr\n",
    "\n",
    "pearson_corr, p_value = pearsonr(hours_exercise, bmi)\n",
    "\n",
    "print(\"Pearson correlation coefficient:\", pearson_corr)\n",
    "print(\"p-value:\", p_value)"
   ]
  },
  {
   "cell_type": "markdown",
   "id": "3e35d86c",
   "metadata": {},
   "source": [
    "The Pearson correlation coefficient between the number of hours of exercise per week and BMI is 0.957, which indicates a strong positive linear relationship between the two variables. The p-value is less than 0.05, which suggests that the correlation is statistically significant."
   ]
  },
  {
   "cell_type": "code",
   "execution_count": 6,
   "id": "323b9e29",
   "metadata": {},
   "outputs": [
    {
     "name": "stdout",
     "output_type": "stream",
     "text": [
      "Spearman's rank correlation coefficient: 0.9670084495168411\n",
      "p-value: 9.28381287493611e-31\n"
     ]
    }
   ],
   "source": [
    "# To calculate the Spearman's rank correlation, we can use the spearmanr function from the \n",
    "# scipy.stats module:\n",
    "\n",
    "from scipy.stats import spearmanr\n",
    "\n",
    "spearman_corr, p_value = spearmanr(hours_exercise, bmi)\n",
    "\n",
    "print(\"Spearman's rank correlation coefficient:\", spearman_corr)\n",
    "print(\"p-value:\", p_value)"
   ]
  },
  {
   "cell_type": "markdown",
   "id": "ed1e00a6",
   "metadata": {},
   "source": [
    "The Spearman's rank correlation coefficient between the number of hours of exercise per week and BMI is 0.967, which indicates a strong monotonic relationship between the two variables. The p-value is less than 0.05, which suggests that the correlation is statistically significant.\n",
    "\n",
    "In this case, both the Pearson and Spearman's rank correlation coefficients are similar, which indicates that the relationship between the number of hours of exercise per week and BMI is mostly linear. However, if the relationship between the two variables was not strictly linear, Spearman's rank correlation would be a better measure of association."
   ]
  },
  {
   "cell_type": "markdown",
   "id": "f4dd5fdd",
   "metadata": {},
   "source": [
    "Q4. A researcher is interested in examining the relationship between the number of hours individuals spend watching television per day and their level of physical activity. The researcher collected data on both variables from a sample of 50 participants. Calculate the Pearson correlation coefficient between these two variables."
   ]
  },
  {
   "cell_type": "code",
   "execution_count": 15,
   "id": "e4af9502",
   "metadata": {},
   "outputs": [],
   "source": [
    "import numpy as np\n",
    "from scipy.stats import pearsonr\n",
    "\n",
    "# Example data\n",
    "hours_tv = np.array([2, 4, 1, 3, 5, 4, 6, 2, 1, 3, 5, 6, 7, 2, 3, 4, 1, 5, 6, 2, 3, 5, 6, 7, 8,\n",
    "                     1, 2, 3, 4, 5, 6, 7, 8, 9, 10, 1, 2, 3, 4, 5, 6, 7, 8, 9, 10, 1, 2, 3, 4, 5])\n",
    "\n",
    "\n",
    "physical_activity = np.array([4, 6, 2, 5, 8, 7, 9, 4, 3, 5, 8, 9, 10, 3, 5, 6, 2, 8, 9, 4, 5, 7, 9, 10, 10,\n",
    "                              2, 4, 5, 6, 7, 8, 9, 10, 1, 2, 3, 4, 5, 6, 7, 8, 9, 10, 1, 2, 3, 4, 5, 6, 7])"
   ]
  },
  {
   "cell_type": "code",
   "execution_count": 17,
   "id": "0b5450dc",
   "metadata": {},
   "outputs": [
    {
     "name": "stdout",
     "output_type": "stream",
     "text": [
      "Pearson correlation coefficient: 0.41498115365599225\n"
     ]
    }
   ],
   "source": [
    "# Calculate Pearson correlation coefficient\n",
    "corr_coef, p_value = pearsonr(hours_tv, physical_activity)\n",
    "print(\"Pearson correlation coefficient:\", corr_coef)"
   ]
  },
  {
   "cell_type": "markdown",
   "id": "3cc8b070",
   "metadata": {},
   "source": [
    "In this example, the Pearson correlation coefficient is 0.4149, which indicates a weak positive correlation between the number of hours individuals spend watching television per day and their level of physical activity. \n",
    "\n",
    "This means that as the number of hours spent watching television increases, the level of physical activity tends to slightly increase as well, but the correlation is not very strong."
   ]
  },
  {
   "cell_type": "markdown",
   "id": "3c2eb0e5",
   "metadata": {},
   "source": [
    "Q5. A survey was conducted to examine the relationship between age and preference for a particular brand of soft drink. The survey results are shown below:\n",
    "\n",
    "Age(Years)  Soft drink Preference\n",
    "  25              Coke\n",
    "  42              Pepsi\n",
    "  37              Mountain Dew\n",
    "  19              Coke\n",
    "  31              Pepsi\n",
    "  28              Coke"
   ]
  },
  {
   "cell_type": "markdown",
   "id": "cbc9680c",
   "metadata": {},
   "source": [
    "For this kind of data, Spearman's rank correlation would be a better choice since the soft drink preference is a categorical variable and not a continuous variable. Spearman's rank correlation is suitable for analyzing the relationship between two variables when one or both of them are ordinal or categorical. In this case, the soft drink preference variable can be ranked according to the order of preference (e.g., Coke = 1, Pepsi = 2, Mountain Dew = 3), and then Spearman's rank correlation can be calculated between the ranks and the age variable."
   ]
  },
  {
   "cell_type": "code",
   "execution_count": 18,
   "id": "9188826a",
   "metadata": {},
   "outputs": [
    {
     "name": "stdout",
     "output_type": "stream",
     "text": [
      "Spearman's rank correlation coefficient: 0.8332380897952965\n",
      "p-value: 0.03939551647885117\n"
     ]
    }
   ],
   "source": [
    "import pandas as pd\n",
    "from scipy.stats import spearmanr\n",
    "\n",
    "# Create a pandas DataFrame with the data\n",
    "df = pd.DataFrame({\n",
    "    'Age': [25, 42, 37, 19, 31, 28],\n",
    "    'Soft Drink Preference': ['Coke', 'Pepsi', 'Mountain Dew', 'Coke', 'Pepsi', 'Coke']\n",
    "})\n",
    "\n",
    "# Calculate the Spearman correlation coefficient and p-value\n",
    "corr, pval = spearmanr(df['Age'], df['Soft Drink Preference'], axis=0)\n",
    "\n",
    "# Print the results\n",
    "print(\"Spearman's rank correlation coefficient:\", corr)\n",
    "print(\"p-value:\", pval)"
   ]
  },
  {
   "cell_type": "markdown",
   "id": "b4f66b6e",
   "metadata": {},
   "source": [
    "Since the p-value (0.039) is less than 0.05, we can reject the null hypothesis that there is no correlation between age and soft drink preference. However, the Spearman correlation coefficient (0.833) is positive, indicating a weak positive correlation between age and soft drink preference."
   ]
  },
  {
   "cell_type": "markdown",
   "id": "707f112a",
   "metadata": {},
   "source": [
    "Q6. A company is interested in examining the relationship between the number of sales calls made per day and the number of sales made per week. The company collected data on both variables from a sample of 30 sales representatives. Calculate the Pearson correlation coefficient between these two variables."
   ]
  },
  {
   "cell_type": "code",
   "execution_count": 19,
   "id": "13aeb131",
   "metadata": {},
   "outputs": [
    {
     "name": "stdout",
     "output_type": "stream",
     "text": [
      "Pearson correlation coefficient: 0.979960787496276\n"
     ]
    }
   ],
   "source": [
    "import numpy as np\n",
    "from scipy.stats import pearsonr\n",
    "\n",
    "# Input data\n",
    "sales_calls = [45, 28, 65, 34, 56, 78, 23, 43, 55, 66, 54, 32, 45, 33, 60, 25, 47, 48, 56, 62, 31, 48, 42, 59, 36, 52, 45, 67, 29, 39]\n",
    "sales_made = [8, 2, 11, 6, 9, 14, 2, 7, 10, 13, 10, 4, 7, 5, 12, 3, 8, 7, 10, 12, 4, 8, 6, 11, 5, 9, 8, 12, 3, 6]\n",
    "\n",
    "# Calculate Pearson correlation coefficient and p-value\n",
    "corr, pval = pearsonr(sales_calls, sales_made)\n",
    "\n",
    "# Output results\n",
    "print(\"Pearson correlation coefficient:\", corr)\n"
   ]
  },
  {
   "cell_type": "markdown",
   "id": "cdc8c476",
   "metadata": {},
   "source": [
    "Therefore, there is a strong positive correlation between the number of sales calls made per day and the number of sales made per week."
   ]
  }
 ],
 "metadata": {
  "kernelspec": {
   "display_name": "Python 3 (ipykernel)",
   "language": "python",
   "name": "python3"
  },
  "language_info": {
   "codemirror_mode": {
    "name": "ipython",
    "version": 3
   },
   "file_extension": ".py",
   "mimetype": "text/x-python",
   "name": "python",
   "nbconvert_exporter": "python",
   "pygments_lexer": "ipython3",
   "version": "3.10.6"
  }
 },
 "nbformat": 4,
 "nbformat_minor": 5
}
