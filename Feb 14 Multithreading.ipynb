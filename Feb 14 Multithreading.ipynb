{
 "cells": [
  {
   "cell_type": "markdown",
   "id": "254f0e6d",
   "metadata": {},
   "source": [
    "Q1: What is multithreading in python? Why is it used? Name the module used to handle threads in\n",
    "python."
   ]
  },
  {
   "cell_type": "markdown",
   "id": "d1592e72",
   "metadata": {},
   "source": [
    "Multithreading in Python refers to the process of executing multiple threads simultaneously\n",
    "within a single process. Each thread runs independently, but they all share the same memory\n",
    "space and can communicate with each other as needed.\n",
    "\n",
    "Multithreading is used to improve the performance of an application by utilizing multiple \n",
    "threads to execute tasks concurrently. For example, if an application needs to perform \n",
    "multiple I/O operations, such as downloading files from the internet or reading data from a \n",
    "database, using multiple threads can help speed up the process.\n",
    "\n",
    "The threading module is used to handle threads in Python. This module provides a way to \n",
    "create, start, and manage threads in a Python program. It also provides synchronization \n",
    "primitives like locks, events, and conditions to help coordinate the execution of multiple \n",
    "threads."
   ]
  },
  {
   "cell_type": "markdown",
   "id": "a91e3dc6",
   "metadata": {},
   "source": [
    "Q2: Why threading module is used? Write the use of the following functions\n",
    "\n",
    "1) activeCount()\n",
    "2) currentThread()\n",
    "3) enumerate()"
   ]
  },
  {
   "cell_type": "markdown",
   "id": "9bdc41aa",
   "metadata": {},
   "source": [
    "The threading module in Python is used to implement threading in Python. Threading allows a \n",
    "program to perform multiple tasks concurrently and can help improve the overall performance \n",
    "of a program.\n",
    "\n",
    "The following are the uses of some of the important functions in the threading module:\n",
    "\n",
    "1)activeCount(): This function is used to return the number of thread objects that are \n",
    "                 currently active. It can be useful for debugging and monitoring purposes \n",
    "                 to ensure that all threads are running as expected and to identify any \n",
    "                 potential issues.\n",
    "            \n",
    "2)currentThread():This function is used to return a reference to the current thread object.\n",
    "                   It can be useful for identifying the current thread's name or ID and for                    debugging purposes.\n",
    "        \n",
    "3)enumerate(): This function is used to return a list of all thread objects that are \n",
    "               currently active. The list includes the main thread and all active child \n",
    "               threads. It can be useful for debugging and monitoring purposes to ensure \n",
    "               that all threads are running as expected and to identify any potential                      issues."
   ]
  },
  {
   "cell_type": "markdown",
   "id": "898c4524",
   "metadata": {},
   "source": [
    "Q3) Explain the following functions\n",
    "1) run()\n",
    "2) start()\n",
    "3) join()\n",
    "4) isAlive()"
   ]
  },
  {
   "cell_type": "markdown",
   "id": "6a0c8938",
   "metadata": {},
   "source": [
    "1) run(): This function is the entry point for a thread's activity. When a thread is                 started, its run() method is called. In general, you should not call this method\n",
    "          directly. Instead, you should use the start() method to start a thread, which               will in turn call the run() method.\n",
    "\n",
    "2) start(): This function is used to start a new thread of execution. When called, it                   creates a new thread and starts executing its run() method. If the thread is               already running, the start() method has no effect.\n",
    "\n",
    "3) join(): This function is used to block the calling thread until the thread on which it              is called completes its execution. When a thread calls join() on another thread,            the calling thread will wait until the other thread finishes before proceeding.            This is useful when you want to ensure that a thread has finished its work                  before continuing execution in the main thread.\n",
    "\n",
    "4) isAlive(): This function is used to check if a thread is currently running. If the                     thread is running, it returns True; otherwise, it returns False. This                       function can be useful for monitoring the status of threads and for ensuring               that they are running as expected."
   ]
  },
  {
   "cell_type": "markdown",
   "id": "0f7bae52",
   "metadata": {},
   "source": [
    "Q4) Write a python program to create two threads. Thread one must print the list of squares\n",
    "and thread two must print the list of cubes"
   ]
  },
  {
   "cell_type": "code",
   "execution_count": null,
   "id": "8b8ef74f",
   "metadata": {},
   "outputs": [],
   "source": [
    "import threading\n",
    "\n",
    "def print_squares():\n",
    "    for i in range(1, 11):\n",
    "        print(i*i)\n",
    "\n",
    "def print_cubes():\n",
    "    for i in range(1, 11):\n",
    "        print(i*i*i)\n",
    "\n",
    "t1 = threading.Thread(target=print_squares)\n",
    "t2 = threading.Thread(target=print_cubes)\n",
    "\n",
    "t1.start()\n",
    "t2.start()\n",
    "\n",
    "t1.join()\n",
    "t2.join()\n",
    "\n",
    "print(\"Done printing squares and cubes.\")"
   ]
  },
  {
   "cell_type": "markdown",
   "id": "17e377f2",
   "metadata": {},
   "source": [
    "Q5) State advantages and disadvantages of multithreading"
   ]
  },
  {
   "cell_type": "markdown",
   "id": "f2ddb454",
   "metadata": {},
   "source": [
    "Advantages:\n",
    "\n",
    "1) Increased performance: Multithreading can improve the overall performance of a program by allowing it to perform multiple tasks concurrently. This can be especially useful for programs that perform a lot of I/O or other blocking operations.\n",
    "\n",
    "2) Efficient resource utilization: Multithreading can help maximize the use of system resources such as CPU time and memory by allowing multiple threads to execute simultaneously.\n",
    "\n",
    "3) Improved responsiveness: Multithreading can make a program more responsive by allowing it to continue processing other tasks while waiting for I/O or other blocking operations to complete.\n",
    "\n",
    "4) Simplified program structure: Multithreading can make it easier to write complex programs by allowing different parts of the program to run independently in separate threads.\n",
    "\n",
    "Disadvantages:\n",
    "\n",
    "1) Increased complexity: Multithreading can add complexity to a program by introducing potential race conditions, deadlocks, and other synchronization issues.\n",
    "\n",
    "2) Difficult to debug: Multithreaded programs can be difficult to debug and test because of the inherent non-determinism introduced by multiple threads executing concurrently.\n",
    "\n",
    "3) Increased memory usage: Multithreaded programs can require more memory than single-threaded programs because each thread requires its own stack and other resources.\n",
    "\n",
    "4) Potential performance degradation: Multithreading can actually degrade the performance of a program if the overhead of managing threads and synchronization outweighs the benefits of concurrency. This can happen if the program is not designed or optimized for multithreading."
   ]
  },
  {
   "cell_type": "markdown",
   "id": "fe2a1269",
   "metadata": {},
   "source": [
    "Q6) Explain deadlocks and race conditions."
   ]
  },
  {
   "cell_type": "markdown",
   "id": "a5f36cb3",
   "metadata": {},
   "source": [
    "Deadlocks and race conditions are two common problems that can occur in multithreaded programs.\n",
    "\n",
    "Deadlocks:\n",
    "\n",
    "A deadlock occurs when two or more threads are waiting for each other to release a resource that they need to continue execution. This can happen when two threads each acquire a resource and then try to acquire the resource held by the other thread, resulting in a circular wait that cannot be broken. Deadlocks can cause a program to hang indefinitely and can be difficult to detect and resolve.\n",
    "\n",
    "Race conditions:\n",
    "\n",
    "A race condition occurs when two or more threads access a shared resource concurrently and the final outcome of the program depends on the order in which the threads execute. This can happen when two threads try to update the same variable or data structure without proper synchronization, resulting in unpredictable or incorrect behavior. Race conditions can cause a program to produce incorrect results or crash, and can be difficult to detect and reproduce because they depend on the timing of the threads.\n",
    "Both deadlocks and race conditions are common problems in multithreaded programming, and can be difficult to detect and resolve. To avoid these problems, it is important to use proper synchronization techniques such as locks, semaphores, and barriers, and to carefully design and test multithreaded programs to ensure correct behavior."
   ]
  }
 ],
 "metadata": {
  "kernelspec": {
   "display_name": "Python 3 (ipykernel)",
   "language": "python",
   "name": "python3"
  },
  "language_info": {
   "codemirror_mode": {
    "name": "ipython",
    "version": 3
   },
   "file_extension": ".py",
   "mimetype": "text/x-python",
   "name": "python",
   "nbconvert_exporter": "python",
   "pygments_lexer": "ipython3",
   "version": "3.10.6"
  }
 },
 "nbformat": 4,
 "nbformat_minor": 5
}
