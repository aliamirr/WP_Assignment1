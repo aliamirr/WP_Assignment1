{
 "cells": [
  {
   "cell_type": "code",
   "execution_count": null,
   "id": "1ad094de",
   "metadata": {},
   "outputs": [],
   "source": [
    "Q1: What is the difference between a t-test and a z-test? Provide an example scenario where you would\n",
    "use each type of test."
   ]
  },
  {
   "cell_type": "markdown",
   "id": "b92126a2",
   "metadata": {},
   "source": [
    "Both t-tests and z-tests are used in statistics to test hypotheses about the mean of a population based on a sample. However, they differ in the conditions under which they are used and in the assumptions they make about the data.\n",
    "\n",
    "A t-test is used when the sample size is small (typically less than 30) or when the population variance is unknown. It assumes that the data are normally distributed and that the sample is drawn randomly from the population. A t-test is usually used when comparing the means of two groups, such as in a randomized controlled trial comparing a treatment group to a control group.\n",
    "\n",
    "On the other hand, a z-test is used when the sample size is large (typically greater than 30) and the population variance is known or can be estimated. It assumes that the data are normally distributed and that the sample is drawn randomly from the population. A z-test is usually used when comparing a sample mean to a known population mean, or when comparing the means of two groups when the population variance is known.\n",
    "\n",
    "Example scenario where a t-test is used:\n",
    "\n",
    "Suppose you want to test the effectiveness of a new drug for reducing blood pressure. You randomly select 20 patients with high blood pressure and give 10 of them the new drug and the other 10 a placebo. After a certain period, you measure the blood pressure of each patient and calculate the mean blood pressure for each group. To test whether the drug is effective, you would use a two-sample t-test to compare the means of the two groups.\n",
    "\n",
    "Example scenario where a z-test is used:\n",
    "\n",
    "Suppose you want to test whether the average height of male students in your university is different from the national average height of 70 inches. You randomly select 100 male students from your university and measure their heights. To test your hypothesis, you would use a one-sample z-test to compare the sample mean to the known population mean."
   ]
  },
  {
   "cell_type": "code",
   "execution_count": null,
   "id": "e8e6415f",
   "metadata": {},
   "outputs": [],
   "source": [
    "Q2: Differentiate between one-tailed and two-tailed tests."
   ]
  },
  {
   "cell_type": "markdown",
   "id": "0dc63b3b",
   "metadata": {},
   "source": [
    "One-tailed and two-tailed tests refer to the ways in which the rejection region of a statistical hypothesis test is defined.\n",
    "\n",
    "In a two-tailed test, the rejection region is split evenly between the two tails of the distribution. This means that the null hypothesis is rejected if the sample statistic is either significantly larger or significantly smaller than the hypothesized value. In other words, the alternative hypothesis is directional, and the researcher is interested in whether the parameter is different from the hypothesized value in either direction.\n",
    "\n",
    "For example, suppose a researcher is interested in testing whether a new drug has an effect on blood pressure. The null hypothesis would be that the drug has no effect, and the alternative hypothesis would be that the drug has an effect, either increasing or decreasing blood pressure. A two-tailed test would be appropriate in this case because the researcher is interested in whether the drug has any effect, regardless of the direction.\n",
    "\n",
    "In a one-tailed test, the rejection region is located entirely in one tail of the distribution. This means that the null hypothesis is rejected if the sample statistic is significantly larger or significantly smaller than the hypothesized value in one specific direction. In other words, the alternative hypothesis is directional, and the researcher is interested in whether the parameter is different from the hypothesized value in a specific direction.\n",
    "\n",
    "For example, suppose a researcher is interested in testing whether a new teaching method improves test scores. The null hypothesis would be that the teaching method has no effect, and the alternative hypothesis would be that the teaching method improves test scores. A one-tailed test would be appropriate in this case because the researcher is interested in whether the teaching method improves test scores, not whether it has any effect, regardless of the direction. Therefore, the rejection region would be located in the positive tail of the distribution because the alternative hypothesis is directional towards an improvement in test scores.\n",
    "\n",
    "The choice between a one-tailed and two-tailed test depends on the research question and the hypothesis being tested. A one-tailed test is more powerful than a two-tailed test when the alternative hypothesis is directional, but it is less appropriate when the direction of the effect is uncertain or when there are potential effects in both directions."
   ]
  },
  {
   "cell_type": "code",
   "execution_count": null,
   "id": "1e8a7bfb",
   "metadata": {},
   "outputs": [],
   "source": [
    "Q3: Explain the concept of Type 1 and Type 2 errors in hypothesis testing. Provide an example scenario for\n",
    "each type of error."
   ]
  },
  {
   "cell_type": "markdown",
   "id": "96b30692",
   "metadata": {},
   "source": [
    "In hypothesis testing, Type 1 and Type 2 errors refer to the two types of errors that can occur when testing a null hypothesis.\n",
    "\n",
    "Type 1 error, also known as a false positive, occurs when the null hypothesis is rejected even though it is actually true. This means that the researcher concludes that there is a significant difference between the sample and the population when, in reality, there is no difference. The probability of making a Type 1 error is denoted by the Greek letter alpha (α) and is typically set at 0.05 or 0.01.\n",
    "\n",
    "Example scenario for Type 1 error:\n",
    "\n",
    "Suppose a pharmaceutical company is testing a new drug and wants to ensure that it is effective in treating a certain condition. The null hypothesis is that the drug has no effect, and the alternative hypothesis is that the drug is effective. If the company concludes that the drug is effective (rejects the null hypothesis) based on a sample that is too small or too biased, they might be making a Type 1 error by concluding that the drug is effective when it is not.\n",
    "\n",
    "Type 2 error, also known as a false negative, occurs when the null hypothesis is not rejected even though it is actually false. This means that the researcher fails to detect a significant difference between the sample and the population when, in reality, there is a difference. The probability of making a Type 2 error is denoted by the Greek letter beta (β).\n",
    "\n",
    "Example scenario for Type 2 error:\n",
    "\n",
    "Suppose a medical researcher is testing whether a new treatment reduces the mortality rate for a certain disease. The null hypothesis is that the treatment has no effect, and the alternative hypothesis is that the treatment reduces mortality. If the researcher fails to detect a significant difference (fails to reject the null hypothesis) due to a small sample size or a lack of statistical power, they might be making a Type 2 error by failing to identify the true effect of the treatment.\n",
    "\n",
    "It is important for researchers to balance the risks of Type 1 and Type 2 errors by choosing appropriate sample sizes, statistical methods, and significance levels. In general, a lower significance level (α) can reduce the risk of Type 1 errors but may increase the risk of Type 2 errors, while a higher significance level can increase the risk of Type 1 errors but decrease the risk of Type 2 errors."
   ]
  },
  {
   "cell_type": "code",
   "execution_count": null,
   "id": "d1df4c6f",
   "metadata": {},
   "outputs": [],
   "source": [
    "Q4: Explain Bayes's theorem with an example."
   ]
  },
  {
   "cell_type": "markdown",
   "id": "49e8b6e9",
   "metadata": {},
   "source": [
    "Bayes's theorem states that the probability of an event A given that event B has occurred is equal to the probability of event B given that event A has occurred, times the probability of event A, divided by the probability of event B. This can be written as:\n",
    "\n",
    "P(A|B) = P(B|A) * P(A) / P(B)\n",
    "\n",
    "where P(A|B) is the probability of event A given that event B has occurred, P(B|A) is the probability of event B given that event A has occurred, P(A) is the prior probability of event A, and P(B) is the prior probability of event B.\n",
    "\n",
    "\n",
    "\n",
    "Example scenario:\n",
    "\n",
    "Suppose a medical test is designed to detect a rare disease that affects 1 in 1000 people. The test has a sensitivity of 95%, meaning that it correctly identifies 95% of people who have the disease, and a specificity of 99%, meaning that it correctly identifies 99% of people who do not have the disease.\n",
    "\n",
    "If a randomly selected person tests positive for the disease, what is the probability that they actually have the disease?\n",
    "\n",
    "Let A be the event that the person has the disease, and B be the event that the person tests positive.\n",
    "\n",
    "P(A) = 0.001 (the prior probability of the person having the disease)\n",
    "P(B|A) = 0.95 (the probability of testing positive given that the person has the disease)\n",
    "P(B|not A) = 0.01 (the probability of testing positive given that the person does not have the disease)\n",
    "\n",
    "Using Bayes's theorem, we can calculate the probability of the person actually having the disease given that they tested positive:\n",
    "\n",
    "P(A|B) = P(B|A) * P(A) / P(B)\n",
    "\n",
    "P(B) can be calculated using the law of total probability:\n",
    "\n",
    "P(B) = P(B|A) * P(A) + P(B|not A) * P(not A)\n",
    "\n",
    "P(not A) = 1 - P(A) = 0.999\n",
    "\n",
    "So,\n",
    "\n",
    "P(B) = 0.95 * 0.001 + 0.01 * 0.999 = 0.01044\n",
    "\n",
    "Now we can calculate P(A|B):\n",
    "\n",
    "P(A|B) = P(B|A) * P(A) / P(B)\n",
    "= 0.95 * 0.001 / 0.01044\n",
    "= 0.0909 or 9.09%\n",
    "\n",
    "Therefore, the probability that the person actually has the disease given that they tested positive is only 9.09%, despite the positive test result. This shows that even with a high sensitivity and specificity, the probability of a false positive result can still be significant, especially for rare events."
   ]
  },
  {
   "cell_type": "code",
   "execution_count": null,
   "id": "97543dce",
   "metadata": {},
   "outputs": [],
   "source": [
    "Q5: What is a confidence interval? How to calculate the confidence interval, explain with an example."
   ]
  },
  {
   "cell_type": "markdown",
   "id": "33fa2d3a",
   "metadata": {},
   "source": [
    "A confidence interval is a range of values that we use to estimate the true value of a population parameter, such as a mean or a proportion. It gives us an idea of how much uncertainty there is in our estimate, and how much it might vary if we were to repeat the sampling process.\n",
    "\n",
    "A confidence interval is usually expressed as a range of values around our point estimate, and is accompanied by a confidence level, which represents the probability that the true value of the parameter falls within the interval. For example, a 95% confidence interval means that if we were to repeat the sampling process many times, we would expect the true value of the parameter to fall within the interval about 95% of the time.\n",
    "\n",
    "To calculate a confidence interval, we need to know the point estimate of the parameter, the standard error of the estimate, and the desired level of confidence. The formula for calculating a confidence interval depends on the type of parameter being estimated and the distribution of the sample.\n",
    "\n",
    "Example:\n",
    "\n",
    "Suppose we want to estimate the average height of all students in a particular college. We take a random sample of 50 students and measure their heights. The sample mean height is 68 inches, and the standard deviation is 2.5 inches.\n",
    "\n",
    "To calculate a 95% confidence interval for the population mean height, we first need to calculate the standard error of the estimate, which is the standard deviation of the sampling distribution of the mean:\n",
    "\n",
    "SE = s / sqrt(n)\n",
    "\n",
    "where s is the sample standard deviation, and n is the sample size.\n",
    "\n",
    "SE = 2.5 / sqrt(50) = 0.3536\n",
    "\n",
    "Next, we can use the t-distribution, which is used when the sample size is small or when the population standard deviation is unknown. We use a t-distribution with n-1 degrees of freedom, which in this case is 49.\n",
    "\n",
    "The formula for the confidence interval is:\n",
    "\n",
    "CI = X̄ ± tα/2 * SE\n",
    "\n",
    "where X̄ is the sample mean, tα/2 is the critical value of the t-distribution at the desired level of confidence and degrees of freedom, and SE is the standard error of the estimate.\n",
    "\n",
    "For a 95% confidence interval and 49 degrees of freedom, the critical value of t is approximately 2.009.\n",
    "\n",
    "CI = 68 ± 2.009 * 0.3536 = (67.303, 68.697)\n",
    "\n",
    "Therefore, we can say with 95% confidence that the true mean height of all students in the college falls within the range of 67.303 to 68.697 inches."
   ]
  },
  {
   "cell_type": "code",
   "execution_count": null,
   "id": "002b152e",
   "metadata": {},
   "outputs": [],
   "source": [
    "Q6. Use Bayes' Theorem to calculate the probability of an event occurring given prior knowledge of the\n",
    "event's probability and new evidence. Provide a sample problem and solution."
   ]
  },
  {
   "cell_type": "markdown",
   "id": "05cea928",
   "metadata": {},
   "source": [
    "Problem: A doctor administers a test for a certain disease that is known to have a false positive rate of 10% and a false negative rate of 5%. The prevalence of the disease in the population is 1%. If a patient tests positive for the disease, what is the probability that they actually have the disease?\n",
    "\n",
    "Solution:\n",
    "\n",
    "Let's define the following events:\n",
    "\n",
    "A = the patient has the disease\n",
    "B = the patient tests positive for the disease\n",
    "\n",
    "We want to find P(A|B), the probability that the patient has the disease given that they tested positive.\n",
    "\n",
    "Using Bayes' Theorem, we have:\n",
    "\n",
    "P(A|B) = P(B|A) * P(A) / P(B)\n",
    "\n",
    "where:\n",
    "\n",
    "P(B|A) = the probability of testing positive given that the patient has the disease = 1 - 0.05 = 0.95 (true positive rate)\n",
    "P(A) = the prior probability of the patient having the disease = 0.01 (prevalence in the population)\n",
    "P(B) = the total probability of testing positive, which can be calculated using the law of total probability:\n",
    "\n",
    "P(B) = P(B|A) * P(A) + P(B|not A) * P(not A)\n",
    "\n",
    "where:\n",
    "\n",
    "P(B|not A) = the probability of testing positive given that the patient does not have the disease = 0.1 (false positive rate)\n",
    "P(not A) = the complement of A, i.e., the probability of the patient not having the disease = 1 - P(A) = 0.99\n",
    "\n",
    "Therefore, we have:\n",
    "\n",
    "P(B) = 0.95 * 0.01 + 0.1 * 0.99 = 0.1085\n",
    "\n",
    "Now we can substitute these values into Bayes' Theorem:\n",
    "\n",
    "P(A|B) = 0.95 * 0.01 / 0.1085 = 0.0876\n",
    "\n",
    "So the probability that a patient actually has the disease given a positive test result is about 8.8%. This shows that even with a fairly accurate test, a positive result does not necessarily mean that the patient has the disease, especially if the prevalence in the population is low."
   ]
  },
  {
   "cell_type": "code",
   "execution_count": null,
   "id": "6122551f",
   "metadata": {},
   "outputs": [],
   "source": [
    "Q7. Calculate the 95% confidence interval for a sample of data with a mean of 50 and a standard deviation\n",
    "of 5. Interpret the results."
   ]
  },
  {
   "cell_type": "markdown",
   "id": "9bbfaed5",
   "metadata": {},
   "source": [
    "To calculate the 95% confidence interval, we need to use the formula:\n",
    "\n",
    "CI = X̄ ± z*(σ/√n)\n",
    "\n",
    "where:\n",
    "\n",
    "X̄ is the sample mean\n",
    "σ is the population standard deviation (or the sample standard deviation if we're assuming it's representative of the population)\n",
    "n is the sample size\n",
    "z is the z-score corresponding to the desired level of confidence. For a 95% confidence interval, the z-score is 1.96.\n",
    "Substituting the values we have:\n",
    "\n",
    "CI = 50 ± 1.96*(5/√n)\n",
    "\n",
    "We don't have the sample size (n), so we can't calculate the exact confidence interval. However, we can say that if we were to take multiple samples of the same size and calculate the 95% confidence interval for each sample, approximately 95% of the intervals would contain the true population mean.\n",
    "\n",
    "Interpretation: A 95% confidence interval means that we are 95% confident that the true population mean lies within the interval. In this case, the interval would be centered around the sample mean of 50, and the width of the interval would depend on the sample size. The wider the interval, the less precise our estimate of the population mean. The confidence level of 95% indicates that there is a 5% chance that the interval we calculated does not contain the true population mean."
   ]
  },
  {
   "cell_type": "code",
   "execution_count": null,
   "id": "e014bec9",
   "metadata": {},
   "outputs": [],
   "source": [
    "Q8. What is the margin of error in a confidence interval? How does sample size affect the margin of error?\n",
    "Provide an example of a scenario where a larger sample size would result in a smaller margin of error."
   ]
  },
  {
   "cell_type": "markdown",
   "id": "fce1c5df",
   "metadata": {},
   "source": [
    "The margin of error in a confidence interval is the amount by which the interval may differ from the true population parameter. It represents the level of uncertainty in our estimate of the true parameter, given the sample data and the desired level of confidence. The margin of error is calculated as half the width of the confidence interval.\n",
    "\n",
    "The margin of error depends on several factors, including the sample size and the desired level of confidence. A larger sample size generally leads to a smaller margin of error, as the sample mean becomes a more precise estimate of the population mean. This is because larger sample sizes reduce the effect of sampling variability and random error, and increase the accuracy of the estimate.\n",
    "\n",
    "Here's an example scenario to illustrate this:\n",
    "\n",
    "Suppose we want to estimate the average height of all students in a large university. We take a random sample of 50 students and calculate their average height to be 68 inches, with a standard deviation of 3 inches. We want to construct a 95% confidence interval for the population mean height.\n",
    "\n",
    "Using the formula for the margin of error, we have:\n",
    "\n",
    "Margin of error = z*(σ/√n)\n",
    "\n",
    "where z is the z-score corresponding to a 95% confidence level (1.96), σ is the standard deviation of the population (which we don't know, so we use the sample standard deviation of 3 inches), and n is the sample size (50).\n",
    "\n",
    "Margin of error = 1.96*(3/√50) ≈ 0.84 inches\n",
    "\n",
    "This means that we can be 95% confident that the true population mean height lies within the range of 68 ± 0.84 inches, or (67.16, 68.84) inches.\n",
    "\n",
    "Now suppose we increase the sample size to 200 students, while keeping everything else the same. Using the same formula, we get:\n",
    "\n",
    "Margin of error = 1.96*(3/√200) ≈ 0.67 inches\n",
    "\n",
    "This means that the margin of error is smaller with a larger sample size, indicating that our estimate of the population mean is more precise. With a smaller margin of error, we can be more confident that the true population mean falls within a narrower range of values."
   ]
  },
  {
   "cell_type": "code",
   "execution_count": null,
   "id": "cbabae26",
   "metadata": {},
   "outputs": [],
   "source": [
    "Q9. Calculate the z-score for a data point with a value of 75, a population mean of 70, and a population\n",
    "standard deviation of 5. Interpret the results."
   ]
  },
  {
   "cell_type": "markdown",
   "id": "664a44c2",
   "metadata": {},
   "source": [
    "The z-score for a data point represents the number of standard deviations that the data point is away from the population mean. We can calculate the z-score using the formula:\n",
    "\n",
    "z = (x - μ) / σ\n",
    "\n",
    "where x is the data point value, μ is the population mean, and σ is the population standard deviation.\n",
    "\n",
    "Substituting the given values, we get:\n",
    "\n",
    "z = (75 - 70) / 5 = 1\n",
    "\n",
    "This means that the data point of 75 is one standard deviation above the population mean. A z-score of 1 corresponds to the 84th percentile of the standard normal distribution, indicating that the data point is higher than 84% of all other data points in the population. We can also use a z-table to find the proportion of the distribution that falls above this z-score, which is approximately 0.1587 or 15.87%. Therefore, we can say that the data point of 75 is relatively high compared to the rest of the population, but it is not an extreme outlier."
   ]
  },
  {
   "cell_type": "code",
   "execution_count": null,
   "id": "e1081b87",
   "metadata": {},
   "outputs": [],
   "source": [
    "Q10. In a study of the effectiveness of a new weight loss drug, a sample of 50 participants lost an average\n",
    "of 6 pounds with a standard deviation of 2.5 pounds. Conduct a hypothesis test to determine if the drug is\n",
    "significantly effective at a 95% confidence level using a t-test."
   ]
  },
  {
   "cell_type": "markdown",
   "id": "8ede204b",
   "metadata": {},
   "source": [
    "To conduct a hypothesis test to determine if the weight loss drug is significantly effective at a 95% confidence level using a t-test, we need to set up our null and alternative hypotheses and calculate the t-statistic and the corresponding p-value.\n",
    "\n",
    "Null hypothesis: The weight loss drug is not significantly effective, and the true mean weight loss is equal to or less than zero.\n",
    "\n",
    "Alternative hypothesis: The weight loss drug is significantly effective, and the true mean weight loss is greater than zero.\n",
    "\n",
    "We will use a one-sample t-test, as we are comparing the mean weight loss of the sample to a hypothesized population mean of zero. The test statistic can be calculated using the formula:\n",
    "\n",
    "t = (x̄ - μ) / (s / √n)\n",
    "\n",
    "where x̄ is the sample mean, μ is the hypothesized population mean (which is zero in this case), s is the sample standard deviation, and n is the sample size.\n",
    "\n",
    "Substituting the given values, we get:\n",
    "\n",
    "t = (6 - 0) / (2.5 / √50) = 16.97\n",
    "\n",
    "The critical t-value for a one-tailed test with 49 degrees of freedom and a significance level of 0.05 is 1.678,\n",
    "\n",
    "Since the calculated t-value of 16.97 is greater than the critical t-value of 1.678, we reject the null hypothesis and conclude that the weight loss drug is significantly effective at a 95% confidence level. The p-value for this test is less than 0.001, indicating that the probability of obtaining a sample mean of 6 pounds or more by chance alone, assuming that the true population mean is zero or less, is very low."
   ]
  },
  {
   "cell_type": "code",
   "execution_count": null,
   "id": "d437dd40",
   "metadata": {},
   "outputs": [],
   "source": [
    "Q11. In a survey of 500 people, 65% reported being satisfied with their current job. Calculate the 95%\n",
    "confidence interval for the true proportion of people who are satisfied with their job."
   ]
  },
  {
   "cell_type": "markdown",
   "id": "7807bb1d",
   "metadata": {},
   "source": [
    "To calculate the 95% confidence interval for the true proportion of people who are satisfied with their job, we can use the formula:\n",
    "\n",
    "CI = p ± z*√(p(1-p)/n)\n",
    "\n",
    "where:\n",
    "\n",
    "CI is the confidence interval\n",
    "p is the sample proportion (0.65 in this case)\n",
    "z is the critical z-value for the desired confidence level (1.96 for a 95% confidence level)\n",
    "n is the sample size (500 in this case)\n",
    "Plugging in the values, we get:\n",
    "\n",
    "CI = 0.65 ± 1.96√((0.65(1-0.65))/500)\n",
    "\n",
    "Simplifying this expression, we get:\n",
    "\n",
    "CI = 0.65 ± 0.0418\n",
    "\n",
    "Therefore, the 95% confidence interval for the true proportion of people who are satisfied with their job is (0.6081, 0.6918).\n",
    "\n",
    "Interpretation: We can be 95% confident that the true proportion of people who are satisfied with their job is between 60.8% and 69.2%."
   ]
  },
  {
   "cell_type": "code",
   "execution_count": null,
   "id": "bbea8fe3",
   "metadata": {},
   "outputs": [],
   "source": [
    "Q12. A researcher is testing the effectiveness of two different teaching methods on student performance.\n",
    "Sample A has a mean score of 85 with a standard deviation of 6, while sample B has a mean score of 82\n",
    "with a standard deviation of 5. Conduct a hypothesis test to determine if the two teaching methods have a\n",
    "significant difference in student performance using a t-test with a significance level of 0.01."
   ]
  },
  {
   "cell_type": "markdown",
   "id": "a4d931e5",
   "metadata": {},
   "source": [
    "Null hypothesis: There is no significant difference in student performance between the two teaching methods.\n",
    "Alternative hypothesis: There is a significant difference in student performance between the two teaching methods.\n",
    "The level of significance (alpha) to be used in the test is 0.01.\n",
    "The test statistic (t-value) is calculated as:\n",
    "\n",
    "t = (meanA - meanB) / (sqrt((sA^2 / nA) + (sB^2 / nB)))\n",
    "t = (85 - 82) / (sqrt((6^2 / 30) + (5^2 / 30)))\n",
    "t = 2.103\n",
    "\n",
    "The degrees of freedom (df) for the t-distribution are calculated as:\n",
    "df = (sA^2 / nA + sB^2 / nB)^2 / ((sA^2 / nA)^2 / (nA - 1) + (sB^2 / nB)^2 / (nB - 1))\n",
    "df = ((6^2 / 30) + (5^2 / 30))^2 / (((6^2 / 30)^2 / 29) + ((5^2 / 30)^2 / 29))\n",
    "df = 56.21 (rounded to 57)\n",
    "\n",
    "The critical value of the t-distribution for alpha = 0.01 and df = 57 is found using a t-table or a calculator to be approximately 2.66.\n",
    "\n",
    "\n",
    "The calculated t-value of 2.103 is less than the critical value of 2.66, so we fail to reject the null hypothesis. \n",
    "\n",
    "Therefore, we can conclude that there is not enough evidence to suggest that the two teaching methods have a significant difference in student performance at a 99% confidence level."
   ]
  },
  {
   "cell_type": "code",
   "execution_count": null,
   "id": "864b1f96",
   "metadata": {},
   "outputs": [],
   "source": [
    "Q13. A population has a mean of 60 and a standard deviation of 8. A sample of 50 observations has a mean\n",
    "of 65. Calculate the 90% confidence interval for the true population mean."
   ]
  },
  {
   "cell_type": "markdown",
   "id": "7b3acc68",
   "metadata": {},
   "source": [
    "To calculate the 90% confidence interval for the true population mean, we can use the formula:\n",
    "\n",
    "CI = x̄ ± z*(σ/√n)\n",
    "\n",
    "where x̄ is the sample mean, σ is the population standard deviation, n is the sample size, z is the z-score corresponding to the confidence level, and CI is the confidence interval.\n",
    "\n",
    "Since we have a sample size of 50 and want to calculate a 90% confidence interval, the corresponding z-score can be found using a z-table(⍺ = 0.1), which is approximately 1.676.\n",
    "\n",
    "Substituting the given values into the formula, we get:\n",
    "\n",
    "CI = 65 ± 1.676*(8/√50)\n",
    "= 65 ± 1.896\n",
    "\n",
    "Therefore, the 90% confidence interval for the true population mean is (63.104, 66.89). This means that we can be 90% confident that the true population mean falls between 63.104 and 66.89."
   ]
  },
  {
   "cell_type": "code",
   "execution_count": null,
   "id": "2ffa8775",
   "metadata": {},
   "outputs": [],
   "source": [
    "Q14. In a study of the effects of caffeine on reaction time, a sample of 30 participants had an average\n",
    "reaction time of 0.25 seconds with a standard deviation of 0.05 seconds. Conduct a hypothesis test to\n",
    "determine if the caffeine has a significant effect on reaction time at a 90% confidence level using a t-test."
   ]
  },
  {
   "cell_type": "markdown",
   "id": "25e4488b",
   "metadata": {},
   "source": [
    "To conduct a hypothesis test to determine if caffeine has a significant effect on reaction time at a 90% confidence level, we need to set up the null and alternative hypotheses:\n",
    "\n",
    "Null hypothesis: The population mean reaction time with caffeine is equal to the population mean reaction time without caffeine.\n",
    "\n",
    "Alternative hypothesis: The population mean reaction time with caffeine is significantly different from the population mean reaction time without caffeine.\n",
    "\n",
    "We can use a two-tailed t-test since we are interested in detecting any significant difference in reaction time between the two groups.\n",
    "\n",
    "The t-test statistic can be calculated using the formula:\n",
    "\n",
    "t = (x̄ - μ) / (s / sqrt(n))\n",
    "\n",
    "where x̄ is the sample mean, μ is the hypothesized population mean, s is the sample standard deviation, and n is the sample size.\n",
    "\n",
    "Substituting the given values, we get:\n",
    "\n",
    "t = (0.25 - μ) / (0.05 / sqrt(30))\n",
    "\n",
    "To determine the critical t-value for a two-tailed test at a 90% confidence level with 29 degrees of freedom, we can use a t-distribution table. The critical t-value is approximately 1.699.\n",
    "\n",
    "Since the alternative hypothesis is two-tailed, we need to compare the absolute value of the calculated t-value with the critical t-value.\n",
    "\n",
    "If the absolute value of the calculated t-value is greater than the critical t-value, we reject the null hypothesis and conclude that there is a significant difference in reaction time between the two groups.\n",
    "\n",
    "If the absolute value of the calculated t-value is less than the critical t-value, we fail to reject the null hypothesis and conclude that there is not enough evidence to suggest a significant difference in reaction time between the two groups.\n",
    "\n",
    "Calculating the t-value:\n",
    "\n",
    "t = (0.25 - μ) / (0.05 / sqrt(30))\n",
    "\n",
    "Assuming the null hypothesis is true, μ = 0.25\n",
    "\n",
    "t = (0.25 - 0.25) / (0.05 / sqrt(30))\n",
    "t = 0\n",
    "\n",
    "The calculated t-value is 0.\n",
    "\n",
    "Since the calculated t-value is not greater than the critical t-value of 1.699, we fail to reject the null hypothesis and conclude that there is not enough evidence to suggest a significant difference in reaction time between the two groups at a 90% confidence level."
   ]
  }
 ],
 "metadata": {
  "kernelspec": {
   "display_name": "Python 3 (ipykernel)",
   "language": "python",
   "name": "python3"
  },
  "language_info": {
   "codemirror_mode": {
    "name": "ipython",
    "version": 3
   },
   "file_extension": ".py",
   "mimetype": "text/x-python",
   "name": "python",
   "nbconvert_exporter": "python",
   "pygments_lexer": "ipython3",
   "version": "3.10.6"
  }
 },
 "nbformat": 4,
 "nbformat_minor": 5
}
