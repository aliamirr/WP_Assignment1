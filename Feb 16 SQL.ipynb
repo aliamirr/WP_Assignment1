{
 "cells": [
  {
   "cell_type": "code",
   "execution_count": null,
   "id": "f370b394",
   "metadata": {},
   "outputs": [],
   "source": [
    "Q1. What is a database? Differentiate between SQL and NoSQL databases."
   ]
  },
  {
   "cell_type": "markdown",
   "id": "77f83be7",
   "metadata": {},
   "source": [
    "A database is a structured collection of data that is organized in a way that allows for efficient storage, retrieval, and manipulation of the data. Databases can be used to store a wide variety of data, from simple lists of information to complex structures like multimedia files or financial transactions.\n",
    "\n",
    "SQL (Structured Query Language) and NoSQL (Not only SQL) are two different types of database management systems.\n",
    "\n",
    "SQL databases are relational databases that store data in tables and enforce strict rules for data structure and relationships between tables. SQL databases use SQL as the primary language for querying and manipulating the data. Examples of SQL databases include MySQL, Oracle, and PostgreSQL.\n",
    "\n",
    "NoSQL databases, on the other hand, do not use a fixed schema like SQL databases. Instead, they use a flexible data model that allows for the storage of unstructured, semi-structured, and structured data. NoSQL databases do not require predefined relationships between tables, and they use a variety of query languages, including SQL, for data retrieval and manipulation. Examples of NoSQL databases include MongoDB, Cassandra, and Couchbase.\n",
    "\n",
    "In summary, the main differences between SQL and NoSQL databases are the way they store and organize data, the structure of their schemas, and the languages used to query and manipulate the data. SQL databases are well-suited for complex transactions and structured data, while NoSQL databases are better for handling unstructured and complex data."
   ]
  },
  {
   "cell_type": "code",
   "execution_count": null,
   "id": "e689ebb1",
   "metadata": {},
   "outputs": [],
   "source": [
    "Q2. What is DDL? Explain why CREATE, DROP, ALTER, and TRUNCATE are used with an example."
   ]
  },
  {
   "cell_type": "markdown",
   "id": "1d250218",
   "metadata": {},
   "source": [
    "DDL stands for Data Definition Language, and it is a set of SQL commands used to define the structure of a database and the objects within it, such as tables, indexes, views, and procedures."
   ]
  },
  {
   "cell_type": "code",
   "execution_count": null,
   "id": "6633930b",
   "metadata": {},
   "outputs": [],
   "source": [
    "The following are some of the common DDL commands and their usage:\n",
    "\n",
    "1) CREATE: The CREATE statement is used to create new objects in a database, such as tables,\n",
    "    views, indexes, and procedures. For example, the following SQL statement creates a new \n",
    "    table called \"employees\" with columns for employee ID, name, and salary:\n",
    "\n",
    "CREATE TABLE employees (\n",
    "  id INT PRIMARY KEY,\n",
    "  name VARCHAR(50),\n",
    "  salary DECIMAL(10,2)\n",
    ");\n",
    "\n",
    "2) DROP: The DROP statement is used to remove existing objects from a database. For example,\n",
    "    the following SQL statement drops the \"employees\" table:\n",
    "\n",
    "DROP TABLE employees;\n",
    "\n",
    "3) ALTER: The ALTER statement is used to modify the structure of an existing object in a \n",
    "    database. For example, the following SQL statement adds a new column called \"department\"\n",
    "    to the \"employees\" table:\n",
    "\n",
    "ALTER TABLE employees ADD COLUMN department VARCHAR(50);\n",
    "\n",
    "4) TRUNCATE: The TRUNCATE statement is used to delete all data from a table while keeping \n",
    "    the table structure intact. For example, the following SQL statement removes all data \n",
    "    from the \"employees\" table:\n",
    "\n",
    "TRUNCATE TABLE employees;\n",
    "\n",
    "These commands are important in managing the structure and contents of a database. CREATE, \n",
    "ALTER, and DROP are used to create, modify, and remove database objects, while TRUNCATE is \n",
    "used to delete all data from a table quickly."
   ]
  },
  {
   "cell_type": "code",
   "execution_count": null,
   "id": "7c709f08",
   "metadata": {},
   "outputs": [],
   "source": [
    "Q3. What is DML? Explain INSERT, UPDATE, and DELETE with an example."
   ]
  },
  {
   "cell_type": "code",
   "execution_count": null,
   "id": "f6ad26a2",
   "metadata": {},
   "outputs": [],
   "source": [
    "DML stands for Data Manipulation Language, which is a subset of SQL used to manipulate data\n",
    "in a relational database. DML commands are used to insert, update, delete, and retrieve data\n",
    "from a database.\n",
    "\n",
    "1) INSERT: The INSERT command is used to add new rows of data to a table. For example, let's\n",
    "    say we have a table named \"customers\" with columns \"id\", \"name\", and \"email\". To add a \n",
    "    new customer to the table, we can use the following INSERT command:\n",
    "\n",
    "INSERT INTO customers (id, name, email)\n",
    "VALUES (1, 'John Doe', 'johndoe@example.com');\n",
    "\n",
    "This command will add a new row to the \"customers\" table with the values 1, 'John Doe', and\n",
    "'johndoe@example.com' in the \"id\", \"name\", and \"email\" columns, respectively.\n",
    "\n",
    "\n",
    "2) UPDATE: The UPDATE command is used to modify existing rows of data in a table. For \n",
    "    example, let's say we want to update the email address of a customer with the ID of 1. \n",
    "    We can use the following UPDATE command:\n",
    "\n",
    "UPDATE customers\n",
    "SET email = 'newemail@example.com'\n",
    "WHERE id = 1;\n",
    "\n",
    "This command will update the email address of the customer with the ID of 1 to \n",
    "'newemail@example.com'.\n",
    "\n",
    "\n",
    "3)DELETE: The DELETE command is used to remove rows of data from a table. For example, let's\n",
    "    say we want to delete a customer with the ID of 1. We can use the following DELETE \n",
    "    command:\n",
    "\n",
    "DELETE FROM customers\n",
    "WHERE id = 1;\n",
    "\n",
    "This command will remove the row from the \"customers\" table where the \"id\" column has a \n",
    "value of 1."
   ]
  },
  {
   "cell_type": "code",
   "execution_count": null,
   "id": "42b82a71",
   "metadata": {},
   "outputs": [],
   "source": [
    "Q4. What is DQL? Explain SELECT with an example."
   ]
  },
  {
   "cell_type": "code",
   "execution_count": null,
   "id": "24cf42c9",
   "metadata": {},
   "outputs": [],
   "source": [
    "DQL stands for Data Query Language, which is used to retrieve data from a database. The most\n",
    "commonly used DQL statement is SELECT, which retrieves data from one or more tables in a \n",
    "database.\n",
    "\n",
    "The basic syntax for SELECT statement is as follows:\n",
    "\n",
    "\n",
    "SELECT column1, column2, ... FROM table_name;\n",
    "This statement retrieves all the data from the specified columns in the table.\n",
    "\n",
    "Here's an example:\n",
    "\n",
    "Suppose we have a table named students with the following columns: id, name, age, and grade.\n",
    "\n",
    "    \n",
    "To retrieve all the data from the students table, we would use the following SELECT statement:\n",
    "\n",
    "SELECT * FROM students;\n",
    "This would retrieve all the data from all the columns in the students table.\n",
    "\n",
    "\n",
    "\n",
    "To retrieve specific data from the table, we can specify the column names in the SELECT \n",
    "statement:\n",
    "\n",
    "SELECT name, age FROM students;\n",
    "This would retrieve only the data from the name and age columns in the students table.\n",
    "\n",
    "\n",
    "\n",
    "We can also use the WHERE clause to filter the data based on certain conditions. For example,\n",
    "to retrieve the data for students who are older than 18, we can use the following SELECT \n",
    "statement:\n",
    "\n",
    "\n",
    "SELECT * FROM students WHERE age > 18;\n",
    "This would retrieve all the data from the students table where the age is greater than 18."
   ]
  },
  {
   "cell_type": "code",
   "execution_count": null,
   "id": "7b6a5953",
   "metadata": {},
   "outputs": [],
   "source": [
    "Q5. Explain Primary Key and Foreign Key."
   ]
  },
  {
   "cell_type": "markdown",
   "id": "86840296",
   "metadata": {},
   "source": [
    "In relational database design, a primary key is a field or a combination of fields that uniquely identifies each record in a table. It serves as a unique identifier for each record, and its values cannot be duplicated within the table. A primary key can be created on one or multiple columns in a table and is used as a reference point for other tables to establish relationships.\n",
    "\n",
    "A foreign key, on the other hand, is a column or a set of columns in a table that refers to the primary key of another table. It is used to establish relationships between tables and ensures referential integrity. A foreign key in a table points to a primary key in another table and can be used to fetch related data from the referenced table.\n",
    "\n",
    "For example, consider two tables - Orders and Customers. The Orders table has a primary key column called OrderID, and the Customers table has a primary key column called CustomerID. The Orders table also has a foreign key column called CustomerID that references the Customers table's CustomerID column. This relationship indicates that each order is associated with a specific customer. The use of foreign keys ensures that only valid customer IDs can be entered in the Orders table, preventing orphaned records and maintaining referential integrity."
   ]
  },
  {
   "cell_type": "code",
   "execution_count": null,
   "id": "f31edb10",
   "metadata": {},
   "outputs": [],
   "source": [
    "Q6. Write a python code to connect MySQL to python. Explain the cursor() and execute() method."
   ]
  },
  {
   "cell_type": "code",
   "execution_count": null,
   "id": "8088274a",
   "metadata": {},
   "outputs": [],
   "source": [
    "import mysql.connector\n",
    "\n",
    "# establish connection\n",
    "mydb = mysql.connector.connect(\n",
    "  host=\"localhost\",\n",
    "  user=\"yourusername\",\n",
    "  password=\"yourpassword\",\n",
    "  database=\"yourdatabase\"\n",
    ")\n",
    "\n",
    "# create cursor object\n",
    "mycursor = mydb.cursor()\n",
    "\n",
    "# execute SQL query\n",
    "mycursor.execute(\"SELECT * FROM yourtable\")\n",
    "\n",
    "# fetch result\n",
    "result = mycursor.fetchall()\n",
    "\n",
    "# print result\n",
    "for row in result:\n",
    "  print(row)"
   ]
  },
  {
   "cell_type": "markdown",
   "id": "576dff1e",
   "metadata": {},
   "source": [
    "Let's break down the code and explain the cursor() and execute() methods:\n",
    "\n",
    "The mysql.connector module is used to establish the connection to the MySQL database.\n",
    "\n",
    "The mydb variable holds the connection object. Here, you need to replace the host, user, password, and database with your own MySQL server details.\n",
    "\n",
    "The cursor() method creates a cursor object which is used to execute SQL queries on the connected database.\n",
    "\n",
    "The execute() method is used to execute SQL queries. Here, we execute a simple SELECT statement to fetch all rows from a table.\n",
    "\n",
    "The fetchall() method retrieves all rows of the query result set and returns a list of tuples.\n",
    "\n",
    "Finally, we iterate through the result list and print each row.\n",
    "\n",
    "Note that you can also use other cursor methods such as fetchone() to retrieve a single row at a time or fetchmany(n) to retrieve n number of rows at a time."
   ]
  },
  {
   "cell_type": "markdown",
   "id": "90075d18",
   "metadata": {},
   "source": [
    "Q7. Give the order of execution of SQL clauses in an SQL query."
   ]
  },
  {
   "cell_type": "markdown",
   "id": "7321d0b5",
   "metadata": {},
   "source": [
    "The order of execution of SQL clauses in an SQL query is as follows:\n",
    "\n",
    "1) FROM: Specifies the table or tables from which the data will be retrieved.\n",
    "\n",
    "2) JOIN: Joins multiple tables together based on a specified condition.\n",
    "\n",
    "3) WHERE: Filters the rows to be returned based on a specified condition.\n",
    "\n",
    "4) GROUP BY: Groups the rows based on a specified column or columns.\n",
    "\n",
    "5) HAVING: Filters the groups returned based on a specified condition.\n",
    "\n",
    "6) SELECT: Specifies the columns to be returned in the result set.\n",
    "\n",
    "7) DISTINCT: Removes duplicate rows from the result set.\n",
    "\n",
    "8) ORDER BY: Sorts the rows in the result set based on a specified column or columns.\n",
    "\n",
    "9) LIMIT: Limits the number of rows returned in the result set.\n",
    "\n",
    "It's important to note that not all clauses are required in every query, and the order may vary depending on the specific query being executed."
   ]
  }
 ],
 "metadata": {
  "kernelspec": {
   "display_name": "Python 3 (ipykernel)",
   "language": "python",
   "name": "python3"
  },
  "language_info": {
   "codemirror_mode": {
    "name": "ipython",
    "version": 3
   },
   "file_extension": ".py",
   "mimetype": "text/x-python",
   "name": "python",
   "nbconvert_exporter": "python",
   "pygments_lexer": "ipython3",
   "version": "3.10.6"
  }
 },
 "nbformat": 4,
 "nbformat_minor": 5
}
