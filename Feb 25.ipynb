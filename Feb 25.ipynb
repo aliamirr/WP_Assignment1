{
 "cells": [
  {
   "cell_type": "markdown",
   "id": "c0fafa38",
   "metadata": {},
   "source": [
    "Consider following code to answer further questions:\n",
    "import pandas as pd\n",
    "course_name = [‘Data Science’, ‘Machine Learning’, ‘Big Data’, ‘Data Engineer’]\n",
    "duration = [2,3,6,4]\n",
    "df = pd.DataFrame(data = {‘course_name’ : course_name, ‘duration’ : duration})"
   ]
  },
  {
   "cell_type": "markdown",
   "id": "6b825d17",
   "metadata": {},
   "source": [
    "Q1. Write a code to print the data present in the second row of the dataframe, df."
   ]
  },
  {
   "cell_type": "code",
   "execution_count": 1,
   "id": "d486fbcb",
   "metadata": {},
   "outputs": [],
   "source": [
    "import pandas as pd\n",
    "\n",
    "course_name = ['Data Science', 'Machine Learning', 'Big Data', 'Data Engineer']\n",
    "duration = [2,3,6,4]\n",
    "df = pd.DataFrame(data = {'course_name' : course_name, 'duration' : duration})"
   ]
  },
  {
   "cell_type": "code",
   "execution_count": 2,
   "id": "06537504",
   "metadata": {},
   "outputs": [
    {
     "data": {
      "text/html": [
       "<div>\n",
       "<style scoped>\n",
       "    .dataframe tbody tr th:only-of-type {\n",
       "        vertical-align: middle;\n",
       "    }\n",
       "\n",
       "    .dataframe tbody tr th {\n",
       "        vertical-align: top;\n",
       "    }\n",
       "\n",
       "    .dataframe thead th {\n",
       "        text-align: right;\n",
       "    }\n",
       "</style>\n",
       "<table border=\"1\" class=\"dataframe\">\n",
       "  <thead>\n",
       "    <tr style=\"text-align: right;\">\n",
       "      <th></th>\n",
       "      <th>course_name</th>\n",
       "      <th>duration</th>\n",
       "    </tr>\n",
       "  </thead>\n",
       "  <tbody>\n",
       "    <tr>\n",
       "      <th>0</th>\n",
       "      <td>Data Science</td>\n",
       "      <td>2</td>\n",
       "    </tr>\n",
       "    <tr>\n",
       "      <th>1</th>\n",
       "      <td>Machine Learning</td>\n",
       "      <td>3</td>\n",
       "    </tr>\n",
       "    <tr>\n",
       "      <th>2</th>\n",
       "      <td>Big Data</td>\n",
       "      <td>6</td>\n",
       "    </tr>\n",
       "    <tr>\n",
       "      <th>3</th>\n",
       "      <td>Data Engineer</td>\n",
       "      <td>4</td>\n",
       "    </tr>\n",
       "  </tbody>\n",
       "</table>\n",
       "</div>"
      ],
      "text/plain": [
       "        course_name  duration\n",
       "0      Data Science         2\n",
       "1  Machine Learning         3\n",
       "2          Big Data         6\n",
       "3     Data Engineer         4"
      ]
     },
     "execution_count": 2,
     "metadata": {},
     "output_type": "execute_result"
    }
   ],
   "source": [
    "df"
   ]
  },
  {
   "cell_type": "code",
   "execution_count": 3,
   "id": "8b542e85",
   "metadata": {},
   "outputs": [
    {
     "name": "stdout",
     "output_type": "stream",
     "text": [
      "['Machine Learning' 3]\n"
     ]
    }
   ],
   "source": [
    "row2 = df.iloc[1].values\n",
    "print(row2)"
   ]
  },
  {
   "cell_type": "markdown",
   "id": "91f475e7",
   "metadata": {},
   "source": [
    "Q2. What is the difference between the functions loc and iloc in pandas.DataFrame?"
   ]
  },
  {
   "cell_type": "code",
   "execution_count": null,
   "id": "9e3a5dd0",
   "metadata": {},
   "outputs": [],
   "source": []
  },
  {
   "cell_type": "markdown",
   "id": "40019ebe",
   "metadata": {},
   "source": [
    "Q3. Reindex the given dataframe using a variable, reindex = [3,0,1,2] and store it in the \n",
    "variable, new_df then find the output for both new_df.loc[2] and new_df.iloc[2]."
   ]
  },
  {
   "cell_type": "code",
   "execution_count": 4,
   "id": "cbfabc90",
   "metadata": {},
   "outputs": [],
   "source": [
    "new_df = df.reindex([3,0,1,2])"
   ]
  },
  {
   "cell_type": "code",
   "execution_count": 5,
   "id": "c2347cd0",
   "metadata": {},
   "outputs": [
    {
     "data": {
      "text/plain": [
       "course_name    Big Data\n",
       "duration              6\n",
       "Name: 2, dtype: object"
      ]
     },
     "execution_count": 5,
     "metadata": {},
     "output_type": "execute_result"
    }
   ],
   "source": [
    "new_df.loc[2]"
   ]
  },
  {
   "cell_type": "code",
   "execution_count": 6,
   "id": "1282c5e1",
   "metadata": {},
   "outputs": [
    {
     "data": {
      "text/plain": [
       "course_name    Machine Learning\n",
       "duration                      3\n",
       "Name: 1, dtype: object"
      ]
     },
     "execution_count": 6,
     "metadata": {},
     "output_type": "execute_result"
    }
   ],
   "source": [
    "new_df.iloc[2]"
   ]
  },
  {
   "cell_type": "markdown",
   "id": "6c0c6b5b",
   "metadata": {},
   "source": [
    "Did you observe any difference in both the outputs? If so then explain it."
   ]
  },
  {
   "cell_type": "markdown",
   "id": "44a20e98",
   "metadata": {},
   "source": [
    "As we can see, the output for new_df.loc[2] and new_df.iloc[2] is different because they are selecting different rows in the new_df DataFrame. new_df.loc[2] selects the row with the label 2 (which is the third row in the new DataFrame), whereas new_df.iloc[2] selects the row with index position 2 (which is the second row in the new DataFrame)."
   ]
  },
  {
   "cell_type": "markdown",
   "id": "77c6f482",
   "metadata": {},
   "source": [
    "Consider the below code to answer further questions:\n",
    "import pandas as pd\n",
    "import numpy as np\n",
    "columns = ['column_1', 'column_2', 'column_3', 'column_4', 'column_5', 'column_6']\n",
    "indices = [1,2,3,4,5,6]\n",
    "#Creating a dataframe:\n",
    "df1 = pd.DataFrame(np.random.rand(6,6), columns = columns, index = indices)"
   ]
  },
  {
   "cell_type": "code",
   "execution_count": 7,
   "id": "69b1a52f",
   "metadata": {},
   "outputs": [],
   "source": [
    "import pandas as pd\n",
    "import numpy as np\n",
    "columns = ['column_1', 'column_2', 'column_3', 'column_4', 'column_5', 'column_6']\n",
    "indices = [1,2,3,4,5,6]\n",
    "#Creating a dataframe:\n",
    "df1 = pd.DataFrame(np.random.rand(6,6), columns = columns, index = indices)"
   ]
  },
  {
   "cell_type": "code",
   "execution_count": 8,
   "id": "06c9e2e8",
   "metadata": {},
   "outputs": [
    {
     "data": {
      "text/html": [
       "<div>\n",
       "<style scoped>\n",
       "    .dataframe tbody tr th:only-of-type {\n",
       "        vertical-align: middle;\n",
       "    }\n",
       "\n",
       "    .dataframe tbody tr th {\n",
       "        vertical-align: top;\n",
       "    }\n",
       "\n",
       "    .dataframe thead th {\n",
       "        text-align: right;\n",
       "    }\n",
       "</style>\n",
       "<table border=\"1\" class=\"dataframe\">\n",
       "  <thead>\n",
       "    <tr style=\"text-align: right;\">\n",
       "      <th></th>\n",
       "      <th>column_1</th>\n",
       "      <th>column_2</th>\n",
       "      <th>column_3</th>\n",
       "      <th>column_4</th>\n",
       "      <th>column_5</th>\n",
       "      <th>column_6</th>\n",
       "    </tr>\n",
       "  </thead>\n",
       "  <tbody>\n",
       "    <tr>\n",
       "      <th>1</th>\n",
       "      <td>0.063915</td>\n",
       "      <td>0.956854</td>\n",
       "      <td>0.007607</td>\n",
       "      <td>0.628149</td>\n",
       "      <td>0.135879</td>\n",
       "      <td>0.305607</td>\n",
       "    </tr>\n",
       "    <tr>\n",
       "      <th>2</th>\n",
       "      <td>0.107673</td>\n",
       "      <td>0.482732</td>\n",
       "      <td>0.691494</td>\n",
       "      <td>0.780853</td>\n",
       "      <td>0.488702</td>\n",
       "      <td>0.647810</td>\n",
       "    </tr>\n",
       "    <tr>\n",
       "      <th>3</th>\n",
       "      <td>0.175576</td>\n",
       "      <td>0.059135</td>\n",
       "      <td>0.906496</td>\n",
       "      <td>0.532093</td>\n",
       "      <td>0.162002</td>\n",
       "      <td>0.630568</td>\n",
       "    </tr>\n",
       "    <tr>\n",
       "      <th>4</th>\n",
       "      <td>0.804091</td>\n",
       "      <td>0.153109</td>\n",
       "      <td>0.528730</td>\n",
       "      <td>0.245540</td>\n",
       "      <td>0.497505</td>\n",
       "      <td>0.255150</td>\n",
       "    </tr>\n",
       "    <tr>\n",
       "      <th>5</th>\n",
       "      <td>0.114913</td>\n",
       "      <td>0.145253</td>\n",
       "      <td>0.123877</td>\n",
       "      <td>0.145629</td>\n",
       "      <td>0.606994</td>\n",
       "      <td>0.413701</td>\n",
       "    </tr>\n",
       "    <tr>\n",
       "      <th>6</th>\n",
       "      <td>0.111930</td>\n",
       "      <td>0.519358</td>\n",
       "      <td>0.524662</td>\n",
       "      <td>0.780462</td>\n",
       "      <td>0.262237</td>\n",
       "      <td>0.503747</td>\n",
       "    </tr>\n",
       "  </tbody>\n",
       "</table>\n",
       "</div>"
      ],
      "text/plain": [
       "   column_1  column_2  column_3  column_4  column_5  column_6\n",
       "1  0.063915  0.956854  0.007607  0.628149  0.135879  0.305607\n",
       "2  0.107673  0.482732  0.691494  0.780853  0.488702  0.647810\n",
       "3  0.175576  0.059135  0.906496  0.532093  0.162002  0.630568\n",
       "4  0.804091  0.153109  0.528730  0.245540  0.497505  0.255150\n",
       "5  0.114913  0.145253  0.123877  0.145629  0.606994  0.413701\n",
       "6  0.111930  0.519358  0.524662  0.780462  0.262237  0.503747"
      ]
     },
     "execution_count": 8,
     "metadata": {},
     "output_type": "execute_result"
    }
   ],
   "source": [
    "df1"
   ]
  },
  {
   "cell_type": "code",
   "execution_count": null,
   "id": "5ce2b611",
   "metadata": {},
   "outputs": [],
   "source": []
  },
  {
   "cell_type": "markdown",
   "id": "841b5e09",
   "metadata": {},
   "source": [
    "Q4. Write a code to find the following statistical measurements for the above dataframe df1:\n",
    "(i) mean of each and every column present in the dataframe.\n",
    "(ii) standard deviation of column_1, ‘column_2’"
   ]
  },
  {
   "cell_type": "code",
   "execution_count": null,
   "id": "564a5f0b",
   "metadata": {},
   "outputs": [],
   "source": [
    "df1.mean(axis=1)"
   ]
  },
  {
   "cell_type": "code",
   "execution_count": null,
   "id": "1a7aecc4",
   "metadata": {},
   "outputs": [],
   "source": [
    "col1_std = df1['column_1'].std()\n",
    "col2_std = df1['column_2'].std()"
   ]
  },
  {
   "cell_type": "code",
   "execution_count": null,
   "id": "d9e46492",
   "metadata": {},
   "outputs": [],
   "source": [
    "col1_std #standard deviation of column_1"
   ]
  },
  {
   "cell_type": "code",
   "execution_count": null,
   "id": "8ed38523",
   "metadata": {},
   "outputs": [],
   "source": [
    "col2_std  #standard deviation of column_2"
   ]
  },
  {
   "cell_type": "markdown",
   "id": "6ae3e2a1",
   "metadata": {},
   "source": [
    "Q5. Replace the data present in the second row of column_1, column_2 by a string variable then find the mean of column_1, column_2.\n",
    "If you are getting errors in executing it then explain why.\n",
    "[Hint: To replace the data use df1.loc[] and equate this to string data of your choice.]"
   ]
  },
  {
   "cell_type": "code",
   "execution_count": null,
   "id": "8039be7d",
   "metadata": {},
   "outputs": [],
   "source": [
    "variable1 = \"pw\"\n",
    "\n",
    "df1.loc[2, ['column_1', 'column_2']] = variable1"
   ]
  },
  {
   "cell_type": "code",
   "execution_count": null,
   "id": "6a15e020",
   "metadata": {},
   "outputs": [],
   "source": [
    "df1"
   ]
  },
  {
   "cell_type": "code",
   "execution_count": null,
   "id": "f70eaa98",
   "metadata": {},
   "outputs": [],
   "source": [
    "df1['column_1'].mean()"
   ]
  },
  {
   "cell_type": "markdown",
   "id": "b1bf165a",
   "metadata": {},
   "source": [
    "Running this code will give a TypeError since you cannot take the mean of a column that contains both numeric and non-numeric values. In this case, the values in column_1 and column_2 are numeric, except for the value in the second row, which is a string."
   ]
  },
  {
   "cell_type": "markdown",
   "id": "61c1cf5d",
   "metadata": {},
   "source": [
    "Q6. What do you understand about the windows function in pandas and list the types of windows\n",
    "functions?"
   ]
  },
  {
   "cell_type": "markdown",
   "id": "78895886",
   "metadata": {},
   "source": [
    "In pandas, a window function is a way to perform calculations on a specific subset, or \"window,\" of a larger dataset. Window functions allow you to perform calculations such as rolling averages, cumulative sums, and more, while taking into account the order and grouping of the data.\n",
    "\n",
    "There are several types of window functions in pandas, including:\n",
    "\n",
    "1) Rolling Window Functions: These functions calculate metrics over a rolling window of a specified size, where the window \"rolls\" over the data in a specified order.\n",
    "\n",
    "2) Expanding Window Functions: These functions calculate metrics over an expanding window that grows with the data. In other words, the window size starts at a minimum and gradually expands to include more and more data as it becomes available.\n",
    "\n",
    "3) Cumulative Window Functions: These functions calculate metrics based on the cumulative values of a column up to the current row.\n",
    "\n",
    "4) Grouped Window Functions: These functions perform window calculations based on groups of data defined by a specific column or set of columns.\n",
    "\n",
    "Overall, window functions provide a powerful and flexible way to perform complex calculations on time-series data, financial data, and many other types of data where the order and grouping of the data are important factors in the analysis."
   ]
  },
  {
   "cell_type": "markdown",
   "id": "057730b5",
   "metadata": {},
   "source": [
    "Q7. Write a code to print only the current month and year at the time of answering this question.\n",
    "[Hint: Use pandas.datetime function]"
   ]
  },
  {
   "cell_type": "code",
   "execution_count": null,
   "id": "021f0256",
   "metadata": {},
   "outputs": [],
   "source": [
    "import datetime\n",
    "\n",
    "# Get the current date\n",
    "now = datetime.datetime.now()\n",
    "\n",
    "# Print the current month and year\n",
    "print(\"Current month:\", now.strftime(\"%B\"))\n",
    "print(\"Current year:\", now.year)"
   ]
  },
  {
   "cell_type": "code",
   "execution_count": null,
   "id": "65583560",
   "metadata": {},
   "outputs": [],
   "source": [
    "Q8. Write a Python program that takes in two dates as input (in the format YYYY-MM-DD) and\n",
    "calculates the difference between them in days, hours, and minutes using Pandas time delta. The\n",
    "program should prompt the user to enter the dates and display the result."
   ]
  },
  {
   "cell_type": "code",
   "execution_count": 12,
   "id": "7309e3a2",
   "metadata": {},
   "outputs": [
    {
     "name": "stdout",
     "output_type": "stream",
     "text": [
      "Enter the first date in the format of YYYY-MM-DD : 2023-05-01\n",
      "Enter the second date in the format of YYYY-MM-DD : 2021-05-01\n",
      "The difference between 2023-05-01 and 2021-05-01 is:\n",
      "-730 days 0 hours 0 minutes\n"
     ]
    }
   ],
   "source": [
    "import pandas as pd\n",
    "\n",
    "first_date = input(\"Enter the first date in the format of YYYY-MM-DD : \")\n",
    "second_date = input(\"Enter the second date in the format of YYYY-MM-DD : \")\n",
    "\n",
    "first_date = pd.to_datetime(first_date)\n",
    "second_date = pd.to_datetime(second_date)\n",
    "\n",
    "timedelta = second_date - first_date\n",
    "days = timedelta.days\n",
    "hours = timedelta.seconds // 3600\n",
    "minutes = (timedelta.seconds // 60) % 60\n",
    "\n",
    "print(\"The difference between\", first_date.date(), \"and\", second_date.date(), \"is:\")\n",
    "print(days, \"days\", hours, \"hours\", minutes, \"minutes\")"
   ]
  },
  {
   "cell_type": "markdown",
   "id": "a1998f70",
   "metadata": {},
   "source": [
    "Q9. Write a Python program that reads a CSV file containing categorical data and converts a specified column to a categorical data type. The program should prompt the user to enter the file path, column name, and category order, and then display the sorted data."
   ]
  },
  {
   "cell_type": "code",
   "execution_count": null,
   "id": "d65f3aa6",
   "metadata": {},
   "outputs": [],
   "source": [
    "import pandas as pd\n",
    "\n",
    "# Prompt the user to enter the file path, column name, and category order\n",
    "file_path = input(\"Enter the file path: \")\n",
    "col_name = input(\"Enter the column name: \")\n",
    "categories = input(\"Enter the category order (comma-separated): \").split(\",\")\n",
    "\n",
    "# Read the CSV file into a DataFrame\n",
    "df = pd.read_csv(file_path)\n",
    "\n",
    "# Convert the specified column to a categorical data type with the specified category order\n",
    "df[col_name] = pd.Categorical(df[col_name], categories=categories, ordered=True)\n",
    "\n",
    "# Sort the DataFrame by the specified column\n",
    "df = df.sort_values(by=col_name)\n",
    "\n",
    "# Print the sorted data\n",
    "print(df)"
   ]
  },
  {
   "cell_type": "markdown",
   "id": "df32b401",
   "metadata": {},
   "source": [
    "Q10. Write a Python program that reads a CSV file containing sales data for different products and visualizes the data using a stacked bar chart to show the sales of each product category over time. The program should prompt the user to enter the file path and display the chart."
   ]
  },
  {
   "cell_type": "code",
   "execution_count": null,
   "id": "6f0f83b1",
   "metadata": {},
   "outputs": [],
   "source": [
    "import pandas as pd\n",
    "\n",
    "# Prompt the user to enter the file path\n",
    "file_path = input(\"Enter the file path: \")\n",
    "\n",
    "# Read the CSV file into a pandas DataFrame\n",
    "sales_data = pd.read_csv(file_path)\n",
    "\n",
    "# Group the data by product category and date, and sum the sales values\n",
    "sales_data = sales_data.groupby(['Product Category', 'Date']).sum().reset_index()\n",
    "\n",
    "# Pivot the data to create a stacked bar chart\n",
    "sales_data_pivot = sales_data.pivot(index='Date', columns='Product Category', values='Sales')\n",
    "\n",
    "# Plot the stacked bar chart\n",
    "sales_data_pivot.plot(kind='bar', stacked=True, figsize=(10,6))\n",
    "\n",
    "# Set the chart title and axis labels\n",
    "plt.title('Sales by Product Category')\n",
    "plt.xlabel('Date')\n",
    "plt.ylabel('Sales')\n",
    "\n",
    "# Display the chart\n",
    "plt.show()"
   ]
  },
  {
   "cell_type": "markdown",
   "id": "0bb3a526",
   "metadata": {},
   "source": [
    "Q11. You are given a CSV file containing student data that includes the student ID and their test score. Write a Python program that reads the CSV file, calculates the mean, median, and mode of the test scores, and displays the results in a table.\n",
    "The program should do the following:\n",
    "I Prompt the user to enter the file path of the CSV file containing the student data.\n",
    "I Read the CSV file into a Pandas DataFrame.\n",
    "I Calculate the mean, median, and mode of the test scores using Pandas tools.\n",
    "I Display the mean, median, and mode in a table.\n",
    "\n",
    "Assume the CSV file contains the following columns\n",
    "I Student ID: The ID of the studentR\n",
    "I Test Score: The score of the student's test.\n",
    "Example usage of the program:\n",
    "Enter the file path of the CSV file containing the student data: student_data.csv\n",
    "+-----------+--------+\n",
    "| Statistic | Value |\n",
    "+-----------+--------+\n",
    "| Mean | 79.6 |\n",
    "| Median | 82 |\n",
    "| Mode | 85, 90 |\n",
    "+-----------+--------+\n",
    "Assume that the CSV file student_data.csv contains the following data:\n",
    "Student ID,Test Score\n",
    "1,85\n",
    "2,90\n",
    "3,80\n",
    "4,75\n",
    "5,85\n",
    "6,82\n",
    "7,78\n",
    "8,85\n",
    "9,90\n",
    "10,85\n",
    "\n",
    "The program should calculate the mean, median, and mode of the test scores and display the results in a table."
   ]
  },
  {
   "cell_type": "code",
   "execution_count": null,
   "id": "aa2c3be1",
   "metadata": {},
   "outputs": [],
   "source": [
    "import pandas as pd\n",
    "\n",
    "# Prompt the user to enter the file path of the CSV file containing the student data\n",
    "file_path = input(\"Enter the file path of the CSV file containing the student data: \")\n",
    "\n",
    "# Read the CSV file into a pandas DataFrame\n",
    "student_data = pd.read_csv(file_path)\n",
    "\n",
    "# Calculate the mean, median, and mode of the test scores using pandas\n",
    "mean_score = student_data['Test Score'].mean()\n",
    "median_score = student_data['Test Score'].median()\n",
    "mode_score = student_data['Test Score'].mode()\n",
    "\n",
    "# Display the results in a table\n",
    "results_table = pd.DataFrame({'Statistic': ['Mean', 'Median', 'Mode'], 'Value': [mean_score, median_score, mode_score]})\n",
    "print(results_table)"
   ]
  }
 ],
 "metadata": {
  "kernelspec": {
   "display_name": "Python 3 (ipykernel)",
   "language": "python",
   "name": "python3"
  },
  "language_info": {
   "codemirror_mode": {
    "name": "ipython",
    "version": 3
   },
   "file_extension": ".py",
   "mimetype": "text/x-python",
   "name": "python",
   "nbconvert_exporter": "python",
   "pygments_lexer": "ipython3",
   "version": "3.10.6"
  }
 },
 "nbformat": 4,
 "nbformat_minor": 5
}
