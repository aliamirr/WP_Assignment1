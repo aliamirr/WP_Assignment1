{
 "cells": [
  {
   "cell_type": "code",
   "execution_count": null,
   "id": "5bcbd62d",
   "metadata": {},
   "outputs": [],
   "source": [
    "Q1. Calculate the 95% confidence interval for a sample of data with a mean of 50 and a standard deviation\n",
    "of 5 using Python. Interpret the results."
   ]
  },
  {
   "cell_type": "code",
   "execution_count": 1,
   "id": "7863c83b",
   "metadata": {},
   "outputs": [
    {
     "name": "stdout",
     "output_type": "stream",
     "text": [
      " 95% Confidence Interval: [49.37, 51.60]\n"
     ]
    }
   ],
   "source": [
    "from scipy import stats\n",
    "import numpy as np\n",
    "\n",
    "data = np.random.normal(loc=50, scale=5, size=100) #sample data\n",
    "\n",
    "confidence_level = 0.95\n",
    "degrees_freedom = len(data) -1 \n",
    "\n",
    "stand_error = stats.sem(data) #standard error of mean\n",
    "margin_error = stand_error * stats.t.ppf((1 + confidence_level) / 2, degrees_freedom) #margin of error\n",
    "\n",
    "lower_ci = np.mean(data) - margin_error\n",
    "upper_ci = np.mean(data) + margin_error\n",
    "\n",
    "print(f\" 95% Confidence Interval: [{lower_ci:.2f}, {upper_ci:.2f}]\")"
   ]
  },
  {
   "cell_type": "markdown",
   "id": "a79e5801",
   "metadata": {},
   "source": [
    "This means that we are 95% confident that the true population mean falls between 49.37 and 51.60. In other words, if we were to repeat the sampling process many times and calculate the confidence interval each time, 95% of the intervals would contain the true population mean. The interval is centered around the sample mean of 49.37, and the width of the interval (2.23) is determined by the sample size and standard deviation."
   ]
  },
  {
   "cell_type": "code",
   "execution_count": null,
   "id": "b9697295",
   "metadata": {},
   "outputs": [],
   "source": [
    "Q2. Conduct a chi-square goodness of fit test to determine if the distribution of colors of M&Ms in a bag\n",
    "matches the expected distribution of 20% blue, 20% orange, 20% green, 10% yellow, 10% red, and 20%\n",
    "brown. Use Python to perform the test with a significance level of 0.05."
   ]
  },
  {
   "cell_type": "code",
   "execution_count": 8,
   "id": "8ee29d48",
   "metadata": {},
   "outputs": [
    {
     "name": "stdout",
     "output_type": "stream",
     "text": [
      "Chi-Square Statsitics: 2.89\n",
      "p-value: 0.7171\n",
      "Fail to reject the Null Hypothesis\n"
     ]
    }
   ],
   "source": [
    "import numpy as np\n",
    "import scipy.stats as stats\n",
    "\n",
    "#Observed counts of each color in a sample of M&Ms\n",
    "observed_frequency = np.array([13, 19, 23, 9, 9, 17])\n",
    "\n",
    "#Expected counts as per the expected distribution\n",
    "expected_frequency = np.array([0.2, 0.2, 0.2, 0.1, 0.1, 0.2]) * np.sum(observed_frequency)\n",
    "\n",
    "#Chi-Square Test\n",
    "chi2, p = stats.chisquare(observed_frequency, expected_frequency)\n",
    "\n",
    "significance_val = 0.05\n",
    "confidence_interval = 0.95\n",
    "dof = len(expected_frequency)-1\n",
    "\n",
    "critical_value = stats.chi2.ppf(confidence_interval, dof)\n",
    "\n",
    "#Print the Results\n",
    "print(f\"Chi-Square Statsitics: {chi2:.2f}\")\n",
    "print(f\"p-value: {p:.4f}\")\n",
    "\n",
    "if chi2 > critical_value:\n",
    "    print(\"Reject the Null Hypothesis\")\n",
    "else:\n",
    "    print(\"Fail to reject the Null Hypothesis\")"
   ]
  },
  {
   "cell_type": "code",
   "execution_count": null,
   "id": "83e58e1f",
   "metadata": {},
   "outputs": [],
   "source": [
    "Q3. Use Python to calculate the chi-square statistic and p-value for a contingency table with the following\n",
    "data:\n",
    "             Group A     Group B\n",
    "  Outcome 1    20          15\n",
    "  Outcome 2    10          25\n",
    "  Outcome 3    15          20\n",
    "    \n",
    "Interpret the results of the test."
   ]
  },
  {
   "cell_type": "code",
   "execution_count": 9,
   "id": "4731f281",
   "metadata": {},
   "outputs": [
    {
     "name": "stdout",
     "output_type": "stream",
     "text": [
      "Chi-Square statistic: 5.83\n",
      "p-value: 0.0541\n"
     ]
    }
   ],
   "source": [
    "import numpy as np\n",
    "import scipy.stats as stats\n",
    "\n",
    "#contingency table data\n",
    "observed = np.array([[20, 15], [10, 25], [15, 20]])\n",
    "\n",
    "chi2, p, dof, expected = stats.chi2_contingency(observed)\n",
    "\n",
    "#print results\n",
    "print(f\"Chi-Square statistic: {chi2:.2f}\")\n",
    "print(f\"p-value: {p:.4f}\")"
   ]
  },
  {
   "cell_type": "markdown",
   "id": "cfba5cfc",
   "metadata": {},
   "source": [
    "Interpreting the results, we see that the p-value is 0.0541, which is greater than the standard significance level of 0.05. Therefore, we fail to reject the null hypothesis, which is that there is no association between the outcomes and the groups. In other words, we do not have sufficient evidence to conclude that the groups differ significantly in their outcomes."
   ]
  },
  {
   "cell_type": "code",
   "execution_count": null,
   "id": "8b71463f",
   "metadata": {},
   "outputs": [],
   "source": [
    "Q4. A study of the prevalence of smoking in a population of 500 individuals found that 60 individuals\n",
    "smoked. Use Python to calculate the 95% confidence interval for the true proportion of individuals in the\n",
    "population who smoke."
   ]
  },
  {
   "cell_type": "code",
   "execution_count": 12,
   "id": "241e71f7",
   "metadata": {},
   "outputs": [
    {
     "name": "stdout",
     "output_type": "stream",
     "text": [
      "95% Confidence Interval: [0.0915, 0.1485]\n"
     ]
    }
   ],
   "source": [
    "import numpy as np\n",
    "import scipy.stats as stats\n",
    "\n",
    "#sample size and proportion\n",
    "n = 500\n",
    "p = 60/500\n",
    "\n",
    "#Calculate the Critical Value\n",
    "\n",
    "z = stats.norm.ppf(0.975)\n",
    "\n",
    "#Calculate Confidence Interval\n",
    "\n",
    "lower = p - z*(np.sqrt(p*(1-p)/n))\n",
    "upper = p + z*(np.sqrt(p*(1-p)/n))\n",
    "\n",
    "#Print Results\n",
    "print(f\"95% Confidence Interval: [{lower:.4f}, {upper:.4f}]\")"
   ]
  },
  {
   "cell_type": "markdown",
   "id": "49605d71",
   "metadata": {},
   "source": [
    "Interpreting the results, we can say that we are 95% confident that the true proportion of individuals in the population who smoke lies between 0.0915 and 0.1485."
   ]
  },
  {
   "cell_type": "code",
   "execution_count": null,
   "id": "f4734220",
   "metadata": {},
   "outputs": [],
   "source": [
    "Q5. Calculate the 90% confidence interval for a sample of data with a mean of 75 and a standard deviation\n",
    "of 12 using Python. Interpret the results."
   ]
  },
  {
   "cell_type": "code",
   "execution_count": 15,
   "id": "24f6ee0a",
   "metadata": {},
   "outputs": [
    {
     "name": "stdout",
     "output_type": "stream",
     "text": [
      "The 90% confidence interval is [73.03, 76.97]\n"
     ]
    }
   ],
   "source": [
    "import scipy.stats as stats\n",
    "\n",
    "sample_mean = 75\n",
    "sample_std = 12\n",
    "\n",
    "#sample size (assumed)\n",
    "n = 100\n",
    "\n",
    "std_error = sample_std / (n ** 0.5)\n",
    "\n",
    "#calculate the z-value for 90% confidence level\n",
    "z_value = stats.norm.ppf(0.95)\n",
    "\n",
    "#calculate the confidence interval\n",
    "lower = sample_mean - z_value * std_error\n",
    "upper = sample_mean + z_value * std_error\n",
    "\n",
    "print(f\"The 90% confidence interval is [{lower:.2f}, {upper:.2f}]\")"
   ]
  },
  {
   "cell_type": "markdown",
   "id": "bc237543",
   "metadata": {},
   "source": [
    "Interpretation: We are 90% confident that the true population mean lies between 73.03 and 76.97 based on our sample of 100 data points with a mean of 75 and a standard deviation of 12. This means that if we were to take multiple samples and calculate their confidence intervals, about 90% of these intervals would contain the true population mean."
   ]
  },
  {
   "cell_type": "code",
   "execution_count": null,
   "id": "fd335618",
   "metadata": {},
   "outputs": [],
   "source": [
    "Q6. Use Python to plot the chi-square distribution with 10 degrees of freedom. Label the axes and shade the\n",
    "area corresponding to a chi-square statistic of 15."
   ]
  },
  {
   "cell_type": "code",
   "execution_count": 14,
   "id": "0e9bc201",
   "metadata": {},
   "outputs": [
    {
     "data": {
      "image/png": "[encoded data removed]",
      "text/plain": [
       "<Figure size 640x480 with 1 Axes>"
      ]
     },
     "metadata": {},
     "output_type": "display_data"
    }
   ],
   "source": [
    "import numpy as np\n",
    "import matplotlib.pyplot as plt\n",
    "from scipy.stats import chi2\n",
    "\n",
    "df = 10\n",
    "\n",
    "#create the x-axis values for the plot\n",
    "x = np.linspace(0, 30, 500)\n",
    "\n",
    "#create the chi-square distribution\n",
    "chi = chi2(df)\n",
    "\n",
    "plt.plot(x, chi.pdf(x), label=f'df={df}')\n",
    "\n",
    "# shade the area corresponding to a chi-square statistic of 15\n",
    "x_shade = np.linspace(15, 30, 500)\n",
    "y_shade = chi.pdf(x_shade)\n",
    "plt.fill_between(x_shade, y_shade, where=x_shade > 15, color='red')\n",
    "plt.xlabel('chi-square statistic')\n",
    "plt.ylabel('Probability density')\n",
    "plt.title(f'Chi-square distribution with {df} degrees of freedom')\n",
    "plt.legend()\n",
    "plt.show()"
   ]
  },
  {
   "cell_type": "code",
   "execution_count": null,
   "id": "b57183e0",
   "metadata": {},
   "outputs": [],
   "source": [
    "Q7. A random sample of 1000 people was asked if they preferred Coke or Pepsi. Of the sample, 520\n",
    "preferred Coke. Calculate a 99% confidence interval for the true proportion of people in the population who\n",
    "prefer Coke."
   ]
  },
  {
   "cell_type": "markdown",
   "id": "6001c115",
   "metadata": {},
   "source": [
    "To calculate the 99% confidence interval for the true proportion of people in the population who prefer Coke, we can use the following formula:\n",
    "\n",
    "CI = p ± z*(sqrt((p*(1-p))/n))\n",
    "\n",
    "where:\n",
    "\n",
    "p is the sample proportion\n",
    "z is the z-score corresponding to the desired confidence level (99% in this case)\n",
    "n is the sample size\n",
    "First, we need to calculate the sample proportion:\n",
    "\n",
    "p = 520/1000 = 0.52\n",
    "\n",
    "Next, we need to calculate the z-score:\n",
    "\n",
    "z = stats.norm.ppf(0.995)(or by z-table)\n",
    "\n",
    "where 0.995 is the area to the right of the z-score (since we want to find the upper limit of the confidence interval), corresponding to a 99% confidence level.\n",
    "\n",
    "z = 2.576\n",
    "\n",
    "Now we can plug in the values to get the confidence interval:\n",
    "\n",
    "CI = 0.52 ± 2.576*(sqrt((0.52*(1-0.52))/1000))\n",
    "\n",
    "CI = (0.4793, 0.5607)\n",
    "\n",
    "Therefore, we can be 99% confident that the true proportion of people in the population who prefer Coke is between 0.4793 and 0.5607."
   ]
  },
  {
   "cell_type": "code",
   "execution_count": null,
   "id": "4536da8f",
   "metadata": {},
   "outputs": [],
   "source": [
    "Q8. A researcher hypothesizes that a coin is biased towards tails. They flip the coin 100 times and observe\n",
    "45 tails. Conduct a chi-square goodness of fit test to determine if the observed frequencies match the\n",
    "expected frequencies of a fair coin. Use a significance level of 0.05."
   ]
  },
  {
   "cell_type": "code",
   "execution_count": 17,
   "id": "e9ae4083",
   "metadata": {},
   "outputs": [
    {
     "name": "stdout",
     "output_type": "stream",
     "text": [
      "chi-square statistic = 1.00\n",
      "p-value = 0.3173\n",
      "Failed to reject null hypothesis: coin is fair\n"
     ]
    }
   ],
   "source": [
    "import numpy as np\n",
    "import scipy.stats as stats\n",
    "\n",
    "# observed frequencies\n",
    "observed = np.array([55, 45])\n",
    "\n",
    "# expected frequencies under null hypothesis of a fair coin\n",
    "expected = np.array([50, 50])\n",
    "\n",
    "# calculate the chi-square statistic and p-value\n",
    "chi2, p = stats.chisquare(observed, expected)\n",
    "\n",
    "# print the results\n",
    "print(f\"chi-square statistic = {chi2:.2f}\")\n",
    "print(f\"p-value = {p:.4f}\")\n",
    "\n",
    "# compare p-value to significance level\n",
    "significance_level = 0.05\n",
    "if p < significance_level:\n",
    "    print(\"Reject null hypothesis: coin is biased\")\n",
    "else:\n",
    "    print(\"Failed to reject null hypothesis: coin is fair\")"
   ]
  },
  {
   "cell_type": "markdown",
   "id": "06e8970c",
   "metadata": {},
   "source": [
    "1) H0: The coin is fair, and the observed frequencies match the expected frequencies of a          fair coin.\n",
    "2) Ha: The coin is biased towards tails, and the observed frequencies do not match the            expected frequencies of a fair coin.\n",
    "\n",
    "3) Significance level, alpha = 0.05.\n",
    "\n",
    "4) Expected frequencies assuming a fair coin:\n",
    "Heads: 50\n",
    "Tails: 50\n",
    "\n",
    "5) Expected frequencies assuming a fair coin:\n",
    "Heads: 55\n",
    "Tails: 45\n",
    "\n",
    "6) Degrees of freedom, df = 2 - 1 = 1.\n",
    "\n",
    "7) Calculate the chi-square test statistic:\n",
    "X^2 = [(45 - 50)^2 / 50] + [(55 - 50)^2 / 50]\n",
    "    = 1\n",
    "\n",
    "Critical value of chi-square with df = 1 and alpha = 0.05 is 3.84.\n",
    "Compare the calculated chi-square test statistic to the critical value:\n",
    "X^2 = 1 < 3.84\n",
    "Since the calculated chi-square value is less than the critical value, we fail to reject the null hypothesis. We do not have enough evidence to conclude that the coin is biased towards tails."
   ]
  },
  {
   "cell_type": "code",
   "execution_count": null,
   "id": "c5bef6ab",
   "metadata": {},
   "outputs": [],
   "source": [
    "Q9. A study was conducted to determine if there is an association between smoking status (smoker or\n",
    "non-smoker) and lung cancer diagnosis (yes or no). The results are shown in the contingency table below.\n",
    "Conduct a chi-square test for independence to determine if there is a significant association between\n",
    "smoking status and lung cancer diagnosis.\n",
    "\n",
    "                     Lung Cancer: Yes        Lung Cancer: No\n",
    "    Smoker               60                       140\n",
    "    Non-Smoker           30                       170\n",
    "    \n",
    "Use a significance level of 0.05."
   ]
  },
  {
   "cell_type": "markdown",
   "id": "dd841a72",
   "metadata": {},
   "source": [
    "Null Hypothesis (H0): There is no significant association between smoking status and lung cancer diagnosis.\n",
    "Alternative Hypothesis (HA): There is a significant association between smoking status and lung cancer diagnosis.\n",
    "We can use the chi-square test statistic to evaluate the null hypothesis. The test statistic is calculated as follows:\n",
    "\n",
    "chi-square = sum((observed - expected)^2 / expected)\n",
    "where the sum is taken over all cells in the contingency table, observed is the observed frequency in each cell, and expected is the expected frequency in each cell under the assumption of independence.\n",
    "\n",
    "To calculate the expected frequencies, we can use the formula:\n",
    "\n",
    "expected = (row total x column total) / grand total\n",
    "where the row total is the sum of the observed frequencies in a row, the column total is the sum of the observed frequencies in a column, and the grand total is the total number of observations.\n",
    "\n",
    "Using the given contingency table, we can calculate the expected frequencies as follows:\n",
    "\n",
    "mathematica\n",
    "Copy code\n",
    "                 Lung Cancer: Yes        Lung Cancer: No         Row Total\n",
    "Smoker               60                       140                 200\n",
    "Non-Smoker           30                       170                 200\n",
    "Column Total         90                       310                 400\n",
    "\n",
    "Grand Total = 400\n",
    "\n",
    "Expected frequencies:\n",
    "                 Lung Cancer: Yes        Lung Cancer: No\n",
    "Smoker               (200 x 90) / 400       (200 x 310) / 400\n",
    "                     = 45                       = 155\n",
    "\n",
    "\n",
    "Non-Smoker           (200 x 90) / 400       (200 x 310) / 400\n",
    "                     = 45                       = 155\n",
    "                     \n",
    "                     \n",
    "Using these expected frequencies, we can calculate the chi-square test statistic:\n",
    "\n",
    "chi-square = ((60 - 45)^2 / 45) + ((140 - 155)^2 / 155) + ((30 - 45)^2 / 45) + ((170 - 155)^2 / 155)\n",
    "\n",
    "chi-square = 12.903\n",
    "\n",
    "The degrees of freedom for the chi-square test for independence is calculated as:\n",
    "\n",
    "degrees of freedom = (number of rows - 1) x (number of columns - 1)\n",
    "\n",
    "degrees of freedom = (2 - 1) x (2 - 1) = 1\n",
    "\n",
    "Using a significance level of 0.05 and degrees of freedom of 1, we can look up the critical value of the chi-square distribution from a chi-square table or use the chi2.ppf function in Python:\n",
    "\n",
    "critical_value = stats.chi2.ppf(0.95, 1)\n",
    "\n",
    "critical_value = 3.84\n",
    "\n",
    "Since the calculated chi-square test statistic (12.903) is greater than the critical value (3.84), we can reject the null hypothesis and conclude that there is a significant association between smoking status and lung cancer diagnosis at the 0.05 significance level."
   ]
  },
  {
   "cell_type": "code",
   "execution_count": null,
   "id": "469b04c7",
   "metadata": {},
   "outputs": [],
   "source": [
    "Q10. A study was conducted to determine if the proportion of people who prefer milk chocolate, dark\n",
    "chocolate, or white chocolate is different in the U.S. versus the U.K. A random sample of 500 people from\n",
    "the U.S. and a random sample of 500 people from the U.K. were surveyed. The results are shown in the\n",
    "contingency table below. Conduct a chi-square test for independence to determine if there is a significant\n",
    "association between chocolate preference and country of origin.\n",
    "\n",
    "  \n",
    "                    Milk Chocolate    Dark Chocolate    White Chocolate\n",
    "    U.S. (n=500)       200                150              150\n",
    "    U.K. (n=500)       225                175              100\n",
    "    \n",
    "Use a significance level of 0.01."
   ]
  },
  {
   "cell_type": "code",
   "execution_count": 22,
   "id": "20de9b07",
   "metadata": {},
   "outputs": [
    {
     "name": "stdout",
     "output_type": "stream",
     "text": [
      "There is evidence of a significant association between chocolate preference and country of origin.\n",
      "9.21034037197618\n",
      "2\n"
     ]
    }
   ],
   "source": [
    "# create the contingency table of observed frequencies\n",
    "observed = np.array([[200, 150, 150], [225, 175, 100]])\n",
    "\n",
    "# calculate the row and column totals\n",
    "row_totals = observed.sum(axis=1)\n",
    "col_totals = observed.sum(axis=0)\n",
    "\n",
    "# calculate the grand total\n",
    "grand_total = observed.sum()\n",
    "\n",
    "# calculate the expected frequencies\n",
    "expected = np.outer(row_totals, col_totals) / grand_total\n",
    "\n",
    "# calculate the chi-square test statistic\n",
    "chi2 = ((observed - expected)**2 / expected).sum()\n",
    "\n",
    "# calculate the degrees of freedom\n",
    "degrees_of_freedom = (observed.shape[0]-1) * (observed.shape[1]-1)\n",
    "\n",
    "# calculate the critical value\n",
    "alpha = 0.01\n",
    "critical_value = stats.chi2.ppf(q=1-alpha, df=degrees_of_freedom)\n",
    "\n",
    "# compare the calculated chi-square statistic to the critical value\n",
    "if chi2 > critical_value:\n",
    "    print(\"There is evidence of a significant association between chocolate preference and country of origin.\")\n",
    "else:\n",
    "    print(\"There is not enough evidence to conclude that there is a significant association between chocolate preference and country of origin.\")\n",
    "    \n",
    "print(critical_value)\n",
    "print(degrees_of_freedom)"
   ]
  },
  {
   "cell_type": "markdown",
   "id": "e03cb448",
   "metadata": {},
   "source": [
    "Null Hypothesis (H0): There is no association between chocolate preference and country of origin. \n",
    "\n",
    "Alternative Hypothesis (H1): There is a significant association between chocolate preference and country of origin. \n",
    "\n",
    "First, let's calculate the expected counts assuming that there is no association between chocolate preference and country of origin. We can use the formula:\n",
    "\n",
    "expected count = (row total * column total) / grand total\n",
    "\n",
    "The grand total is the total number of individuals surveyed, which is 1000 in this case.\n",
    "\n",
    "The expected counts are:\n",
    "\n",
    "                         Milk Chocolate         Dark Chocolate            White Chocolate\n",
    "    U.S. (n=500)           212.5                     162.5                        125\n",
    "    U.K. (n=500)           212.5                     162.5                        125\n",
    "\n",
    "\n",
    "he test statistic for the chi-square test for independence is calculated as follows:\n",
    "\n",
    "chi-square = sum (observed count - expected count)^2 / expected count\n",
    "\n",
    "chi-square = ((200 - 212.5)^2 / 212.5) + ((150 - 162.5)^2 / 162.5) + ((150 - 125)^2 / 125) + ((225 - 212.5)^2 / 212.5) + ((175 - 162.5)^2 / 162.5) + ((100 - 125)^2 / 125)\n",
    "\n",
    "chi-square = 13.393\n",
    "\n",
    "Using a significance level of 0.01 and degrees of freedom equal to (number of rows - 1) x (number of columns - 1) = 2, the critical value of chi-square is 9.21.\n",
    "\n",
    "Since our calculated chi-square value of 13.393 is greater than the critical value of 9.21, we reject the null hypothesis and conclude that there is a significant association between chocolate preference and country of origin."
   ]
  },
  {
   "cell_type": "code",
   "execution_count": null,
   "id": "f4ce703b",
   "metadata": {},
   "outputs": [],
   "source": [
    "Q11. A random sample of 30 people was selected from a population with an unknown mean and standard\n",
    "deviation. The sample mean was found to be 72 and the sample standard deviation was found to be 10.\n",
    "Conduct a hypothesis test to determine if the population mean is significantly different from 70. Use a\n",
    "significance level of 0.05."
   ]
  },
  {
   "cell_type": "markdown",
   "id": "b622eca5",
   "metadata": {},
   "source": [
    "We can use a t-test(as sample size is 30) to determine if the population mean is significantly different from 70.\n",
    "\n",
    "The null hypothesis is that the population mean is equal to 70:\n",
    "H0: µ = 70\n",
    "\n",
    "The alternative hypothesis is that the population mean is not equal to 70:\n",
    "Ha: µ ≠ 70\n",
    "\n",
    "We can use a two-tailed t-test since we want to test for any difference, not a specific direction.\n",
    "\n",
    "We can calculate the t-statistic as:\n",
    "\n",
    "t = (x̄ - µ) / (s / sqrt(n))\n",
    "\n",
    "Where x̄ is the sample mean, µ is the hypothesized population mean, s is the sample standard deviation, and n is the sample size.\n",
    "\n",
    "Substituting the values, we get:\n",
    "\n",
    "t = (72 - 70) / (10 / sqrt(30))\n",
    "t = 1.095\n",
    "\n",
    "Using a significance level of 0.05 and degrees of freedom of 29 (n-1), we can find the critical t-value using a t-distribution table or calculator. For a two-tailed test, the critical t-values are -2.045 and 2.045.\n",
    "\n",
    "Since the calculated t-statistic of 1.095 falls within the critical t-values of -2.045 and 2.045, we fail to reject the null hypothesis.\n",
    "\n",
    "Therefore, we do not have sufficient evidence to conclude that the population mean is significantly different from 70 at a significance level of 0.05."
   ]
  }
 ],
 "metadata": {
  "kernelspec": {
   "display_name": "Python 3 (ipykernel)",
   "language": "python",
   "name": "python3"
  },
  "language_info": {
   "codemirror_mode": {
    "name": "ipython",
    "version": 3
   },
   "file_extension": ".py",
   "mimetype": "text/x-python",
   "name": "python",
   "nbconvert_exporter": "python",
   "pygments_lexer": "ipython3",
   "version": "3.10.6"
  }
 },
 "nbformat": 4,
 "nbformat_minor": 5
}
