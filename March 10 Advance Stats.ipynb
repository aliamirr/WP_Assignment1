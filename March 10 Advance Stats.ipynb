{
 "cells": [
  {
   "cell_type": "code",
   "execution_count": null,
   "id": "f8272742",
   "metadata": {},
   "outputs": [],
   "source": [
    "Q1: What is Estimation Statistics? Explain point estimate and interval estimate."
   ]
  },
  {
   "cell_type": "markdown",
   "id": "6cd3ccae",
   "metadata": {},
   "source": [
    "Estimation statistics is a branch of statistics that deals with the process of estimating an unknown population parameter based on a sample of data. The goal of estimation is to make inference about the population by making use of the information obtained from the sample.\n",
    "\n",
    "There are two main types of estimates in estimation statistics: point estimate and interval estimate.\n",
    "\n",
    "1) Point Estimate:\n",
    "\n",
    "A point estimate is a single value that is used to estimate an unknown population parameter. It is calculated using a sample statistic, such as the sample mean or sample proportion. For example, the sample mean of a set of data can be used as a point estimate of the population mean. However, point estimates are subject to sampling error and may not be exactly equal to the true population parameter.\n",
    "\n",
    "2) Interval Estimate:\n",
    "\n",
    "An interval estimate is a range of values within which the true population parameter is expected to lie with a certain level of confidence. It is calculated using a sample statistic and a measure of the sampling variability, such as the standard error. Interval estimates provide more information about the precision of the estimate than a point estimate. For example, a confidence interval can be used to estimate the range of possible values for the population mean.\n",
    "\n",
    "The level of confidence associated with an interval estimate reflects the degree of certainty that the true population parameter falls within the interval. Commonly used levels of confidence are 90%, 95%, and 99%. A higher level of confidence requires a wider interval estimate.\n",
    "\n",
    "In summary, estimation statistics is a useful tool to infer about the population based on a sample of data. A point estimate provides a single value that is used to estimate the population parameter, while an interval estimate provides a range of values that is expected to contain the true population parameter with a certain level of confidence."
   ]
  },
  {
   "cell_type": "code",
   "execution_count": null,
   "id": "23bb1790",
   "metadata": {},
   "outputs": [],
   "source": [
    "Q2. Write a Python function to estimate the population mean using a sample mean and standard\n",
    "deviation."
   ]
  },
  {
   "cell_type": "code",
   "execution_count": null,
   "id": "3c2ff471",
   "metadata": {},
   "outputs": [],
   "source": [
    "import math\n",
    "\n",
    "def estimate_pop_mean(sample_mean, sample_std_dev, sample_size):\n",
    "    \n",
    "    \"\"\"\n",
    "    :sample_mean: The mean of the sample.\n",
    "    :sample_std_dev: The standard deviation of the sample.\n",
    "    :sample_size: The size of the sample.\n",
    "    :return: The estimated population mean.\n",
    "    \"\"\"\n",
    "    \n",
    "    # Calculate the standard error of the mean\n",
    "    standard_error = sample_std_dev / math.sqrt(sample_size)\n",
    "    \n",
    "    # Calculate the margin of error\n",
    "    margin_of_error = 1.96 * standard_error  # Assuming a 95% confidence level\n",
    "    \n",
    "    # Calculate the lower and upper bounds of the confidence interval\n",
    "    lower_bound = sample_mean - margin_of_error\n",
    "    upper_bound = sample_mean + margin_of_error\n",
    "    \n",
    "    # Return the estimated population mean\n",
    "    return (lower_bound + upper_bound) / 2"
   ]
  },
  {
   "cell_type": "code",
   "execution_count": null,
   "id": "b212f55b",
   "metadata": {},
   "outputs": [],
   "source": [
    "Q3: What is Hypothesis testing? Why is it used? State the importance of Hypothesis testing."
   ]
  },
  {
   "cell_type": "markdown",
   "id": "7862304e",
   "metadata": {},
   "source": [
    "Hypothesis testing is a statistical method used to make inferences about the population based on a sample of data. The goal of hypothesis testing is to determine whether there is enough evidence to reject or not reject a null hypothesis in favor of an alternative hypothesis.\n",
    "\n",
    "In hypothesis testing, we start with a null hypothesis, which represents the default assumption about the population parameter. We then collect a sample of data and use it to calculate a test statistic, which measures how far the sample estimate is from the null hypothesis value. We compare the test statistic to a critical value or p-value, which determines the level of significance of the result. If the test statistic falls within the critical value or the p-value is less than the chosen level of significance, we reject the null hypothesis in favor of the alternative hypothesis.\n",
    "\n",
    "Hypothesis testing is used to make decisions and draw conclusions about the population based on sample data. It allows us to evaluate whether a hypothesis about the population is supported by the data or not. Hypothesis testing is widely used in scientific research, quality control, and decision-making processes in various fields, including business, medicine, and engineering.\n",
    "\n",
    "The importance of hypothesis testing lies in its ability to help us make informed decisions based on data, rather than relying on intuition or guesswork. Hypothesis testing allows us to draw conclusions about the population and test the validity of theories and hypotheses. It also helps to identify areas where further research or analysis is needed.\n",
    "\n",
    "In summary, hypothesis testing is a fundamental tool in statistics that allows us to make inferences about the population based on sample data. It is used to test hypotheses and make decisions based on data, and it is important for scientific research, quality control, and decision-making processes in various fields."
   ]
  },
  {
   "cell_type": "code",
   "execution_count": null,
   "id": "da9f1169",
   "metadata": {},
   "outputs": [],
   "source": [
    "Q4. Create a hypothesis that states whether the average weight of male college students is greater than\n",
    "the average weight of female college students."
   ]
  },
  {
   "cell_type": "markdown",
   "id": "435c52a1",
   "metadata": {},
   "source": [
    "Here is an example of a hypothesis that states whether the average weight of male college students is greater than the average weight of female college students:\n",
    "\n",
    "Null hypothesis: The average weight of male college students is equal to or less than the average weight of female college students.\n",
    "\n",
    "Alternative hypothesis: The average weight of male college students is greater than the average weight of female college students.\n",
    "\n",
    "Symbolically, we can write:\n",
    "\n",
    "H0: μmale ≤ μfemale\n",
    "\n",
    "Ha: μmale > μfemale\n",
    "\n",
    "where H0 represents the null hypothesis, Ha represents the alternative hypothesis, μmale represents the population mean weight of male college students, and μfemale represents the population mean weight of female college students.\n",
    "\n",
    "To test this hypothesis, we would collect a sample of male and female college students, measure their weights, and perform a hypothesis test to determine whether there is enough evidence to reject the null hypothesis in favor of the alternative hypothesis. The test would involve calculating a test statistic (such as a t-statistic) and comparing it to a critical value or p-value to determine the level of significance of the result. If the test statistic falls within the critical value or the p-value is less than the chosen level of significance, we would reject the null hypothesis and conclude that the average weight of male college students is greater than the average weight of female college students."
   ]
  },
  {
   "cell_type": "code",
   "execution_count": null,
   "id": "841f05e0",
   "metadata": {},
   "outputs": [],
   "source": [
    "Q5. Write a Python script to conduct a hypothesis test on the difference between two population means,\n",
    "given a sample from each population."
   ]
  },
  {
   "cell_type": "code",
   "execution_count": 1,
   "id": "8c4f2d07",
   "metadata": {},
   "outputs": [
    {
     "name": "stdout",
     "output_type": "stream",
     "text": [
      "Sample 1 mean: 10.07\n",
      "Sample 2 mean: 12.24\n",
      "Test statistic: -7.47\n",
      "p-value: 0.0000\n",
      "Reject null hypothesis. There is enough evidence to suggest that the population means are different.\n"
     ]
    }
   ],
   "source": [
    "import numpy as np\n",
    "from scipy.stats import ttest_ind\n",
    "\n",
    "# Generate sample data\n",
    "sample1 = np.random.normal(10, 2, 100)  # Sample from population 1 with mean 10 and standard deviation 2\n",
    "sample2 = np.random.normal(12, 2, 100)  # Sample from population 2 with mean 12 and standard deviation 2\n",
    "\n",
    "# Perform two-sample t-test\n",
    "t_stat, p_val = ttest_ind(sample1, sample2)\n",
    "\n",
    "# Print results\n",
    "print(\"Sample 1 mean: {:.2f}\".format(np.mean(sample1)))\n",
    "print(\"Sample 2 mean: {:.2f}\".format(np.mean(sample2)))\n",
    "print(\"Test statistic: {:.2f}\".format(t_stat))\n",
    "print(\"p-value: {:.4f}\".format(p_val))\n",
    "\n",
    "# Interpret results\n",
    "alpha = 0.05  # Significance level\n",
    "if p_val < alpha:\n",
    "    print(\"Reject null hypothesis. There is enough evidence to suggest that the population means are different.\")\n",
    "else:\n",
    "    print(\"Fail to reject null hypothesis. There is not enough evidence to suggest that the population means are different.\")"
   ]
  },
  {
   "cell_type": "code",
   "execution_count": null,
   "id": "530cf8bf",
   "metadata": {},
   "outputs": [],
   "source": [
    "Q6: What is a null and alternative hypothesis? Give some examples."
   ]
  },
  {
   "cell_type": "markdown",
   "id": "d522e53c",
   "metadata": {},
   "source": [
    "In statistical hypothesis testing, a null hypothesis and an alternative hypothesis are two complementary statements that are used to test a claim about a population parameter (such as the population mean or the population proportion).\n",
    "\n",
    "The null hypothesis (H0) is a statement that assumes there is no significant difference between the sample and the population, or that there is no relationship between the variables being tested. The null hypothesis is often denoted by a symbol such as μ0 or p0, where μ represents the population mean and p represents the population proportion. The null hypothesis is assumed to be true unless there is sufficient evidence to reject it.\n",
    "\n",
    "The alternative hypothesis (Ha) is a statement that contradicts the null hypothesis and suggests that there is a significant difference between the sample and the population, or that there is a relationship between the variables being tested. The alternative hypothesis is often denoted by a symbol such as μ1 or p1, where μ represents the population mean and p represents the population proportion.\n",
    "\n",
    "Here are some examples of null and alternative hypotheses:\n",
    "\n",
    "Example 1: A company claims that the average weight of their products is 10 ounces. A researcher collects a sample of the products and wants to test the claim.\n",
    "Null hypothesis: The population mean weight of the products is equal to 10 ounces (μ = 10).\n",
    "Alternative hypothesis: The population mean weight of the products is not equal to 10 ounces (μ ≠ 10).\n",
    "\n",
    "Example 2: A doctor wants to test if a new drug reduces blood pressure in patients. The current standard treatment has an average blood pressure of 130 mmHg.\n",
    "Null hypothesis: The population mean blood pressure of patients on the new drug is equal to 130 mmHg (μ = 130).\n",
    "Alternative hypothesis: The population mean blood pressure of patients on the new drug is less than 130 mmHg (μ < 130).\n",
    "\n",
    "Example 3: A politician wants to know if the proportion of voters who support a particular policy is more than 50%.\n",
    "Null hypothesis: The population proportion of voters who support the policy is equal to 50% (p = 0.5).\n",
    "Alternative hypothesis: The population proportion of voters who support the policy is greater than 50% (p > 0.5)."
   ]
  },
  {
   "cell_type": "code",
   "execution_count": null,
   "id": "020d6d52",
   "metadata": {},
   "outputs": [],
   "source": [
    "Q7: Write down the steps involved in hypothesis testing."
   ]
  },
  {
   "cell_type": "markdown",
   "id": "1426d6e1",
   "metadata": {},
   "source": [
    "Hypothesis testing is a process used to evaluate the strength of evidence against a null hypothesis. Here are the steps involved in hypothesis testing:\n",
    "\n",
    "1) State the null hypothesis (H0) and the alternative hypothesis (Ha). The null hypothesis is the default assumption, while the alternative hypothesis is the claim that is being tested.\n",
    "\n",
    "2) Determine the significance level (α) of the test. The significance level is the probability of rejecting the null hypothesis when it is actually true. Typically, the significance level is set to 0.05 or 0.01.\n",
    "\n",
    "3) Collect sample data and calculate the test statistic. The test statistic is a measure of how far the sample estimate is from the hypothesized population value, in terms of the standard error of the estimate.\n",
    "\n",
    "4) Calculate the p-value associated with the test statistic. The p-value is the probability of observing a test statistic as extreme as the one obtained, assuming that the null hypothesis is true.\n",
    "\n",
    "5) Compare the p-value to the significance level. If the p-value is less than or equal to the significance level, reject the null hypothesis and conclude that there is sufficient evidence to support the alternative hypothesis. Otherwise, fail to reject the null hypothesis and conclude that there is not enough evidence to support the alternative hypothesis.\n",
    "\n",
    "6) Interpret the results of the test in the context of the problem being studied. Draw conclusions about the population parameter of interest based on the results of the test.\n",
    "\n",
    "It's important to note that hypothesis testing is just one part of the statistical inference process, which involves making generalizations about a population based on a sample. Hypothesis testing is used to evaluate specific claims about a population parameter, but other statistical techniques (such as confidence intervals) may be more appropriate for estimating the value of the parameter."
   ]
  },
  {
   "cell_type": "code",
   "execution_count": null,
   "id": "0e1acc5e",
   "metadata": {},
   "outputs": [],
   "source": [
    "Q8. Define p-value and explain its significance in hypothesis testing."
   ]
  },
  {
   "cell_type": "markdown",
   "id": "0e2af2d3",
   "metadata": {},
   "source": [
    "In hypothesis testing, the p-value is the probability of obtaining a test statistic as extreme or more extreme than the observed one, given that the null hypothesis is true. The p-value represents the strength of the evidence against the null hypothesis, and it helps to determine whether the null hypothesis should be rejected or not.\n",
    "\n",
    "If the p-value is small (less than the chosen level of significance), it indicates that the observed data is unlikely to have occurred by chance alone, assuming that the null hypothesis is true. This suggests that the alternative hypothesis is more plausible, and there is strong evidence to reject the null hypothesis.\n",
    "\n",
    "On the other hand, if the p-value is large (greater than the chosen level of significance), it indicates that the observed data is not unusual or surprising, given that the null hypothesis is true. This suggests that the null hypothesis cannot be rejected, and there is not enough evidence to support the alternative hypothesis.\n",
    "\n",
    "The significance level, which is typically set at 0.05 or 0.01, is the threshold that is used to determine whether the p-value is small enough to reject the null hypothesis. If the p-value is less than the significance level, the null hypothesis is rejected, and the results are said to be statistically significant. If the p-value is greater than the significance level, the null hypothesis cannot be rejected, and the results are said to be statistically non-significant.\n",
    "\n",
    "In summary, the p-value is a measure of the strength of evidence against the null hypothesis, and it plays a crucial role in determining whether the null hypothesis should be rejected or not. The smaller the p-value, the stronger the evidence against the null hypothesis, and the more likely it is that the alternative hypothesis is true."
   ]
  },
  {
   "cell_type": "code",
   "execution_count": null,
   "id": "5a25f184",
   "metadata": {},
   "outputs": [],
   "source": [
    "Q9. Generate a Student's t-distribution plot using Python's matplotlib library, with the degrees of freedom\n",
    "parameter set to 10."
   ]
  },
  {
   "cell_type": "code",
   "execution_count": 2,
   "id": "0619a1ac",
   "metadata": {},
   "outputs": [
    {
     "data": {
      "image/png": "[encoded data removed]",
      "text/plain": [
       "<Figure size 640x480 with 1 Axes>"
      ]
     },
     "metadata": {},
     "output_type": "display_data"
    }
   ],
   "source": [
    "import numpy as np\n",
    "import matplotlib.pyplot as plt\n",
    "\n",
    "df = 10 # degrees of freedom\n",
    "\n",
    "x = np.linspace(-4, 4, 1000) # create a range of values for the x-axis\n",
    "\n",
    "# calculate the probability density function (PDF) of the t-distribution\n",
    "pdf = (1 / (np.sqrt(df) * np.abs(np.pi))) * ((1 + (x ** 2) / df) ** (-0.5 * (df + 1)))\n",
    "\n",
    "# create the plot\n",
    "fig, ax = plt.subplots()\n",
    "ax.plot(x, pdf, linewidth=2, color='blue')\n",
    "\n",
    "# set the axis labels and title\n",
    "ax.set_xlabel('x')\n",
    "ax.set_ylabel('PDF')\n",
    "ax.set_title('Student\\'s t-Distribution (df = 10)')\n",
    "\n",
    "plt.show()"
   ]
  },
  {
   "cell_type": "code",
   "execution_count": null,
   "id": "ca85fbc8",
   "metadata": {},
   "outputs": [],
   "source": [
    "'''This code creates a range of values for the x-axis from -4 to 4, calculates the probability \n",
    "density function (PDF) of the t-distribution with 10 degrees of freedom using the formula, \n",
    "and then plots the PDF using the plot function of matplotlib. The resulting plot shows the \n",
    "shape of the t-distribution with the specified degrees of freedom.'''"
   ]
  },
  {
   "cell_type": "code",
   "execution_count": null,
   "id": "11aaa553",
   "metadata": {},
   "outputs": [],
   "source": [
    "Q10. Write a Python program to calculate the two-sample t-test for independent samples, given two\n",
    "random samples of equal size and a null hypothesis that the population means are equal."
   ]
  },
  {
   "cell_type": "code",
   "execution_count": 3,
   "id": "586d52cf",
   "metadata": {},
   "outputs": [
    {
     "name": "stdout",
     "output_type": "stream",
     "text": [
      "Sample 1 mean: 9.95\n",
      "Sample 2 mean: 11.93\n",
      "t-statistic: -4.83\n",
      "p-value: 0.0000\n"
     ]
    }
   ],
   "source": [
    "import numpy as np\n",
    "from scipy.stats import ttest_ind\n",
    "\n",
    "# Generate two random samples of equal size\n",
    "sample1 = np.random.normal(loc=10, scale=2, size=50)\n",
    "sample2 = np.random.normal(loc=12, scale=2, size=50)\n",
    "\n",
    "# Calculate the t-test statistic and p-value using the ttest_ind function from scipy.stats\n",
    "t_statistic, p_value = ttest_ind(sample1, sample2)\n",
    "\n",
    "# Print the results\n",
    "print(\"Sample 1 mean: {:.2f}\".format(np.mean(sample1)))\n",
    "print(\"Sample 2 mean: {:.2f}\".format(np.mean(sample2)))\n",
    "print(\"t-statistic: {:.2f}\".format(t_statistic))\n",
    "print(\"p-value: {:.4f}\".format(p_value))"
   ]
  },
  {
   "cell_type": "markdown",
   "id": "e6b2bf21",
   "metadata": {},
   "source": [
    "This code first generates two random samples of equal size (in this case, size 50) using the numpy.random.normal function with different means and standard deviations. Then, it calculates the t-test statistic and p-value using the scipy.stats.ttest_ind function, which performs a two-sample t-test assuming equal variances between the two groups. Finally, it prints out the sample means, t-statistic, and p-value."
   ]
  },
  {
   "cell_type": "code",
   "execution_count": null,
   "id": "69ea2a35",
   "metadata": {},
   "outputs": [],
   "source": [
    "Q11: What is Student’s t distribution? When to use the t-Distribution."
   ]
  },
  {
   "cell_type": "markdown",
   "id": "989dfab5",
   "metadata": {},
   "source": [
    "Student's t-distribution is a probability distribution that arises from the estimation of the mean of a normally distributed population, when the sample size is small and the population standard deviation is unknown. It is used as a reference distribution for hypothesis testing, confidence interval estimation, and other statistical inference procedures.\n",
    "\n",
    "The t-distribution is similar to the standard normal distribution (i.e., the Z-distribution) in shape, but it has heavier tails and is more spread out. The shape of the t-distribution depends on the degrees of freedom (df), which is equal to the sample size minus one. As the sample size increases, the t-distribution approaches the normal distribution.\n",
    "\n",
    "The t-distribution is typically used in the following situations:\n",
    "\n",
    "1) When the sample size is small (i.e., n < 30) and the population standard deviation is unknown.\n",
    "\n",
    "2) When the population is normally distributed, but the sample size is too small to rely on the central limit theorem.\n",
    "\n",
    "3) When conducting hypothesis testing or confidence interval estimation for the population mean, and the population standard deviation is unknown.\n",
    "\n",
    "In general, the t-distribution is used in situations where the normal distribution is not applicable due to small sample size or unknown population standard deviation."
   ]
  },
  {
   "cell_type": "code",
   "execution_count": null,
   "id": "89463590",
   "metadata": {},
   "outputs": [],
   "source": [
    "Q12: What is t-statistic? State the formula for t-statistic."
   ]
  },
  {
   "cell_type": "markdown",
   "id": "eddaf293",
   "metadata": {},
   "source": [
    "The t-statistic is a test statistic that measures the difference between the sample mean and the null hypothesis value in units of the standard error. It is used in hypothesis testing to determine whether the difference between the sample mean and the null hypothesis value is statistically significant.\n",
    "\n",
    "The formula for the t-statistic is:\n",
    "\n",
    "t = (x̄ - μ) / (s / √n)\n",
    "\n",
    "where:\n",
    "\n",
    "x̄ is the sample mean\n",
    "μ is the null hypothesis value of the population mean\n",
    "s is the sample standard deviation\n",
    "n is the sample size\n",
    "\n",
    "The t-statistic represents how many standard errors the sample mean is away from the null hypothesis value. If the t-statistic is large, it suggests that the difference between the sample mean and the null hypothesis value is unlikely to have occurred by chance, and therefore the null hypothesis can be rejected in favor of the alternative hypothesis. The magnitude and direction of the t-statistic depend on the difference between the sample mean and the null hypothesis value, the variability of the sample, and the sample size."
   ]
  },
  {
   "cell_type": "code",
   "execution_count": null,
   "id": "95d4abcd",
   "metadata": {},
   "outputs": [],
   "source": [
    "Q13. A coffee shop owner wants to estimate the average daily revenue for their shop. They take a random\n",
    "sample of 50 days and find the sample mean revenue to be $500 with a standard deviation of $50.\n",
    "Estimate the population mean revenue with a 95% confidence interval."
   ]
  },
  {
   "cell_type": "markdown",
   "id": "84b94d4c",
   "metadata": {},
   "source": [
    "To estimate the population mean revenue with a 95% confidence interval, we can use the t-distribution since the population standard deviation is unknown and the sample size is relatively small (n = 50). The formula for the confidence interval is:\n",
    "\n",
    "CI = x̄ ± t * (s/√n)\n",
    "\n",
    "where:\n",
    "\n",
    "x̄ is the sample mean revenue\n",
    "s is the sample standard deviation of revenue\n",
    "n is the sample size (number of days)\n",
    "t* is the critical t-value from the t-distribution with n-1 degrees of freedom and a 95% confidence level\n",
    "\n",
    "First, we need to find the critical t-value. Since we have n-1 = 49 degrees of freedom and a 95% confidence level, we can use the t-distribution table or the t.ppf() function from the scipy.stats module in Python:"
   ]
  },
  {
   "cell_type": "code",
   "execution_count": 4,
   "id": "0b7793eb",
   "metadata": {},
   "outputs": [
    {
     "name": "stdout",
     "output_type": "stream",
     "text": [
      "Critical t-value: 2.009575234489209\n"
     ]
    }
   ],
   "source": [
    "import scipy.stats as stats\n",
    "\n",
    "# Degrees of freedom\n",
    "df = 49\n",
    "\n",
    "# Critical t-value for 95% confidence level\n",
    "t_crit = stats.t.ppf(0.975, df)  # 2-tailed test\n",
    "\n",
    "print(\"Critical t-value:\", t_crit)"
   ]
  },
  {
   "cell_type": "code",
   "execution_count": 5,
   "id": "f7c22a40",
   "metadata": {},
   "outputs": [
    {
     "name": "stdout",
     "output_type": "stream",
     "text": [
      "95% Confidence Interval for population mean revenue: ($485.79, $514.21)\n"
     ]
    }
   ],
   "source": [
    "##Next, we can substitute the values into the formula and calculate the confidence interval:\n",
    "\n",
    "import numpy as np\n",
    "\n",
    "# Sample mean and standard deviation\n",
    "sample_mean = 500\n",
    "sample_std = 50\n",
    "\n",
    "# Sample size\n",
    "n = 50\n",
    "\n",
    "# Calculate the standard error\n",
    "std_error = sample_std / np.sqrt(n)\n",
    "\n",
    "# Calculate the confidence interval\n",
    "lower_ci = sample_mean - t_crit * std_error\n",
    "upper_ci = sample_mean + t_crit * std_error\n",
    "\n",
    "# Print the confidence interval\n",
    "print(\"95% Confidence Interval for population mean revenue: (${:.2f}, ${:.2f})\".format(lower_ci, upper_ci))"
   ]
  },
  {
   "cell_type": "code",
   "execution_count": null,
   "id": "e2833df0",
   "metadata": {},
   "outputs": [],
   "source": [
    "Q14. A researcher hypothesizes that a new drug will decrease blood pressure by 10 mmHg. They conduct a\n",
    "clinical trial with 100 patients and find that the sample mean decrease in blood pressure is 8 mmHg with a\n",
    "standard deviation of 3 mmHg. Test the hypothesis with a significance level of 0.05."
   ]
  },
  {
   "cell_type": "markdown",
   "id": "042e94a5",
   "metadata": {},
   "source": [
    "To test the hypothesis that the new drug decreases blood pressure by 10 mmHg with a significance level of 0.05, we can use a one-sample t-test. The null and alternative hypotheses are:\n",
    "\n",
    "H0: The true mean decrease in blood pressure is equal to 10 mmHg.\n",
    "Ha: The true mean decrease in blood pressure is less than 10 mmHg.\n",
    "\n",
    "We can use a one-tailed test since the alternative hypothesis is directional (less than).\n",
    "\n",
    "The test statistic for the one-sample t-test is:\n",
    "\n",
    "t = (x̄ - μ) / (s / sqrt(n))\n",
    "\n",
    "where:\n",
    "\n",
    "x̄ is the sample mean decrease in blood pressure\n",
    "μ is the hypothesized population mean decrease in blood pressure (10 mmHg in this case)\n",
    "s is the sample standard deviation of decrease in blood pressure\n",
    "n is the sample size (number of patients)\n",
    "The critical t-value can be found using the t-distribution table or the t.ppf() function from the scipy.stats module in Python:"
   ]
  },
  {
   "cell_type": "code",
   "execution_count": 8,
   "id": "6e2a9091",
   "metadata": {},
   "outputs": [
    {
     "name": "stdout",
     "output_type": "stream",
     "text": [
      "t-statistic: -6.666666666666667\n",
      "Critical t-value: -1.6603911559963902\n",
      "p-value: 7.506144504985082e-10\n"
     ]
    }
   ],
   "source": [
    "import numpy as np\n",
    "import scipy.stats as stats\n",
    "\n",
    "# Given data\n",
    "n = 100\n",
    "sample_mean = 8\n",
    "sample_std = 3\n",
    "pop_mean = 10\n",
    "\n",
    "# Calculate the t-statistic\n",
    "t = (sample_mean - pop_mean) / (sample_std / np.sqrt(n))\n",
    "\n",
    "# Calculate the degrees of freedom\n",
    "df = n - 1\n",
    "\n",
    "# Calculate the critical t-value for a one-tailed test with a 5% significance level\n",
    "t_critical = stats.t.ppf(0.05, df)\n",
    "\n",
    "# Calculate the p-value\n",
    "p_value = stats.t.sf(abs(t), df)  # lower-tail test\n",
    "\n",
    "# Print the results\n",
    "print(\"t-statistic:\", t)\n",
    "print(\"Critical t-value:\", t_critical)\n",
    "print(\"p-value:\", p_value)"
   ]
  },
  {
   "cell_type": "markdown",
   "id": "6978e24e",
   "metadata": {},
   "source": [
    "The t-statistic is -6.66, which is less than the critical t-value of -1.660, and the p-value is less than 0.05. Therefore, we can reject the null hypothesis and conclude that the new drug may not be as effective as hypothesized in decreasing blood pressure by 10 mmHg."
   ]
  },
  {
   "cell_type": "code",
   "execution_count": null,
   "id": "21a0a8a9",
   "metadata": {},
   "outputs": [],
   "source": [
    "Q15. An electronics company produces a certain type of product with a mean weight of 5 pounds and a\n",
    "standard deviation of 0.5 pounds. A random sample of 25 products is taken, and the sample mean weight\n",
    "is found to be 4.8 pounds. Test the hypothesis that the true mean weight of the products is less than 5\n",
    "pounds with a significance level of 0.01."
   ]
  },
  {
   "cell_type": "markdown",
   "id": "3d1b227c",
   "metadata": {},
   "source": [
    "To test the hypothesis, we will use a one-tailed t-test with the following null and alternative hypotheses:\n",
    "\n",
    "Null hypothesis: The true mean weight of the products is equal to 5 pounds.\n",
    "Alternative hypothesis: The true mean weight of the products is less than 5 pounds.\n",
    "We can calculate the t-statistic using the following formula:\n",
    "\n",
    "t = (sample_mean - pop_mean) / (sample_std / sqrt(n))\n",
    "\n",
    "Where:\n",
    "\n",
    "sample_mean = 4.8 pounds (sample mean weight)\n",
    "pop_mean = 5 pounds (population mean weight)\n",
    "sample_std = 0.5 pounds (population standard deviation)\n",
    "n = 25 (sample size)"
   ]
  },
  {
   "cell_type": "code",
   "execution_count": 9,
   "id": "8ecd3cad",
   "metadata": {},
   "outputs": [
    {
     "name": "stdout",
     "output_type": "stream",
     "text": [
      "t-statistic: -2.0000000000000018\n",
      "Critical t-value: -2.4921594731575767\n",
      "p-value: 0.02846992496829572\n",
      "Fail to reject null hypothesis. The true mean weight of the products is equal to or greater than 5 pounds.\n"
     ]
    }
   ],
   "source": [
    "import numpy as np\n",
    "import scipy.stats as stats\n",
    "\n",
    "# Given data\n",
    "sample_mean = 4.8\n",
    "pop_mean = 5\n",
    "sample_std = 0.5\n",
    "n = 25\n",
    "significance_level = 0.01\n",
    "\n",
    "# Calculate the t-statistic\n",
    "t = (sample_mean - pop_mean) / (sample_std / np.sqrt(n))\n",
    "\n",
    "# Calculate the degrees of freedom\n",
    "df = n - 1\n",
    "\n",
    "# Calculate the critical t-value for a one-tailed test with a 1% significance level\n",
    "t_critical = stats.t.ppf(significance_level, df)\n",
    "\n",
    "# Calculate the p-value\n",
    "p_value = stats.t.sf(abs(t), df)  # lower-tail test\n",
    "\n",
    "# Print the results\n",
    "print(\"t-statistic:\", t)\n",
    "print(\"Critical t-value:\", t_critical)\n",
    "print(\"p-value:\", p_value)\n",
    "\n",
    "# Test the hypothesis\n",
    "if t < t_critical:\n",
    "    print(\"Reject null hypothesis. The true mean weight of the products is less than 5 pounds.\")\n",
    "else:\n",
    "    print(\"Fail to reject null hypothesis. The true mean weight of the products is equal to or greater than 5 pounds.\")"
   ]
  },
  {
   "cell_type": "code",
   "execution_count": null,
   "id": "6e1f9cbb",
   "metadata": {},
   "outputs": [],
   "source": [
    "Q16. Two groups of students are given different study materials to prepare for a test. The \n",
    "first group (n1 = 30) has a mean score of 80 with a standard deviation of 10, and the second\n",
    "group (n2 = 40) has a mean score of 75 with a standard deviation of 8. Test the hypothesis\n",
    "that the population means for the two groups are equal with a significance level of 0.01."
   ]
  },
  {
   "cell_type": "markdown",
   "id": "d0744925",
   "metadata": {},
   "source": [
    "We are given two independent groups of students with their sample means, sample standard deviations, and sample sizes as follows:\n",
    "\n",
    "1) First group:\n",
    "\n",
    "n1 = 30\n",
    "sample mean 1 (x̄1) = 80\n",
    "sample standard deviation 1 (s1) = 10\n",
    "\n",
    "\n",
    "2) Second group:\n",
    "\n",
    "n2 = 40\n",
    "sample mean 2 (x̄2) = 75\n",
    "sample standard deviation 2 (s2) = 8\n",
    "\n",
    "The null and alternative hypotheses are:\n",
    "\n",
    "Null hypothesis: The population means for the two groups are equal.\n",
    "\n",
    "Alternative hypothesis: The population means for the two groups are not equal.\n",
    "\n",
    "The test statistic (t) for the two-sample t-test with equal variances is given by:\n",
    "\n",
    "t = (x1 - x2) / (sp * sqrt(1/n1 + 1/n2))\n",
    "t = (80 - 75) / (9.165 * sqrt(1/30 + 1/40))\n",
    "t = 2.85\n",
    "\n",
    "The degrees of freedom (df) for the t-distribution can be calculated using the following formula:\n",
    "\n",
    "df = n1 + n2 - 2\n",
    "df = 68\n",
    "\n",
    "Using a significance level of 0.01 and 68 degrees of freedom, the critical t-value (tc) can be found from a t-distribution table or calculator. For a two-tailed test, the critical t-value is ±2.601.\n",
    "\n",
    "\n",
    "Therefore, the calculated t-value of 2.85 is greater than the critical t-value of ±2.601, which means that the test statistic falls in the rejection region. So, we reject the null hypothesis and conclude that there is sufficient evidence to suggest that the population means for the two groups are not equal."
   ]
  },
  {
   "cell_type": "markdown",
   "id": "051e2d5f",
   "metadata": {},
   "source": [
    "Q17. A marketing company wants to estimate the average number of ads watched by viewers during a TV program. They take a random sample of 50 viewers and find that the sample mean is 4 with a standard deviation of 1.5. Estimate the population mean with a 99% confidence interval."
   ]
  },
  {
   "cell_type": "markdown",
   "id": "35a7f641",
   "metadata": {},
   "source": [
    "To estimate the population mean with a 99% confidence interval, we can use the following formula:\n",
    "\n",
    "Confidence interval = sample mean ± z-score * (standard deviation / square root of sample size)\n",
    "\n",
    "where the z-score is determined by the level of confidence required. Since we want a 99% confidence interval, the z-score is 2.576 (obtained from a standard normal distribution table or calculator).\n",
    "\n",
    "Plugging in the given values, we get:\n",
    "\n",
    "Confidence interval = 4 ± 2.576 * (1.5 / √50)\n",
    "\n",
    "Simplifying this expression gives us:\n",
    "\n",
    "Confidence interval = 4 ± 0.693\n",
    "\n",
    "So the 99% confidence interval for the population mean is (3.307, 4.693). This means that we can be 99% confident that the true population mean lies within this interval."
   ]
  }
 ],
 "metadata": {
  "kernelspec": {
   "display_name": "Python 3 (ipykernel)",
   "language": "python",
   "name": "python3"
  },
  "language_info": {
   "codemirror_mode": {
    "name": "ipython",
    "version": 3
   },
   "file_extension": ".py",
   "mimetype": "text/x-python",
   "name": "python",
   "nbconvert_exporter": "python",
   "pygments_lexer": "ipython3",
   "version": "3.10.6"
  }
 },
 "nbformat": 4,
 "nbformat_minor": 5
}
