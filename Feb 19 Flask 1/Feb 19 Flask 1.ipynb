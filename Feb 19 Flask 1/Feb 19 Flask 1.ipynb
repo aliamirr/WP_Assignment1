{
 "cells": [
  {
   "cell_type": "code",
   "execution_count": null,
   "id": "ae8e6eee",
   "metadata": {},
   "outputs": [],
   "source": [
    "Q1. What is Flask Framework? What are the advantages of Flask Framework?"
   ]
  },
  {
   "cell_type": "markdown",
   "id": "bbfd8ae8",
   "metadata": {},
   "source": [
    "Flask is a micro web framework written in Python. It is designed to be lightweight and simple to use, making it a popular choice for building web applications and APIs. Flask is built on top of the Werkzeug toolkit and the Jinja2 template engine.\n",
    "\n",
    "Some of the advantages of using Flask framework are:\n",
    "\n",
    "1) Lightweight and simple: Flask is designed to be lightweight and easy to use. It has a minimalistic core that makes it easy to get started with, and it is easy to extend with additional libraries and tools as needed.\n",
    "\n",
    "2) Flexible and customizable: Flask is highly customizable, and allows developers to tailor their applications to their specific needs. It is easy to modify and extend Flask to add new functionality, and there are many plugins and extensions available for Flask that make it easy to add features like authentication, database integration, and more.\n",
    "\n",
    "3) Modular and scalable: Flask applications are modular and scalable, making them easy to maintain and scale as needed. Flask provides a simple routing mechanism that allows developers to map URLs to functions, making it easy to build complex applications with multiple endpoints.\n",
    "\n",
    "4) Easy to learn: Flask has a simple and intuitive API that makes it easy for developers to get started with. It has a small learning curve, making it a popular choice for beginners and experienced developers alike.\n",
    "\n",
    "5) Extensive documentation: Flask has extensive documentation that makes it easy to learn and use. The documentation includes a quickstart guide, tutorials, and API references, making it easy for developers to get up and running with Flask quickly.\n",
    "\n",
    "Overall, Flask is a powerful and flexible web framework that provides developers with the tools they need to build robust and scalable web applications and APIs. Its simplicity, flexibility, and ease of use make it a popular choice for developers of all skill levels."
   ]
  },
  {
   "cell_type": "code",
   "execution_count": null,
   "id": "ee15bd13",
   "metadata": {},
   "outputs": [],
   "source": [
    "Q2. Create a simple Flask application to display ‘Hello World!!’. Attach the screenshot of \n",
    "the output in Jupyter Notebook."
   ]
  },
  {
   "cell_type": "markdown",
   "id": "c61714a8",
   "metadata": {},
   "source": [
    "<img src=\"hello.png\">"
   ]
  },
  {
   "cell_type": "code",
   "execution_count": null,
   "id": "f182675b",
   "metadata": {},
   "outputs": [],
   "source": [
    "Q3. What is App routing in Flask? Why do we use app routes?"
   ]
  },
  {
   "cell_type": "markdown",
   "id": "58cb57e5",
   "metadata": {},
   "source": [
    "App routing in Flask is a mechanism used to map URLs or web addresses to specific functions or views in a Flask application. This is achieved through the use of decorators, which are special Python functions that modify the behavior of other functions. In Flask, the @app.route() decorator is used to specify the URL that should be mapped to a particular function or view.\n",
    "\n",
    "For example, if we have a Flask application with a function named hello_world() that we want to map to the root URL /, we can do so using the following code:"
   ]
  },
  {
   "cell_type": "code",
   "execution_count": null,
   "id": "50a13aa7",
   "metadata": {},
   "outputs": [],
   "source": [
    "from flask import Flask\n",
    "\n",
    "app = Flask(__name__)\n",
    "\n",
    "@app.route('/')\n",
    "def hello_world():\n",
    "    return 'Hello, World!'"
   ]
  },
  {
   "cell_type": "markdown",
   "id": "e62eb1f3",
   "metadata": {},
   "source": [
    "In this example, we have used the @app.route() decorator to specify that the hello_world() function should be mapped to the root URL /.\n",
    "\n",
    "App routing is important in Flask because it allows us to define the behavior of our application in response to different requests from clients. By mapping URLs to specific functions or views, we can define the behavior of our application in a way that is easy to understand and maintain.\n",
    "\n",
    "App routing also allows us to create more complex applications with multiple views or endpoints. By mapping different URLs to different functions or views, we can create a more sophisticated web application with multiple pages or features.\n",
    "\n",
    "Overall, app routing is a key feature of Flask that allows developers to build robust and flexible web applications that can handle a wide range of requests and use cases."
   ]
  },
  {
   "cell_type": "code",
   "execution_count": null,
   "id": "7179ae29",
   "metadata": {},
   "outputs": [],
   "source": [
    "Q4. Create a “/welcome” route to display the welcome message “Welcome to ABC Corporation” \n",
    "and a “/” route to show the following details:\n",
    "    \n",
    "Company Name: ABC Corporation\n",
    "Location: India\n",
    "Contact Detail: 999-999-9999\n",
    "Attach the screenshot of the output in Jupyter Notebook."
   ]
  },
  {
   "cell_type": "code",
   "execution_count": null,
   "id": "10be7fdf",
   "metadata": {},
   "outputs": [],
   "source": [
    "from flask import Flask\n",
    "\n",
    "app = Flask(__name__)\n",
    "\n",
    "@app.route(\"/welcome\")\n",
    "def welcome():\n",
    "    return \"Welcome to ABC Corporation\"\n",
    "\n",
    "\n",
    "@app.route(\"/\")\n",
    "def company_details():\n",
    "    return \"Company Name: ABC Corporation <br> Location: India <br> Contact Detail: 999-999-9999\"\n",
    "\n",
    "if __name__ == '__main__':\n",
    "    app.run(host=\"0.0.0.0\")"
   ]
  },
  {
   "cell_type": "markdown",
   "id": "1e54cc6f",
   "metadata": {},
   "source": [
    "<img src=\"welcome.png\">"
   ]
  },
  {
   "cell_type": "markdown",
   "id": "83c2b5a0",
   "metadata": {},
   "source": [
    "<img src=\"company.png\">"
   ]
  },
  {
   "cell_type": "code",
   "execution_count": null,
   "id": "b36aaef9",
   "metadata": {},
   "outputs": [],
   "source": [
    "Q5. What function is used in Flask for URL Building? Write a Python code to demonstrate the \n",
    "working of the url_for() function."
   ]
  },
  {
   "cell_type": "markdown",
   "id": "3fb3c98d",
   "metadata": {},
   "source": [
    "The url_for() function is used in Flask for URL building. It takes the name of a function as its first argument and generates a URL for that function based on the application's URL rules.\n",
    "\n",
    "Here's an example of how to use the url_for() function in Flask:"
   ]
  },
  {
   "cell_type": "code",
   "execution_count": null,
   "id": "95a46fbd",
   "metadata": {},
   "outputs": [],
   "source": [
    "from flask import Flask, url_for\n",
    "\n",
    "app = Flask(__name__)\n",
    "\n",
    "@app.route('/')\n",
    "def home():\n",
    "    return 'This is the home page.'\n",
    "\n",
    "@app.route('/about')\n",
    "def about():\n",
    "    return 'This is the about page.'\n",
    "\n",
    "@app.route('/contact')\n",
    "def contact():\n",
    "    return 'This is the contact page.'\n",
    "\n",
    "if __name__ == '__main__':\n",
    "    with app.test_request_context():\n",
    "        print(url_for('home'))\n",
    "        print(url_for('about'))\n",
    "        print(url_for('contact'))"
   ]
  },
  {
   "cell_type": "markdown",
   "id": "7872eeb5",
   "metadata": {},
   "source": [
    "In this example, we have defined three routes using the @app.route() decorator: home(), about(), and contact(). We then use the url_for() function to generate URLs for each of these functions.\n",
    "\n",
    "When we run the application and visit each of the defined routes, the url_for() function will generate the appropriate URL for the specified function. We can see this in action by running the application and looking at the output:"
   ]
  },
  {
   "cell_type": "code",
   "execution_count": null,
   "id": "fcc969be",
   "metadata": {},
   "outputs": [],
   "source": [
    "/\n",
    "/about\n",
    "/contact"
   ]
  },
  {
   "cell_type": "markdown",
   "id": "04fb5ef9",
   "metadata": {},
   "source": [
    "As we can see, the url_for() function has generated the correct URLs for each of the three functions, based on the application's URL rules. This is a useful feature of Flask that allows us to create dynamic, flexible web applications that can handle a wide range of use cases."
   ]
  }
 ],
 "metadata": {
  "kernelspec": {
   "display_name": "Python 3 (ipykernel)",
   "language": "python",
   "name": "python3"
  },
  "language_info": {
   "codemirror_mode": {
    "name": "ipython",
    "version": 3
   },
   "file_extension": ".py",
   "mimetype": "text/x-python",
   "name": "python",
   "nbconvert_exporter": "python",
   "pygments_lexer": "ipython3",
   "version": "3.10.6"
  }
 },
 "nbformat": 4,
 "nbformat_minor": 5
}
