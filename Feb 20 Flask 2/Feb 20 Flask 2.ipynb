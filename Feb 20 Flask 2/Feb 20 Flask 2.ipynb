{
 "cells": [
  {
   "cell_type": "code",
   "execution_count": null,
   "id": "b78ba4b9",
   "metadata": {},
   "outputs": [],
   "source": [
    "Q1. Explain GET and POST methods."
   ]
  },
  {
   "cell_type": "markdown",
   "id": "1189de2f",
   "metadata": {},
   "source": [
    "HTTP (Hypertext Transfer Protocol) is the protocol used for communication between web browsers and web servers. The two most common HTTP methods are GET and POST. Here's a brief explanation of each:\n",
    "\n",
    "GET method:\n",
    "\n",
    "GET is the most common method used in HTTP. When you type a URL into your web browser and hit Enter, your browser sends a GET request to the server hosting the website you want to visit. A GET request is used to retrieve data from a server. When you visit a website, the server sends a response back to your browser, which is displayed on your screen.\n",
    "The GET method sends data as part of the URL or query string. It is useful when you want to retrieve information from a server without changing any data on the server. GET requests can be cached, so they are faster than POST requests. However, GET requests have a limit on the amount of data they can send.\n",
    "\n",
    "POST method:\n",
    "\n",
    "The POST method is used to send data to a server in order to create or update a resource. Unlike GET, POST requests do not send data as part of the URL or query string. Instead, data is sent in the request body. POST requests are used when you want to create, update, or delete data on a server.\n",
    "POST requests cannot be cached and are slower than GET requests. However, they can send much larger amounts of data than GET requests.\n",
    "\n",
    "In summary, GET is used to retrieve data from a server without changing any data on the server, while POST is used to send data to a server in order to create or update a resource."
   ]
  },
  {
   "cell_type": "code",
   "execution_count": null,
   "id": "d00cc26a",
   "metadata": {},
   "outputs": [],
   "source": [
    "Q2. Why is request used in Flask?"
   ]
  },
  {
   "cell_type": "markdown",
   "id": "5e378fd4",
   "metadata": {},
   "source": [
    "In Flask, the request module is used to handle incoming client requests made to the Flask web application. It provides a way to access and manipulate the data sent in a client request, such as form data, query parameters, headers, and cookies.\n",
    "\n",
    "The request object is a global variable in Flask that is available within the context of a request handling function. It contains various methods and attributes that allow you to access the data and metadata associated with the client request. For example, you can use the request.form attribute to access form data submitted via a POST request, or the request.args attribute to access query parameters submitted via a GET request.\n",
    "\n",
    "Some common use cases for the request module in Flask include:\n",
    "\n",
    "1) Accessing form data submitted via a POST request\n",
    "2) Retrieving query parameters submitted via a GET request\n",
    "3) Accessing headers and cookies sent with the client request\n",
    "4) Handling file uploads submitted via a multipart/form-data POST request\n",
    "5) Overall, the request module is an essential part of Flask and is used extensively in building web applications with Flask."
   ]
  },
  {
   "cell_type": "code",
   "execution_count": null,
   "id": "cf8e274c",
   "metadata": {},
   "outputs": [],
   "source": [
    "Q3. Why is redirect() used in Flask?"
   ]
  },
  {
   "cell_type": "markdown",
   "id": "3181f19b",
   "metadata": {},
   "source": [
    "In Flask, the redirect() function is used to redirect the client to a different URL. It is often used after processing a form submission or to redirect the client after completing some action in the application.\n",
    "\n",
    "Here are some common use cases for the redirect() function in Flask:\n",
    "\n",
    "1) Redirecting the client after processing a form submission: For example, if a user submits a form to update their profile, the redirect() function can be used to redirect the user to their profile page after the update is complete.\n",
    "\n",
    "2) Implementing authentication: If a user tries to access a page that requires authentication, the redirect() function can be used to redirect them to the login page.\n",
    "\n",
    "3) Handling errors: If an error occurs during processing of a request, the redirect() function can be used to redirect the user to an error page with an appropriate error message.\n",
    "\n",
    "Here's an example of how to use the redirect() function in Flask:"
   ]
  },
  {
   "cell_type": "code",
   "execution_count": null,
   "id": "38e849ca",
   "metadata": {},
   "outputs": [],
   "source": [
    "from flask import Flask, redirect, url_for\n",
    "\n",
    "app = Flask(__name__)\n",
    "\n",
    "@app.route('/')\n",
    "def index():\n",
    "    # Redirect the user to the about page\n",
    "    return redirect(url_for('about'))\n",
    "\n",
    "@app.route('/about')\n",
    "def about():\n",
    "    return 'This is the about page'\n",
    "\n",
    "if __name__ == '__main__':\n",
    "    app.run()"
   ]
  },
  {
   "cell_type": "code",
   "execution_count": null,
   "id": "344ac6ac",
   "metadata": {},
   "outputs": [],
   "source": [
    "Q4. What are templates in Flask? Why is the render_template() function used?"
   ]
  },
  {
   "cell_type": "markdown",
   "id": "053a3baa",
   "metadata": {},
   "source": [
    "In Flask, a template is a file that contains a combination of static and dynamic content. A template can include static content such as HTML, CSS, and JavaScript, as well as dynamic content that is generated at runtime based on the context in which the template is rendered.\n",
    "\n",
    "Flask uses the Jinja2 template engine, which allows developers to write templates that can be customized for each request.\n",
    "\n",
    "The render_template() function is used to render templates in Flask. This function takes the name of the template file as its first argument and any additional data to be passed to the template as keyword arguments.\n",
    "\n",
    "Here is an example of how the render_template() function is used:"
   ]
  },
  {
   "cell_type": "code",
   "execution_count": null,
   "id": "59d8c62c",
   "metadata": {},
   "outputs": [],
   "source": [
    "from flask import Flask, render_template\n",
    "\n",
    "app = Flask(__name__)\n",
    "\n",
    "@app.route('/')\n",
    "def index():\n",
    "    # Pass data to the template\n",
    "    name = 'John'\n",
    "    return render_template('index.html', name=name)\n",
    "\n",
    "if __name__ == '__main__':\n",
    "    app.run()"
   ]
  },
  {
   "cell_type": "markdown",
   "id": "65113246",
   "metadata": {},
   "source": [
    "In this example, the index() function renders the index.html template and passes the value of the name variable to the template as a keyword argument. The template can then use this value to dynamically generate content based on the value of the variable.\n",
    "\n",
    "The render_template() function searches for the specified template file in the templates directory of the Flask application, which should be created in the same directory as your Flask application script.\n",
    "\n",
    "Using templates in Flask can help developers to separate the logic of their application from the presentation of the data, which can make it easier to maintain and modify the application over time."
   ]
  },
  {
   "cell_type": "code",
   "execution_count": null,
   "id": "415165aa",
   "metadata": {},
   "outputs": [],
   "source": [
    "Q5. Create a simple API. Use Postman to test it. Attach the screenshot of the output in the\n",
    "Jupyter Notebook."
   ]
  },
  {
   "cell_type": "code",
   "execution_count": null,
   "id": "d0ef125e",
   "metadata": {},
   "outputs": [],
   "source": [
    "from flask import Flask, jsonify\n",
    "\n",
    "app = Flask(__name__)\n",
    "\n",
    "@app.route(\"/hello\", methods = ['GET'])\n",
    "def hello():\n",
    "    response = {'message':'Hello World!'}\n",
    "    return jsonify(response)\n",
    "\n",
    "if __name__==\"__main__\":\n",
    "    app.run(host=\"0.0.0.0\")"
   ]
  },
  {
   "cell_type": "markdown",
   "id": "42c7bde2",
   "metadata": {},
   "source": [
    "<img src=\"postman.png\">"
   ]
  },
  {
   "cell_type": "code",
   "execution_count": null,
   "id": "446a4dff",
   "metadata": {},
   "outputs": [],
   "source": []
  }
 ],
 "metadata": {
  "kernelspec": {
   "display_name": "Python 3 (ipykernel)",
   "language": "python",
   "name": "python3"
  },
  "language_info": {
   "codemirror_mode": {
    "name": "ipython",
    "version": 3
   },
   "file_extension": ".py",
   "mimetype": "text/x-python",
   "name": "python",
   "nbconvert_exporter": "python",
   "pygments_lexer": "ipython3",
   "version": "3.10.6"
  }
 },
 "nbformat": 4,
 "nbformat_minor": 5
}
